{
 "cells": [
  {
   "cell_type": "code",
   "execution_count": 7,
   "id": "0ef225eb",
   "metadata": {},
   "outputs": [],
   "source": [
    "import datetime\n",
    "from pyspark.sql import DataFrame, Row, SparkSession\n",
    "from pyspark.sql.types import *\n",
    "from pyspark.sql.functions import unix_timestamp, from_unixtime, col\n",
    "from pyspark.sql import functions as F"
   ]
  },
  {
   "cell_type": "code",
   "execution_count": 2,
   "id": "901f84fa",
   "metadata": {},
   "outputs": [],
   "source": [
    "fg1_schema = StructType([\n",
    "  StructField(\"id\", IntegerType(), True),\n",
    "  StructField(\"ts\", IntegerType(), True),\n",
    "  StructField(\"label\", StringType(), True)    \n",
    "])\n",
    "\n",
    "fg2_schema = StructType([\n",
    "  StructField(\"id_2\", IntegerType(), True),\n",
    "  StructField(\"ts_2\", IntegerType(), True),\n",
    "  StructField(\"f2\", StringType(), True)    \n",
    "])\n",
    "\n",
    "fg3_schema = StructType([\n",
    "  StructField(\"id_3\", IntegerType(), True),\n",
    "  StructField(\"ts_3\", IntegerType(), True),\n",
    "  StructField(\"f3\", StringType(), True)    \n",
    "])"
   ]
  },
  {
   "cell_type": "code",
   "execution_count": 3,
   "id": "a5091c87",
   "metadata": {},
   "outputs": [],
   "source": [
    "data1 = [[1, 5, \"1x\"],\n",
    "         [1, 7, \"1y\"],\n",
    "         [1, 4, \"1z\"],\n",
    "         [2, 6, \"2x\"],\n",
    "         [2, 8, \"2y\"]]\n",
    "\n",
    "data2 = [[1, 5, \"1x\"],\n",
    "         [1, 7, \"1y\"],\n",
    "         [1, 4, \"1z\"],\n",
    "         [2, 6, \"2x\"],\n",
    "         [2, 8, \"2y\"]]\n",
    "\n",
    "data3 = [[1, 10, \"f3-1-10\"],\n",
    "         [1, 1, \"f3-1-1\"],\n",
    "         [1, 6, \"f3-1-6\"],\n",
    "         [2, 2, \"f3-2-2\"],\n",
    "         [2, 8, \"f3-2-8\"]]"
   ]
  },
  {
   "cell_type": "code",
   "execution_count": 4,
   "id": "cd54de80",
   "metadata": {},
   "outputs": [],
   "source": [
    "data1 = [[1, 5, \"1x\"],\n",
    "         [1, 7, \"1y\"],\n",
    "         [1, 4, \"1z\"],\n",
    "         [2, 6, \"2x\"],\n",
    "         [2, 8, \"2y\"]]"
   ]
  },
  {
   "cell_type": "code",
   "execution_count": 5,
   "id": "ddd89981",
   "metadata": {},
   "outputs": [],
   "source": [
    "data3 = [[1, 10, \"f3-1-10\"],\n",
    "         [1, 1, \"f3-1-1\"],\n",
    "         [1, 6, \"f3-1-6\"],\n",
    "         [2, 2, \"f3-2-2\"],\n",
    "         [2, 8, \"f3-2-8\"]]"
   ]
  },
  {
   "cell_type": "code",
   "execution_count": 8,
   "id": "c6249e4d",
   "metadata": {},
   "outputs": [
    {
     "name": "stderr",
     "output_type": "stream",
     "text": [
      "WARNING: An illegal reflective access operation has occurred\n",
      "WARNING: Illegal reflective access by org.apache.spark.unsafe.Platform (file:/opt/homebrew/Caskroom/miniforge/base/envs/pyspark/lib/python3.10/site-packages/pyspark/jars/spark-unsafe_2.12-3.2.0.jar) to constructor java.nio.DirectByteBuffer(long,int)\n",
      "WARNING: Please consider reporting this to the maintainers of org.apache.spark.unsafe.Platform\n",
      "WARNING: Use --illegal-access=warn to enable warnings of further illegal reflective access operations\n",
      "WARNING: All illegal access operations will be denied in a future release\n",
      "Using Spark's default log4j profile: org/apache/spark/log4j-defaults.properties\n",
      "Setting default log level to \"WARN\".\n",
      "To adjust logging level use sc.setLogLevel(newLevel). For SparkR, use setLogLevel(newLevel).\n",
      "21/12/08 19:37:17 WARN NativeCodeLoader: Unable to load native-hadoop library for your platform... using builtin-java classes where applicable\n"
     ]
    }
   ],
   "source": [
    "spark = spark = SparkSession.builder.master(\"local\").appName(\"Three Way PIT\").config(\"spark.some.config.option\", \"some-value\").getOrCreate()"
   ]
  },
  {
   "cell_type": "code",
   "execution_count": 9,
   "id": "de9f46ac",
   "metadata": {},
   "outputs": [],
   "source": [
    "fg1 = spark.createDataFrame(data1, schema=fg1_schema) \n",
    "fg2 = spark.createDataFrame(data2, schema=fg2_schema) \n",
    "fg3 = spark.createDataFrame(data3, schema=fg3_schema) "
   ]
  },
  {
   "cell_type": "code",
   "execution_count": 10,
   "id": "1f27924f",
   "metadata": {},
   "outputs": [
    {
     "name": "stderr",
     "output_type": "stream",
     "text": []
    },
    {
     "data": {
      "text/plain": [
       "13"
      ]
     },
     "execution_count": 10,
     "metadata": {},
     "output_type": "execute_result"
    }
   ],
   "source": [
    "fg1.join(fg2, fg1.id == fg2.id_2).count()"
   ]
  },
  {
   "cell_type": "code",
   "execution_count": 11,
   "id": "049ac00b",
   "metadata": {},
   "outputs": [
    {
     "name": "stdout",
     "output_type": "stream",
     "text": [
      "+---+---+-----+----+----+---+\n",
      "| id| ts|label|id_2|ts_2| f2|\n",
      "+---+---+-----+----+----+---+\n",
      "|  1|  5|   1x|   1|   5| 1x|\n",
      "|  1|  5|   1x|   1|   7| 1y|\n",
      "|  1|  5|   1x|   1|   4| 1z|\n",
      "|  1|  7|   1y|   1|   5| 1x|\n",
      "|  1|  7|   1y|   1|   7| 1y|\n",
      "|  1|  7|   1y|   1|   4| 1z|\n",
      "|  1|  4|   1z|   1|   5| 1x|\n",
      "|  1|  4|   1z|   1|   7| 1y|\n",
      "|  1|  4|   1z|   1|   4| 1z|\n",
      "|  2|  6|   2x|   2|   6| 2x|\n",
      "|  2|  6|   2x|   2|   8| 2y|\n",
      "|  2|  8|   2y|   2|   6| 2x|\n",
      "|  2|  8|   2y|   2|   8| 2y|\n",
      "+---+---+-----+----+----+---+\n",
      "\n"
     ]
    }
   ],
   "source": [
    "fg1.join(fg2, fg1.id == fg2.id_2).show(50)"
   ]
  },
  {
   "cell_type": "code",
   "execution_count": 12,
   "id": "4d49fc77",
   "metadata": {},
   "outputs": [
    {
     "data": {
      "text/plain": [
       "35"
      ]
     },
     "execution_count": 12,
     "metadata": {},
     "output_type": "execute_result"
    }
   ],
   "source": [
    "fg1.join(fg2, fg1.id == fg2.id_2).join(fg3, fg1.id == fg3.id_3).count()"
   ]
  },
  {
   "cell_type": "code",
   "execution_count": 13,
   "id": "6af5ed86",
   "metadata": {},
   "outputs": [
    {
     "name": "stdout",
     "output_type": "stream",
     "text": [
      "+---+---+-----+----+----+---+----+----+-------+\n",
      "| id| ts|label|id_2|ts_2| f2|id_3|ts_3|     f3|\n",
      "+---+---+-----+----+----+---+----+----+-------+\n",
      "|  1|  4|   1z|   1|   4| 1z|   1|  10|f3-1-10|\n",
      "|  1|  4|   1z|   1|   7| 1y|   1|  10|f3-1-10|\n",
      "|  1|  4|   1z|   1|   5| 1x|   1|  10|f3-1-10|\n",
      "|  1|  7|   1y|   1|   4| 1z|   1|  10|f3-1-10|\n",
      "|  1|  7|   1y|   1|   7| 1y|   1|  10|f3-1-10|\n",
      "|  1|  7|   1y|   1|   5| 1x|   1|  10|f3-1-10|\n",
      "|  1|  5|   1x|   1|   4| 1z|   1|  10|f3-1-10|\n",
      "|  1|  5|   1x|   1|   7| 1y|   1|  10|f3-1-10|\n",
      "|  1|  5|   1x|   1|   5| 1x|   1|  10|f3-1-10|\n",
      "|  1|  4|   1z|   1|   4| 1z|   1|   1| f3-1-1|\n",
      "|  1|  4|   1z|   1|   7| 1y|   1|   1| f3-1-1|\n",
      "|  1|  4|   1z|   1|   5| 1x|   1|   1| f3-1-1|\n",
      "|  1|  7|   1y|   1|   4| 1z|   1|   1| f3-1-1|\n",
      "|  1|  7|   1y|   1|   7| 1y|   1|   1| f3-1-1|\n",
      "|  1|  7|   1y|   1|   5| 1x|   1|   1| f3-1-1|\n",
      "|  1|  5|   1x|   1|   4| 1z|   1|   1| f3-1-1|\n",
      "|  1|  5|   1x|   1|   7| 1y|   1|   1| f3-1-1|\n",
      "|  1|  5|   1x|   1|   5| 1x|   1|   1| f3-1-1|\n",
      "|  1|  4|   1z|   1|   4| 1z|   1|   6| f3-1-6|\n",
      "|  1|  4|   1z|   1|   7| 1y|   1|   6| f3-1-6|\n",
      "|  1|  4|   1z|   1|   5| 1x|   1|   6| f3-1-6|\n",
      "|  1|  7|   1y|   1|   4| 1z|   1|   6| f3-1-6|\n",
      "|  1|  7|   1y|   1|   7| 1y|   1|   6| f3-1-6|\n",
      "|  1|  7|   1y|   1|   5| 1x|   1|   6| f3-1-6|\n",
      "|  1|  5|   1x|   1|   4| 1z|   1|   6| f3-1-6|\n",
      "|  1|  5|   1x|   1|   7| 1y|   1|   6| f3-1-6|\n",
      "|  1|  5|   1x|   1|   5| 1x|   1|   6| f3-1-6|\n",
      "|  2|  8|   2y|   2|   8| 2y|   2|   2| f3-2-2|\n",
      "|  2|  8|   2y|   2|   6| 2x|   2|   2| f3-2-2|\n",
      "|  2|  6|   2x|   2|   8| 2y|   2|   2| f3-2-2|\n",
      "|  2|  6|   2x|   2|   6| 2x|   2|   2| f3-2-2|\n",
      "|  2|  8|   2y|   2|   8| 2y|   2|   8| f3-2-8|\n",
      "|  2|  8|   2y|   2|   6| 2x|   2|   8| f3-2-8|\n",
      "|  2|  6|   2x|   2|   8| 2y|   2|   8| f3-2-8|\n",
      "|  2|  6|   2x|   2|   6| 2x|   2|   8| f3-2-8|\n",
      "+---+---+-----+----+----+---+----+----+-------+\n",
      "\n"
     ]
    }
   ],
   "source": [
    "fg1.join(fg2, fg1.id == fg2.id_2).join(fg3, fg1.id == fg3.id_3).show(50)"
   ]
  },
  {
   "cell_type": "markdown",
   "id": "a2daf728",
   "metadata": {},
   "source": [
    "### With Time"
   ]
  },
  {
   "cell_type": "code",
   "execution_count": 14,
   "id": "c4f5e462",
   "metadata": {},
   "outputs": [
    {
     "data": {
      "text/plain": [
       "9"
      ]
     },
     "execution_count": 14,
     "metadata": {},
     "output_type": "execute_result"
    }
   ],
   "source": [
    "fg1.join(fg2, (fg1.id == fg2.id_2) & (fg1.ts >= fg2.ts_2)).count()"
   ]
  },
  {
   "cell_type": "code",
   "execution_count": 15,
   "id": "ddec35ec",
   "metadata": {},
   "outputs": [
    {
     "name": "stdout",
     "output_type": "stream",
     "text": [
      "+---+---+-----+----+----+---+\n",
      "| id| ts|label|id_2|ts_2| f2|\n",
      "+---+---+-----+----+----+---+\n",
      "|  1|  5|   1x|   1|   5| 1x|\n",
      "|  1|  5|   1x|   1|   4| 1z|\n",
      "|  1|  7|   1y|   1|   5| 1x|\n",
      "|  1|  7|   1y|   1|   7| 1y|\n",
      "|  1|  7|   1y|   1|   4| 1z|\n",
      "|  1|  4|   1z|   1|   4| 1z|\n",
      "|  2|  6|   2x|   2|   6| 2x|\n",
      "|  2|  8|   2y|   2|   6| 2x|\n",
      "|  2|  8|   2y|   2|   8| 2y|\n",
      "+---+---+-----+----+----+---+\n",
      "\n"
     ]
    }
   ],
   "source": [
    "fg1.join(fg2, (fg1.id == fg2.id_2) & (fg1.ts >= fg2.ts_2)).show()"
   ]
  },
  {
   "cell_type": "code",
   "execution_count": 16,
   "id": "52f57afb",
   "metadata": {},
   "outputs": [
    {
     "data": {
      "text/plain": [
       "14"
      ]
     },
     "execution_count": 16,
     "metadata": {},
     "output_type": "execute_result"
    }
   ],
   "source": [
    "fg1.join(fg2, (fg1.id == fg2.id_2) & (fg1.ts >= fg2.ts_2)).join(\n",
    "    fg3, (fg1.id == fg3.id_3) & (fg1.ts >= fg3.ts_3)\n",
    ").count()\n"
   ]
  },
  {
   "cell_type": "code",
   "execution_count": 14,
   "id": "016d6303",
   "metadata": {},
   "outputs": [
    {
     "name": "stdout",
     "output_type": "stream",
     "text": [
      "+---+---+-----+----+----+---+----+----+------+\n",
      "| id| ts|label|id_2|ts_2| f2|id_3|ts_3|    f3|\n",
      "+---+---+-----+----+----+---+----+----+------+\n",
      "|  1|  4|   1z|   1|   4| 1z|   1|   1|f3-1-1|\n",
      "|  1|  5|   1x|   1|   4| 1z|   1|   1|f3-1-1|\n",
      "|  1|  5|   1x|   1|   5| 1x|   1|   1|f3-1-1|\n",
      "|  1|  7|   1y|   1|   4| 1z|   1|   1|f3-1-1|\n",
      "|  1|  7|   1y|   1|   4| 1z|   1|   6|f3-1-6|\n",
      "|  1|  7|   1y|   1|   5| 1x|   1|   1|f3-1-1|\n",
      "|  1|  7|   1y|   1|   5| 1x|   1|   6|f3-1-6|\n",
      "|  1|  7|   1y|   1|   7| 1y|   1|   1|f3-1-1|\n",
      "|  1|  7|   1y|   1|   7| 1y|   1|   6|f3-1-6|\n",
      "|  2|  6|   2x|   2|   6| 2x|   2|   2|f3-2-2|\n",
      "|  2|  8|   2y|   2|   6| 2x|   2|   2|f3-2-2|\n",
      "|  2|  8|   2y|   2|   6| 2x|   2|   8|f3-2-8|\n",
      "|  2|  8|   2y|   2|   8| 2y|   2|   2|f3-2-2|\n",
      "|  2|  8|   2y|   2|   8| 2y|   2|   8|f3-2-8|\n",
      "+---+---+-----+----+----+---+----+----+------+"
     ]
    }
   ],
   "source": [
    "fg1.join(fg2, (fg1.id == fg2.id_2) & (fg1.ts >= fg2.ts_2)).join(\n",
    "    fg3, (fg1.id == fg3.id_3) & (fg1.ts >= fg3.ts_3)\n",
    ").show(50)\n"
   ]
  },
  {
   "cell_type": "markdown",
   "id": "a324cc1d",
   "metadata": {},
   "source": [
    "## Add window"
   ]
  },
  {
   "cell_type": "code",
   "execution_count": 15,
   "id": "09b4de14",
   "metadata": {},
   "outputs": [],
   "source": [
    "from pyspark.sql import Window\n",
    "from pyspark.sql.functions import lit, when, col, lag, rank, row_number, dense_rank, desc\n",
    "\n",
    "win2 = Window.partitionBy([\"id\", \"ts\"]).orderBy(col('ts_2').desc())\n",
    "win3 = Window.partitionBy([\"id\", \"ts\"]).orderBy(col('ts_3').desc())"
   ]
  },
  {
   "cell_type": "code",
   "execution_count": 16,
   "id": "abf57a70",
   "metadata": {},
   "outputs": [
    {
     "name": "stdout",
     "output_type": "stream",
     "text": [
      "+---+---+-----+----+----+---+----+----+------+-----+-----+----+----+------+------+\n",
      "| id| ts|label|id_2|ts_2| f2|id_3|ts_3|    f3|rank2|rank3|row2|row3|dense2|dense3|\n",
      "+---+---+-----+----+----+---+----+----+------+-----+-----+----+----+------+------+\n",
      "|  1|  4|   1z|   1|   4| 1z|   1|   1|f3-1-1|    1|    1|   1|   1|     1|     1|\n",
      "|  1|  5|   1x|   1|   5| 1x|   1|   1|f3-1-1|    1|    1|   1|   1|     1|     1|\n",
      "|  1|  5|   1x|   1|   4| 1z|   1|   1|f3-1-1|    2|    1|   2|   2|     2|     1|\n",
      "|  1|  7|   1y|   1|   7| 1y|   1|   6|f3-1-6|    1|    1|   1|   1|     1|     1|\n",
      "|  1|  7|   1y|   1|   5| 1x|   1|   6|f3-1-6|    3|    1|   3|   2|     2|     1|\n",
      "|  1|  7|   1y|   1|   4| 1z|   1|   6|f3-1-6|    5|    1|   5|   3|     3|     1|\n",
      "|  1|  7|   1y|   1|   7| 1y|   1|   1|f3-1-1|    1|    4|   2|   4|     1|     2|\n",
      "|  1|  7|   1y|   1|   5| 1x|   1|   1|f3-1-1|    3|    4|   4|   5|     2|     2|\n",
      "|  1|  7|   1y|   1|   4| 1z|   1|   1|f3-1-1|    5|    4|   6|   6|     3|     2|\n",
      "|  2|  6|   2x|   2|   6| 2x|   2|   2|f3-2-2|    1|    1|   1|   1|     1|     1|\n",
      "|  2|  8|   2y|   2|   8| 2y|   2|   8|f3-2-8|    1|    1|   1|   1|     1|     1|\n",
      "|  2|  8|   2y|   2|   6| 2x|   2|   8|f3-2-8|    3|    1|   3|   2|     2|     1|\n",
      "|  2|  8|   2y|   2|   8| 2y|   2|   2|f3-2-2|    1|    3|   2|   3|     1|     2|\n",
      "|  2|  8|   2y|   2|   6| 2x|   2|   2|f3-2-2|    3|    3|   4|   4|     2|     2|\n",
      "+---+---+-----+----+----+---+----+----+------+-----+-----+----+----+------+------+"
     ]
    }
   ],
   "source": [
    "fg1.join(fg2, (fg1.id == fg2.id_2) & (fg1.ts >= fg2.ts_2)).join(\n",
    "    fg3, (fg1.id == fg3.id_3) & (fg1.ts >= fg3.ts_3)\n",
    ").withColumn(\"rank2\", rank().over(win2)).withColumn(\n",
    "    \"rank3\", rank().over(win3)\n",
    ").withColumn(\n",
    "    \"row2\", row_number().over(win2)\n",
    ").withColumn(\n",
    "    \"row3\", row_number().over(win3)\n",
    ").withColumn(\n",
    "    \"dense2\", dense_rank().over(win2)\n",
    ").withColumn(\n",
    "    \"dense3\", dense_rank().over(win3)\n",
    ").show(\n",
    "    50\n",
    ")\n"
   ]
  },
  {
   "cell_type": "markdown",
   "id": "bb71a485",
   "metadata": {},
   "source": [
    "## One Window"
   ]
  },
  {
   "cell_type": "code",
   "execution_count": 17,
   "id": "1d10a98f",
   "metadata": {},
   "outputs": [],
   "source": [
    "win = Window.partitionBy([\"id\", \"ts\"]).orderBy(desc(\"ts_2\"), desc(\"ts_3\"))"
   ]
  },
  {
   "cell_type": "code",
   "execution_count": 18,
   "id": "52ce1718",
   "metadata": {},
   "outputs": [
    {
     "name": "stdout",
     "output_type": "stream",
     "text": [
      "+---+---+-----+----+----+---+----+----+------+----+---+-----+\n",
      "| id| ts|label|id_2|ts_2| f2|id_3|ts_3|    f3|rank|row|dense|\n",
      "+---+---+-----+----+----+---+----+----+------+----+---+-----+\n",
      "|  1|  4|   1z|   1|   4| 1z|   1|   1|f3-1-1|   1|  1|    1|\n",
      "|  1|  5|   1x|   1|   5| 1x|   1|   1|f3-1-1|   1|  1|    1|\n",
      "|  1|  5|   1x|   1|   4| 1z|   1|   1|f3-1-1|   2|  2|    2|\n",
      "|  1|  7|   1y|   1|   7| 1y|   1|   6|f3-1-6|   1|  1|    1|\n",
      "|  1|  7|   1y|   1|   7| 1y|   1|   1|f3-1-1|   2|  2|    2|\n",
      "|  1|  7|   1y|   1|   5| 1x|   1|   6|f3-1-6|   3|  3|    3|\n",
      "|  1|  7|   1y|   1|   5| 1x|   1|   1|f3-1-1|   4|  4|    4|\n",
      "|  1|  7|   1y|   1|   4| 1z|   1|   6|f3-1-6|   5|  5|    5|\n",
      "|  1|  7|   1y|   1|   4| 1z|   1|   1|f3-1-1|   6|  6|    6|\n",
      "|  2|  6|   2x|   2|   6| 2x|   2|   2|f3-2-2|   1|  1|    1|\n",
      "|  2|  8|   2y|   2|   8| 2y|   2|   8|f3-2-8|   1|  1|    1|\n",
      "|  2|  8|   2y|   2|   8| 2y|   2|   2|f3-2-2|   2|  2|    2|\n",
      "|  2|  8|   2y|   2|   6| 2x|   2|   8|f3-2-8|   3|  3|    3|\n",
      "|  2|  8|   2y|   2|   6| 2x|   2|   2|f3-2-2|   4|  4|    4|\n",
      "+---+---+-----+----+----+---+----+----+------+----+---+-----+"
     ]
    }
   ],
   "source": [
    "fg1.join(fg2, (fg1.id == fg2.id_2) & (fg1.ts >= fg2.ts_2)) \\\n",
    "   .join(fg3, (fg1.id == fg3.id_3) & (fg1.ts >= fg3.ts_3)) \\\n",
    "   .withColumn(\"rank\", rank().over(win)) \\\n",
    "   .withColumn(\"row\", row_number().over(win)) \\\n",
    "   .withColumn(\"dense\", dense_rank().over(win)) \\\n",
    "   .show(50)"
   ]
  },
  {
   "cell_type": "code",
   "execution_count": 19,
   "id": "e7b5085f",
   "metadata": {},
   "outputs": [
    {
     "name": "stdout",
     "output_type": "stream",
     "text": [
      "+---+---+-----+----+----+---+----+----+------+----+---+-----+\n",
      "| id| ts|label|id_2|ts_2| f2|id_3|ts_3|    f3|rank|row|dense|\n",
      "+---+---+-----+----+----+---+----+----+------+----+---+-----+\n",
      "|  1|  4|   1z|   1|   4| 1z|   1|   1|f3-1-1|   1|  1|    1|\n",
      "|  1|  5|   1x|   1|   5| 1x|   1|   1|f3-1-1|   1|  1|    1|\n",
      "|  1|  7|   1y|   1|   7| 1y|   1|   6|f3-1-6|   1|  1|    1|\n",
      "|  2|  6|   2x|   2|   6| 2x|   2|   2|f3-2-2|   1|  1|    1|\n",
      "|  2|  8|   2y|   2|   8| 2y|   2|   8|f3-2-8|   1|  1|    1|\n",
      "+---+---+-----+----+----+---+----+----+------+----+---+-----+"
     ]
    }
   ],
   "source": [
    "fg1.join(fg2, (fg1.id == fg2.id_2) & (fg1.ts >= fg2.ts_2)) \\\n",
    "   .join(fg3, (fg1.id == fg3.id_3) & (fg1.ts >= fg3.ts_3)) \\\n",
    "   .withColumn(\"rank\", rank().over(win)) \\\n",
    "   .withColumn(\"row\", row_number().over(win)) \\\n",
    "   .withColumn(\"dense\", dense_rank().over(win)) \\\n",
    "   .filter(col(\"rank\") == 1) \\\n",
    "   .show(50)"
   ]
  },
  {
   "cell_type": "code",
   "execution_count": 20,
   "id": "7df04b49",
   "metadata": {},
   "outputs": [
    {
     "name": "stdout",
     "output_type": "stream",
     "text": [
      "== Physical Plan ==\n",
      "*(9) Filter (isnotnull(rank#870) AND (rank#870 = 1))\n",
      "+- Window [rank(ts_2#7, ts_3#13) windowspecdefinition(id#0, ts#1, ts_2#7 DESC NULLS LAST, ts_3#13 DESC NULLS LAST, specifiedwindowframe(RowFrame, unboundedpreceding$(), currentrow$())) AS rank#870], [id#0, ts#1], [ts_2#7 DESC NULLS LAST, ts_3#13 DESC NULLS LAST]\n",
      "   +- *(8) Sort [id#0 ASC NULLS FIRST, ts#1 ASC NULLS FIRST, ts_2#7 DESC NULLS LAST, ts_3#13 DESC NULLS LAST], false, 0\n",
      "      +- *(8) SortMergeJoin [id#0], [id_3#12], Inner, (ts#1 >= ts_3#13)\n",
      "         :- *(5) SortMergeJoin [id#0], [id_2#6], Inner, (ts#1 >= ts_2#7)\n",
      "         :  :- *(2) Sort [id#0 ASC NULLS FIRST], false, 0\n",
      "         :  :  +- Exchange hashpartitioning(id#0, 200), ENSURE_REQUIREMENTS, [id=#977]\n",
      "         :  :     +- *(1) Filter (isnotnull(id#0) AND isnotnull(ts#1))\n",
      "         :  :        +- *(1) Scan ExistingRDD[id#0,ts#1,label#2]\n",
      "         :  +- *(4) Sort [id_2#6 ASC NULLS FIRST], false, 0\n",
      "         :     +- Exchange hashpartitioning(id_2#6, 200), ENSURE_REQUIREMENTS, [id=#983]\n",
      "         :        +- *(3) Filter (isnotnull(id_2#6) AND isnotnull(ts_2#7))\n",
      "         :           +- *(3) Scan ExistingRDD[id_2#6,ts_2#7,f2#8]\n",
      "         +- *(7) Sort [id_3#12 ASC NULLS FIRST], false, 0\n",
      "            +- Exchange hashpartitioning(id_3#12, 200), ENSURE_REQUIREMENTS, [id=#992]\n",
      "               +- *(6) Filter (isnotnull(id_3#12) AND isnotnull(ts_3#13))\n",
      "                  +- *(6) Scan ExistingRDD[id_3#12,ts_3#13,f3#14]"
     ]
    }
   ],
   "source": [
    "fg1.join(fg2, (fg1.id == fg2.id_2) & (fg1.ts >= fg2.ts_2)) \\\n",
    "   .join(fg3, (fg1.id == fg3.id_3) & (fg1.ts >= fg3.ts_3)) \\\n",
    "   .withColumn(\"rank\", rank().over(win)) \\\n",
    "   .filter(col(\"rank\") == 1) \\\n",
    "   .explain()"
   ]
  },
  {
   "cell_type": "code",
   "execution_count": 21,
   "id": "44cc9120",
   "metadata": {},
   "outputs": [
    {
     "name": "stdout",
     "output_type": "stream",
     "text": [
      "== Physical Plan ==\n",
      "*(1) Scan ExistingRDD[id#0,ts#1,label#2]"
     ]
    }
   ],
   "source": [
    "fg1.explain()"
   ]
  },
  {
   "cell_type": "code",
   "execution_count": 22,
   "id": "aa412f25",
   "metadata": {},
   "outputs": [],
   "source": [
    "fg1.registerTempTable(\"fg1\")\n",
    "fg2.registerTempTable(\"fg2\")\n",
    "fg3.registerTempTable(\"fg3\")"
   ]
  },
  {
   "cell_type": "code",
   "execution_count": 23,
   "id": "638b19d5",
   "metadata": {},
   "outputs": [],
   "source": [
    "result = spark.sql(\"with x as (\"\n",
    "                       \"SELECT id, ts, label, ts_2, f2, ts_3, f3, RANK() OVER (PARTITION BY id, ts ORDER BY (ts_2, ts_3) DESC) AS rank \"\n",
    "                       \"FROM fg1 a \"\n",
    "                       \"join fg2 b \"\n",
    "                       \"on a.id = b.id_2 \"\n",
    "                       \"and a.ts >= b.ts_2 \"\n",
    "                       \"join fg3 c \"\n",
    "                       \"on a.id = c.id_3 \"\n",
    "                       \"and a.ts >= c.ts_3) \"\n",
    "                   \"select * from x where rank = 1\");"
   ]
  },
  {
   "cell_type": "code",
   "execution_count": 24,
   "id": "373e1850",
   "metadata": {},
   "outputs": [
    {
     "name": "stdout",
     "output_type": "stream",
     "text": [
      "+---+---+-----+----+---+----+------+----+\n",
      "| id| ts|label|ts_2| f2|ts_3|    f3|rank|\n",
      "+---+---+-----+----+---+----+------+----+\n",
      "|  1|  4|   1z|   4| 1z|   1|f3-1-1|   1|\n",
      "|  1|  5|   1x|   5| 1x|   1|f3-1-1|   1|\n",
      "|  1|  7|   1y|   7| 1y|   6|f3-1-6|   1|\n",
      "|  2|  6|   2x|   6| 2x|   2|f3-2-2|   1|\n",
      "|  2|  8|   2y|   8| 2y|   8|f3-2-8|   1|\n",
      "+---+---+-----+----+---+----+------+----+"
     ]
    }
   ],
   "source": [
    "result.show(50)"
   ]
  },
  {
   "cell_type": "code",
   "execution_count": 25,
   "id": "8f42d68b",
   "metadata": {},
   "outputs": [
    {
     "name": "stdout",
     "output_type": "stream",
     "text": [
      "== Parsed Logical Plan ==\n",
      "CTE [x]\n",
      ":  +- 'SubqueryAlias x\n",
      ":     +- 'Project ['id, 'ts, 'label, 'ts_2, 'f2, 'ts_3, 'f3, 'RANK() windowspecdefinition('id, 'ts, named_struct(NamePlaceholder, 'ts_2, NamePlaceholder, 'ts_3) DESC NULLS LAST, unspecifiedframe$()) AS rank#889]\n",
      ":        +- 'Join Inner, (('a.id = 'c.id_3) AND ('a.ts >= 'c.ts_3))\n",
      ":           :- 'Join Inner, (('a.id = 'b.id_2) AND ('a.ts >= 'b.ts_2))\n",
      ":           :  :- 'SubqueryAlias a\n",
      ":           :  :  +- 'UnresolvedRelation [fg1], [], false\n",
      ":           :  +- 'SubqueryAlias b\n",
      ":           :     +- 'UnresolvedRelation [fg2], [], false\n",
      ":           +- 'SubqueryAlias c\n",
      ":              +- 'UnresolvedRelation [fg3], [], false\n",
      "+- 'Project [*]\n",
      "   +- 'Filter ('rank = 1)\n",
      "      +- 'UnresolvedRelation [x], [], false\n",
      "\n",
      "== Analyzed Logical Plan ==\n",
      "id: int, ts: int, label: string, ts_2: int, f2: string, ts_3: int, f3: string, rank: int\n",
      "Project [id#0, ts#1, label#2, ts_2#7, f2#8, ts_3#13, f3#14, rank#889]\n",
      "+- Filter (rank#889 = 1)\n",
      "   +- SubqueryAlias x\n",
      "      +- Project [id#0, ts#1, label#2, ts_2#7, f2#8, ts_3#13, f3#14, rank#889]\n",
      "         +- Project [id#0, ts#1, label#2, ts_2#7, f2#8, ts_3#13, f3#14, _w0#892, rank#889, rank#889]\n",
      "            +- Window [rank(_w0#892) windowspecdefinition(id#0, ts#1, _w0#892 DESC NULLS LAST, specifiedwindowframe(RowFrame, unboundedpreceding$(), currentrow$())) AS rank#889], [id#0, ts#1], [_w0#892 DESC NULLS LAST]\n",
      "               +- Project [id#0, ts#1, label#2, ts_2#7, f2#8, ts_3#13, f3#14, named_struct(ts_2, ts_2#7, ts_3, ts_3#13) AS _w0#892]\n",
      "                  +- Join Inner, ((id#0 = id_3#12) AND (ts#1 >= ts_3#13))\n",
      "                     :- Join Inner, ((id#0 = id_2#6) AND (ts#1 >= ts_2#7))\n",
      "                     :  :- SubqueryAlias a\n",
      "                     :  :  +- SubqueryAlias fg1\n",
      "                     :  :     +- LogicalRDD [id#0, ts#1, label#2], false\n",
      "                     :  +- SubqueryAlias b\n",
      "                     :     +- SubqueryAlias fg2\n",
      "                     :        +- LogicalRDD [id_2#6, ts_2#7, f2#8], false\n",
      "                     +- SubqueryAlias c\n",
      "                        +- SubqueryAlias fg3\n",
      "                           +- LogicalRDD [id_3#12, ts_3#13, f3#14], false\n",
      "\n",
      "== Optimized Logical Plan ==\n",
      "Project [id#0, ts#1, label#2, ts_2#7, f2#8, ts_3#13, f3#14, rank#889]\n",
      "+- Filter (isnotnull(rank#889) AND (rank#889 = 1))\n",
      "   +- Window [rank(_w0#892) windowspecdefinition(id#0, ts#1, _w0#892 DESC NULLS LAST, specifiedwindowframe(RowFrame, unboundedpreceding$(), currentrow$())) AS rank#889], [id#0, ts#1], [_w0#892 DESC NULLS LAST]\n",
      "      +- Project [id#0, ts#1, label#2, ts_2#7, f2#8, ts_3#13, f3#14, named_struct(ts_2, ts_2#7, ts_3, ts_3#13) AS _w0#892]\n",
      "         +- Join Inner, ((id#0 = id_3#12) AND (ts#1 >= ts_3#13))\n",
      "            :- Project [id#0, ts#1, label#2, ts_2#7, f2#8]\n",
      "            :  +- Join Inner, ((id#0 = id_2#6) AND (ts#1 >= ts_2#7))\n",
      "            :     :- Filter (isnotnull(id#0) AND isnotnull(ts#1))\n",
      "            :     :  +- LogicalRDD [id#0, ts#1, label#2], false\n",
      "            :     +- Filter (isnotnull(id_2#6) AND isnotnull(ts_2#7))\n",
      "            :        +- LogicalRDD [id_2#6, ts_2#7, f2#8], false\n",
      "            +- Filter (isnotnull(id_3#12) AND isnotnull(ts_3#13))\n",
      "               +- LogicalRDD [id_3#12, ts_3#13, f3#14], false\n",
      "\n",
      "== Physical Plan ==\n",
      "*(9) Project [id#0, ts#1, label#2, ts_2#7, f2#8, ts_3#13, f3#14, rank#889]\n",
      "+- *(9) Filter (isnotnull(rank#889) AND (rank#889 = 1))\n",
      "   +- Window [rank(_w0#892) windowspecdefinition(id#0, ts#1, _w0#892 DESC NULLS LAST, specifiedwindowframe(RowFrame, unboundedpreceding$(), currentrow$())) AS rank#889], [id#0, ts#1], [_w0#892 DESC NULLS LAST]\n",
      "      +- *(8) Sort [id#0 ASC NULLS FIRST, ts#1 ASC NULLS FIRST, _w0#892 DESC NULLS LAST], false, 0\n",
      "         +- *(8) Project [id#0, ts#1, label#2, ts_2#7, f2#8, ts_3#13, f3#14, named_struct(ts_2, ts_2#7, ts_3, ts_3#13) AS _w0#892]\n",
      "            +- *(8) SortMergeJoin [id#0], [id_3#12], Inner, (ts#1 >= ts_3#13)\n",
      "               :- *(5) Project [id#0, ts#1, label#2, ts_2#7, f2#8]\n",
      "               :  +- *(5) SortMergeJoin [id#0], [id_2#6], Inner, (ts#1 >= ts_2#7)\n",
      "               :     :- *(2) Sort [id#0 ASC NULLS FIRST], false, 0\n",
      "               :     :  +- Exchange hashpartitioning(id#0, 200), ENSURE_REQUIREMENTS, [id=#1192]\n",
      "               :     :     +- *(1) Filter (isnotnull(id#0) AND isnotnull(ts#1))\n",
      "               :     :        +- *(1) Scan ExistingRDD[id#0,ts#1,label#2]\n",
      "               :     +- *(4) Sort [id_2#6 ASC NULLS FIRST], false, 0\n",
      "               :        +- Exchange hashpartitioning(id_2#6, 200), ENSURE_REQUIREMENTS, [id=#1198]\n",
      "               :           +- *(3) Filter (isnotnull(id_2#6) AND isnotnull(ts_2#7))\n",
      "               :              +- *(3) Scan ExistingRDD[id_2#6,ts_2#7,f2#8]\n",
      "               +- *(7) Sort [id_3#12 ASC NULLS FIRST], false, 0\n",
      "                  +- Exchange hashpartitioning(id_3#12, 200), ENSURE_REQUIREMENTS, [id=#1208]\n",
      "                     +- *(6) Filter (isnotnull(id_3#12) AND isnotnull(ts_3#13))\n",
      "                        +- *(6) Scan ExistingRDD[id_3#12,ts_3#13,f3#14]"
     ]
    }
   ],
   "source": [
    "result.explain(True)"
   ]
  },
  {
   "cell_type": "code",
   "execution_count": 26,
   "id": "1c9efee8",
   "metadata": {},
   "outputs": [],
   "source": [
    "result2 = spark.sql(\"with \"\n",
    "                   \"x1 (\"\n",
    "                       \"select * from (\"\n",
    "                           \"SELECT id, ts, label, ts_2, f2, RANK() OVER (PARTITION BY id, ts ORDER BY ts_2 DESC) AS rank \"\n",
    "                           \"FROM fg1 a \"\n",
    "                           \"join fg2 b \"\n",
    "                           \"on a.id = b.id_2 \"\n",
    "                           \"and a.ts >= b.ts_2) \"\n",
    "                       \"where rank = 1), \"\n",
    "                   \"x2 (\"\n",
    "                       \"select * from (\"\n",
    "                           \"SELECT id, ts, label, ts_3, f3, RANK() OVER (PARTITION BY id, ts ORDER BY ts_3 DESC) AS rank \"\n",
    "                           \"FROM fg1 a \"\n",
    "                           \"join fg3 b \"\n",
    "                           \"on a.id = b.id_3 \"\n",
    "                           \"and a.ts >= b.ts_3) \"\n",
    "                       \"where rank = 1) \"\n",
    "                   \"select * from x1 \"\n",
    "                   \"join x2 \"\n",
    "                   \"on x1.id = x2.id \"\n",
    "                   \"and x1.ts = x2.ts\");"
   ]
  },
  {
   "cell_type": "code",
   "execution_count": 27,
   "id": "4ba9f64d",
   "metadata": {},
   "outputs": [
    {
     "name": "stdout",
     "output_type": "stream",
     "text": [
      "+---+---+-----+----+---+----+---+---+-----+----+------+----+\n",
      "| id| ts|label|ts_2| f2|rank| id| ts|label|ts_3|    f3|rank|\n",
      "+---+---+-----+----+---+----+---+---+-----+----+------+----+\n",
      "|  1|  7|   1y|   7| 1y|   1|  1|  7|   1y|   6|f3-1-6|   1|\n",
      "|  1|  4|   1z|   4| 1z|   1|  1|  4|   1z|   1|f3-1-1|   1|\n",
      "|  1|  5|   1x|   5| 1x|   1|  1|  5|   1x|   1|f3-1-1|   1|\n",
      "|  2|  8|   2y|   8| 2y|   1|  2|  8|   2y|   8|f3-2-8|   1|\n",
      "|  2|  6|   2x|   6| 2x|   1|  2|  6|   2x|   2|f3-2-2|   1|\n",
      "+---+---+-----+----+---+----+---+---+-----+----+------+----+"
     ]
    }
   ],
   "source": [
    "result2.show(50)"
   ]
  },
  {
   "cell_type": "code",
   "execution_count": 28,
   "id": "f84f733c",
   "metadata": {},
   "outputs": [
    {
     "name": "stdout",
     "output_type": "stream",
     "text": [
      "== Parsed Logical Plan ==\n",
      "CTE [x1, x2]\n",
      ":  :- 'SubqueryAlias x1\n",
      ":  :  +- 'Project [*]\n",
      ":  :     +- 'Filter ('rank = 1)\n",
      ":  :        +- 'SubqueryAlias __auto_generated_subquery_name\n",
      ":  :           +- 'Project ['id, 'ts, 'label, 'ts_2, 'f2, 'RANK() windowspecdefinition('id, 'ts, 'ts_2 DESC NULLS LAST, unspecifiedframe$()) AS rank#940]\n",
      ":  :              +- 'Join Inner, (('a.id = 'b.id_2) AND ('a.ts >= 'b.ts_2))\n",
      ":  :                 :- 'SubqueryAlias a\n",
      ":  :                 :  +- 'UnresolvedRelation [fg1], [], false\n",
      ":  :                 +- 'SubqueryAlias b\n",
      ":  :                    +- 'UnresolvedRelation [fg2], [], false\n",
      ":  +- 'SubqueryAlias x2\n",
      ":     +- 'Project [*]\n",
      ":        +- 'Filter ('rank = 1)\n",
      ":           +- 'SubqueryAlias __auto_generated_subquery_name\n",
      ":              +- 'Project ['id, 'ts, 'label, 'ts_3, 'f3, 'RANK() windowspecdefinition('id, 'ts, 'ts_3 DESC NULLS LAST, unspecifiedframe$()) AS rank#941]\n",
      ":                 +- 'Join Inner, (('a.id = 'b.id_3) AND ('a.ts >= 'b.ts_3))\n",
      ":                    :- 'SubqueryAlias a\n",
      ":                    :  +- 'UnresolvedRelation [fg1], [], false\n",
      ":                    +- 'SubqueryAlias b\n",
      ":                       +- 'UnresolvedRelation [fg3], [], false\n",
      "+- 'Project [*]\n",
      "   +- 'Join Inner, (('x1.id = 'x2.id) AND ('x1.ts = 'x2.ts))\n",
      "      :- 'UnresolvedRelation [x1], [], false\n",
      "      +- 'UnresolvedRelation [x2], [], false\n",
      "\n",
      "== Analyzed Logical Plan ==\n",
      "id: int, ts: int, label: string, ts_2: int, f2: string, rank: int, id: int, ts: int, label: string, ts_3: int, f3: string, rank: int\n",
      "Project [id#0, ts#1, label#2, ts_2#7, f2#8, rank#940, id#946, ts#947, label#948, ts_3#13, f3#14, rank#941]\n",
      "+- Join Inner, ((id#0 = id#946) AND (ts#1 = ts#947))\n",
      "   :- SubqueryAlias x1\n",
      "   :  +- Project [id#0, ts#1, label#2, ts_2#7, f2#8, rank#940]\n",
      "   :     +- Filter (rank#940 = 1)\n",
      "   :        +- SubqueryAlias __auto_generated_subquery_name\n",
      "   :           +- Project [id#0, ts#1, label#2, ts_2#7, f2#8, rank#940]\n",
      "   :              +- Project [id#0, ts#1, label#2, ts_2#7, f2#8, rank#940, rank#940]\n",
      "   :                 +- Window [rank(ts_2#7) windowspecdefinition(id#0, ts#1, ts_2#7 DESC NULLS LAST, specifiedwindowframe(RowFrame, unboundedpreceding$(), currentrow$())) AS rank#940], [id#0, ts#1], [ts_2#7 DESC NULLS LAST]\n",
      "   :                    +- Project [id#0, ts#1, label#2, ts_2#7, f2#8]\n",
      "   :                       +- Join Inner, ((id#0 = id_2#6) AND (ts#1 >= ts_2#7))\n",
      "   :                          :- SubqueryAlias a\n",
      "   :                          :  +- SubqueryAlias fg1\n",
      "   :                          :     +- LogicalRDD [id#0, ts#1, label#2], false\n",
      "   :                          +- SubqueryAlias b\n",
      "   :                             +- SubqueryAlias fg2\n",
      "   :                                +- LogicalRDD [id_2#6, ts_2#7, f2#8], false\n",
      "   +- SubqueryAlias x2\n",
      "      +- Project [id#946, ts#947, label#948, ts_3#13, f3#14, rank#941]\n",
      "         +- Filter (rank#941 = 1)\n",
      "            +- SubqueryAlias __auto_generated_subquery_name\n",
      "               +- Project [id#946, ts#947, label#948, ts_3#13, f3#14, rank#941]\n",
      "                  +- Project [id#946, ts#947, label#948, ts_3#13, f3#14, rank#941, rank#941]\n",
      "                     +- Window [rank(ts_3#13) windowspecdefinition(id#946, ts#947, ts_3#13 DESC NULLS LAST, specifiedwindowframe(RowFrame, unboundedpreceding$(), currentrow$())) AS rank#941], [id#946, ts#947], [ts_3#13 DESC NULLS LAST]\n",
      "                        +- Project [id#946, ts#947, label#948, ts_3#13, f3#14]\n",
      "                           +- Join Inner, ((id#946 = id_3#12) AND (ts#947 >= ts_3#13))\n",
      "                              :- SubqueryAlias a\n",
      "                              :  +- SubqueryAlias fg1\n",
      "                              :     +- LogicalRDD [id#946, ts#947, label#948], false\n",
      "                              +- SubqueryAlias b\n",
      "                                 +- SubqueryAlias fg3\n",
      "                                    +- LogicalRDD [id_3#12, ts_3#13, f3#14], false\n",
      "\n",
      "== Optimized Logical Plan ==\n",
      "Join Inner, ((id#0 = id#946) AND (ts#1 = ts#947))\n",
      ":- Filter (isnotnull(rank#940) AND (rank#940 = 1))\n",
      ":  +- Window [rank(ts_2#7) windowspecdefinition(id#0, ts#1, ts_2#7 DESC NULLS LAST, specifiedwindowframe(RowFrame, unboundedpreceding$(), currentrow$())) AS rank#940], [id#0, ts#1], [ts_2#7 DESC NULLS LAST]\n",
      ":     +- Project [id#0, ts#1, label#2, ts_2#7, f2#8]\n",
      ":        +- Join Inner, ((id#0 = id_2#6) AND (ts#1 >= ts_2#7))\n",
      ":           :- Filter (isnotnull(id#0) AND isnotnull(ts#1))\n",
      ":           :  +- LogicalRDD [id#0, ts#1, label#2], false\n",
      ":           +- Filter (isnotnull(id_2#6) AND isnotnull(ts_2#7))\n",
      ":              +- LogicalRDD [id_2#6, ts_2#7, f2#8], false\n",
      "+- Filter (isnotnull(rank#941) AND (rank#941 = 1))\n",
      "   +- Window [rank(ts_3#13) windowspecdefinition(id#946, ts#947, ts_3#13 DESC NULLS LAST, specifiedwindowframe(RowFrame, unboundedpreceding$(), currentrow$())) AS rank#941], [id#946, ts#947], [ts_3#13 DESC NULLS LAST]\n",
      "      +- Project [id#946, ts#947, label#948, ts_3#13, f3#14]\n",
      "         +- Join Inner, ((id#946 = id_3#12) AND (ts#947 >= ts_3#13))\n",
      "            :- Filter (isnotnull(id#946) AND isnotnull(ts#947))\n",
      "            :  +- LogicalRDD [id#946, ts#947, label#948], false\n",
      "            +- Filter (isnotnull(id_3#12) AND isnotnull(ts_3#13))\n",
      "               +- LogicalRDD [id_3#12, ts_3#13, f3#14], false\n",
      "\n",
      "== Physical Plan ==\n",
      "*(15) SortMergeJoin [id#0, ts#1], [id#946, ts#947], Inner\n",
      ":- *(7) Sort [id#0 ASC NULLS FIRST, ts#1 ASC NULLS FIRST], false, 0\n",
      ":  +- Exchange hashpartitioning(id#0, ts#1, 200), ENSURE_REQUIREMENTS, [id=#1531]\n",
      ":     +- *(6) Filter (isnotnull(rank#940) AND (rank#940 = 1))\n",
      ":        +- Window [rank(ts_2#7) windowspecdefinition(id#0, ts#1, ts_2#7 DESC NULLS LAST, specifiedwindowframe(RowFrame, unboundedpreceding$(), currentrow$())) AS rank#940], [id#0, ts#1], [ts_2#7 DESC NULLS LAST]\n",
      ":           +- *(5) Sort [id#0 ASC NULLS FIRST, ts#1 ASC NULLS FIRST, ts_2#7 DESC NULLS LAST], false, 0\n",
      ":              +- *(5) Project [id#0, ts#1, label#2, ts_2#7, f2#8]\n",
      ":                 +- *(5) SortMergeJoin [id#0], [id_2#6], Inner, (ts#1 >= ts_2#7)\n",
      ":                    :- *(2) Sort [id#0 ASC NULLS FIRST], false, 0\n",
      ":                    :  +- Exchange hashpartitioning(id#0, 200), ENSURE_REQUIREMENTS, [id=#1512]\n",
      ":                    :     +- *(1) Filter (isnotnull(id#0) AND isnotnull(ts#1))\n",
      ":                    :        +- *(1) Scan ExistingRDD[id#0,ts#1,label#2]\n",
      ":                    +- *(4) Sort [id_2#6 ASC NULLS FIRST], false, 0\n",
      ":                       +- Exchange hashpartitioning(id_2#6, 200), ENSURE_REQUIREMENTS, [id=#1518]\n",
      ":                          +- *(3) Filter (isnotnull(id_2#6) AND isnotnull(ts_2#7))\n",
      ":                             +- *(3) Scan ExistingRDD[id_2#6,ts_2#7,f2#8]\n",
      "+- *(14) Sort [id#946 ASC NULLS FIRST, ts#947 ASC NULLS FIRST], false, 0\n",
      "   +- Exchange hashpartitioning(id#946, ts#947, 200), ENSURE_REQUIREMENTS, [id=#1588]\n",
      "      +- *(13) Filter (isnotnull(rank#941) AND (rank#941 = 1))\n",
      "         +- Window [rank(ts_3#13) windowspecdefinition(id#946, ts#947, ts_3#13 DESC NULLS LAST, specifiedwindowframe(RowFrame, unboundedpreceding$(), currentrow$())) AS rank#941], [id#946, ts#947], [ts_3#13 DESC NULLS LAST]\n",
      "            +- *(12) Sort [id#946 ASC NULLS FIRST, ts#947 ASC NULLS FIRST, ts_3#13 DESC NULLS LAST], false, 0\n",
      "               +- *(12) Project [id#946, ts#947, label#948, ts_3#13, f3#14]\n",
      "                  +- *(12) SortMergeJoin [id#946], [id_3#12], Inner, (ts#947 >= ts_3#13)\n",
      "                     :- *(9) Sort [id#946 ASC NULLS FIRST], false, 0\n",
      "                     :  +- ReusedExchange [id#946, ts#947, label#948], Exchange hashpartitioning(id#0, 200), ENSURE_REQUIREMENTS, [id=#1512]\n",
      "                     +- *(11) Sort [id_3#12 ASC NULLS FIRST], false, 0\n",
      "                        +- Exchange hashpartitioning(id_3#12, 200), ENSURE_REQUIREMENTS, [id=#1543]\n",
      "                           +- *(10) Filter (isnotnull(id_3#12) AND isnotnull(ts_3#13))\n",
      "                              +- *(10) Scan ExistingRDD[id_3#12,ts_3#13,f3#14]"
     ]
    }
   ],
   "source": [
    "result2.explain(True)"
   ]
  },
  {
   "cell_type": "markdown",
   "id": "728dd63a",
   "metadata": {},
   "source": [
    "## Real Data"
   ]
  },
  {
   "cell_type": "code",
   "execution_count": 29,
   "id": "cabeded6",
   "metadata": {},
   "outputs": [],
   "source": [
    "from pyspark.sql.functions import unix_timestamp, from_unixtime, col\n",
    "from hops import hdfs as hdfs"
   ]
  },
  {
   "cell_type": "code",
   "execution_count": 30,
   "id": "180ccbdb",
   "metadata": {},
   "outputs": [
    {
     "name": "stdout",
     "output_type": "stream",
     "text": [
      "+---+----+-----+\n",
      "| id|  ts|label|\n",
      "+---+----+-----+\n",
      "|  1|1002| f2-1|\n",
      "|  1|1004| f2-2|\n",
      "|  1|1006| f2-3|\n",
      "|  1|1008| f2-4|\n",
      "|  1|1010| f2-5|\n",
      "|  2|1002| f2-6|\n",
      "|  2|1004| f2-7|\n",
      "|  2|1006| f2-8|\n",
      "|  2|1008| f2-9|\n",
      "|  2|1010|f2-10|\n",
      "|  3|1002|f2-11|\n",
      "|  3|1004|f2-12|\n",
      "|  3|1006|f2-13|\n",
      "|  3|1008|f2-14|\n",
      "|  3|1010|f2-15|\n",
      "|  4|1002|f2-16|\n",
      "|  4|1004|f2-17|\n",
      "|  4|1006|f2-18|\n",
      "|  4|1008|f2-19|\n",
      "|  4|1010|f2-20|\n",
      "+---+----+-----+\n",
      "only showing top 20 rows"
     ]
    }
   ],
   "source": [
    "fg01_schema = StructType([\n",
    "  StructField(\"id\", IntegerType(), True),\n",
    "  StructField(\"ts\", IntegerType(), True),\n",
    "  StructField(\"label\", StringType(), True)    \n",
    "])\n",
    "\n",
    "fg01=spark.read.csv(\"hdfs:///Projects/\" + hdfs.project_name() + \"/Jupyter/5-10-2-out.csv\", header=True, schema=fg01_schema)\n",
    "#fg01=fg01.sort(col(\"id\"),col(\"ts\")).withColumn(\"ts\", from_unixtime(\"ts\").cast(\"timestamp\"))\n",
    "fg01=fg01.sort(col(\"id\"),col(\"ts\"))\n",
    "fg01.show()"
   ]
  },
  {
   "cell_type": "code",
   "execution_count": 31,
   "id": "e137ab17",
   "metadata": {},
   "outputs": [
    {
     "name": "stdout",
     "output_type": "stream",
     "text": [
      "+----+----+-----+\n",
      "|id_2|ts_2|   f2|\n",
      "+----+----+-----+\n",
      "|   1|1003| f3-1|\n",
      "|   1|1006| f3-2|\n",
      "|   1|1009| f3-3|\n",
      "|   2|1003| f3-4|\n",
      "|   2|1006| f3-5|\n",
      "|   2|1009| f3-6|\n",
      "|   3|1003| f3-7|\n",
      "|   3|1006| f3-8|\n",
      "|   3|1009| f3-9|\n",
      "|   4|1003|f3-10|\n",
      "|   4|1006|f3-11|\n",
      "|   4|1009|f3-12|\n",
      "|   5|1003|f3-13|\n",
      "|   5|1006|f3-14|\n",
      "|   5|1009|f3-15|\n",
      "+----+----+-----+"
     ]
    }
   ],
   "source": [
    "fg02_schema = StructType([\n",
    "  StructField(\"id\", IntegerType(), True),\n",
    "  StructField(\"ts\", IntegerType(), True),\n",
    "  StructField(\"f2\", StringType(), True)    \n",
    "])\n",
    "\n",
    "fg02=spark.read.csv(\"hdfs:///Projects/\" + hdfs.project_name() + \"/Jupyter/5-10-3-out.csv\", header=True, schema=fg02_schema)\n",
    "#fg02=fg02.select([col(\"id\").alias(\"id_2\"), col(\"ts\").alias(\"ts_2\"), col(\"f2\")]).withColumn(\"ts_2\", from_unixtime(\"ts_2\").cast(\"timestamp\"))\n",
    "fg02=fg02.select([col(\"id\").alias(\"id_2\"), col(\"ts\").alias(\"ts_2\"), col(\"f2\")])\n",
    "fg02.show()"
   ]
  },
  {
   "cell_type": "code",
   "execution_count": 32,
   "id": "e9df290a",
   "metadata": {},
   "outputs": [
    {
     "name": "stdout",
     "output_type": "stream",
     "text": [
      "+----+----+-----+\n",
      "|id_3|ts_3|   f3|\n",
      "+----+----+-----+\n",
      "|   1|1003| f3-1|\n",
      "|   1|1006| f3-2|\n",
      "|   1|1009| f3-3|\n",
      "|   2|1003| f3-4|\n",
      "|   2|1006| f3-5|\n",
      "|   2|1009| f3-6|\n",
      "|   3|1003| f3-7|\n",
      "|   3|1006| f3-8|\n",
      "|   3|1009| f3-9|\n",
      "|   4|1003|f3-10|\n",
      "|   4|1006|f3-11|\n",
      "|   4|1009|f3-12|\n",
      "|   5|1003|f3-13|\n",
      "|   5|1006|f3-14|\n",
      "|   5|1009|f3-15|\n",
      "+----+----+-----+"
     ]
    }
   ],
   "source": [
    "fg03_schema = StructType([\n",
    "  StructField(\"id\", IntegerType(), True),\n",
    "  StructField(\"ts\", IntegerType(), True),\n",
    "  StructField(\"f3\", StringType(), True)    \n",
    "])\n",
    "\n",
    "fg03=spark.read.csv(\"hdfs:///Projects/\" + hdfs.project_name() + \"/Jupyter/5-10-3-out.csv\", header=True, schema=fg03_schema)\n",
    "#fg03=fg03.select([col(\"id\").alias(\"id_3\"), col(\"ts\").alias(\"ts_3\"), col(\"f3\")]).withColumn(\"ts_3\", from_unixtime(\"ts_3\").cast(\"timestamp\"))\n",
    "fg03=fg03.select([col(\"id\").alias(\"id_3\"), col(\"ts\").alias(\"ts_3\"), col(\"f3\")])\n",
    "fg03.show()"
   ]
  },
  {
   "cell_type": "code",
   "execution_count": 33,
   "id": "37dd5354",
   "metadata": {},
   "outputs": [],
   "source": [
    "fg01.registerTempTable(\"fg01\")\n",
    "fg02.registerTempTable(\"fg02\")\n",
    "fg03.registerTempTable(\"fg03\")"
   ]
  },
  {
   "cell_type": "code",
   "execution_count": 34,
   "id": "1e1d5ff0",
   "metadata": {},
   "outputs": [],
   "source": [
    "result = spark.sql(\"with x as (\"\n",
    "                       \"SELECT id, ts, label, ts_2, f2, ts_3, f3, RANK() OVER (PARTITION BY id, ts ORDER BY (ts_2, ts_3) DESC) AS rank \"\n",
    "                       \"FROM fg01 a \"\n",
    "                       \"join fg02 b \"\n",
    "                       \"on a.id = b.id_2 \"\n",
    "                       \"and a.ts >= b.ts_2 \"\n",
    "                       \"join fg03 c \"\n",
    "                       \"on a.id = c.id_3 \"\n",
    "                       \"and a.ts >= c.ts_3) \"\n",
    "                   \"select * from x where rank = 1\");"
   ]
  },
  {
   "cell_type": "code",
   "execution_count": 35,
   "id": "92f076ed",
   "metadata": {},
   "outputs": [
    {
     "name": "stdout",
     "output_type": "stream",
     "text": [
      "+---+----+-----+----+-----+----+-----+----+\n",
      "| id|  ts|label|ts_2|   f2|ts_3|   f3|rank|\n",
      "+---+----+-----+----+-----+----+-----+----+\n",
      "|  1|1004| f2-2|1003| f3-1|1003| f3-1|   1|\n",
      "|  1|1006| f2-3|1006| f3-2|1006| f3-2|   1|\n",
      "|  1|1008| f2-4|1006| f3-2|1006| f3-2|   1|\n",
      "|  1|1010| f2-5|1009| f3-3|1009| f3-3|   1|\n",
      "|  2|1004| f2-7|1003| f3-4|1003| f3-4|   1|\n",
      "|  2|1006| f2-8|1006| f3-5|1006| f3-5|   1|\n",
      "|  2|1008| f2-9|1006| f3-5|1006| f3-5|   1|\n",
      "|  2|1010|f2-10|1009| f3-6|1009| f3-6|   1|\n",
      "|  3|1004|f2-12|1003| f3-7|1003| f3-7|   1|\n",
      "|  3|1006|f2-13|1006| f3-8|1006| f3-8|   1|\n",
      "|  3|1008|f2-14|1006| f3-8|1006| f3-8|   1|\n",
      "|  3|1010|f2-15|1009| f3-9|1009| f3-9|   1|\n",
      "|  4|1004|f2-17|1003|f3-10|1003|f3-10|   1|\n",
      "|  4|1006|f2-18|1006|f3-11|1006|f3-11|   1|\n",
      "|  4|1008|f2-19|1006|f3-11|1006|f3-11|   1|\n",
      "|  4|1010|f2-20|1009|f3-12|1009|f3-12|   1|\n",
      "|  5|1004|f2-22|1003|f3-13|1003|f3-13|   1|\n",
      "|  5|1006|f2-23|1006|f3-14|1006|f3-14|   1|\n",
      "|  5|1008|f2-24|1006|f3-14|1006|f3-14|   1|\n",
      "|  5|1010|f2-25|1009|f3-15|1009|f3-15|   1|\n",
      "+---+----+-----+----+-----+----+-----+----+"
     ]
    }
   ],
   "source": [
    "result.sort(col(\"id\"),col(\"ts\")).show(50)"
   ]
  },
  {
   "cell_type": "code",
   "execution_count": 36,
   "id": "c94adf5f",
   "metadata": {},
   "outputs": [
    {
     "name": "stdout",
     "output_type": "stream",
     "text": [
      "== Parsed Logical Plan ==\n",
      "CTE [x]\n",
      ":  +- 'SubqueryAlias x\n",
      ":     +- 'Project ['id, 'ts, 'label, 'ts_2, 'f2, 'ts_3, 'f3, 'RANK() windowspecdefinition('id, 'ts, named_struct(NamePlaceholder, 'ts_2, NamePlaceholder, 'ts_3) DESC NULLS LAST, unspecifiedframe$()) AS rank#1104]\n",
      ":        +- 'Join Inner, (('a.id = 'c.id_3) AND ('a.ts >= 'c.ts_3))\n",
      ":           :- 'Join Inner, (('a.id = 'b.id_2) AND ('a.ts >= 'b.ts_2))\n",
      ":           :  :- 'SubqueryAlias a\n",
      ":           :  :  +- 'UnresolvedRelation [fg01], [], false\n",
      ":           :  +- 'SubqueryAlias b\n",
      ":           :     +- 'UnresolvedRelation [fg02], [], false\n",
      ":           +- 'SubqueryAlias c\n",
      ":              +- 'UnresolvedRelation [fg03], [], false\n",
      "+- 'Project [*]\n",
      "   +- 'Filter ('rank = 1)\n",
      "      +- 'UnresolvedRelation [x], [], false\n",
      "\n",
      "== Analyzed Logical Plan ==\n",
      "id: int, ts: int, label: string, ts_2: int, f2: string, ts_3: int, f3: string, rank: int\n",
      "Project [id#1028, ts#1029, label#1030, ts_2#1057, f2#1052, ts_3#1084, f3#1079, rank#1104]\n",
      "+- Filter (rank#1104 = 1)\n",
      "   +- SubqueryAlias x\n",
      "      +- Project [id#1028, ts#1029, label#1030, ts_2#1057, f2#1052, ts_3#1084, f3#1079, rank#1104]\n",
      "         +- Project [id#1028, ts#1029, label#1030, ts_2#1057, f2#1052, ts_3#1084, f3#1079, _w0#1107, rank#1104, rank#1104]\n",
      "            +- Window [rank(_w0#1107) windowspecdefinition(id#1028, ts#1029, _w0#1107 DESC NULLS LAST, specifiedwindowframe(RowFrame, unboundedpreceding$(), currentrow$())) AS rank#1104], [id#1028, ts#1029], [_w0#1107 DESC NULLS LAST]\n",
      "               +- Project [id#1028, ts#1029, label#1030, ts_2#1057, f2#1052, ts_3#1084, f3#1079, named_struct(ts_2, ts_2#1057, ts_3, ts_3#1084) AS _w0#1107]\n",
      "                  +- Join Inner, ((id#1028 = id_3#1083) AND (ts#1029 >= ts_3#1084))\n",
      "                     :- Join Inner, ((id#1028 = id_2#1056) AND (ts#1029 >= ts_2#1057))\n",
      "                     :  :- SubqueryAlias a\n",
      "                     :  :  +- SubqueryAlias fg01\n",
      "                     :  :     +- Sort [id#1028 ASC NULLS FIRST, ts#1029 ASC NULLS FIRST], true\n",
      "                     :  :        +- Relation[id#1028,ts#1029,label#1030] csv\n",
      "                     :  +- SubqueryAlias b\n",
      "                     :     +- SubqueryAlias fg02\n",
      "                     :        +- Project [id#1050 AS id_2#1056, ts#1051 AS ts_2#1057, f2#1052]\n",
      "                     :           +- Relation[id#1050,ts#1051,f2#1052] csv\n",
      "                     +- SubqueryAlias c\n",
      "                        +- SubqueryAlias fg03\n",
      "                           +- Project [id#1077 AS id_3#1083, ts#1078 AS ts_3#1084, f3#1079]\n",
      "                              +- Relation[id#1077,ts#1078,f3#1079] csv\n",
      "\n",
      "== Optimized Logical Plan ==\n",
      "Project [id#1028, ts#1029, label#1030, ts_2#1057, f2#1052, ts_3#1084, f3#1079, rank#1104]\n",
      "+- Filter (isnotnull(rank#1104) AND (rank#1104 = 1))\n",
      "   +- Window [rank(_w0#1107) windowspecdefinition(id#1028, ts#1029, _w0#1107 DESC NULLS LAST, specifiedwindowframe(RowFrame, unboundedpreceding$(), currentrow$())) AS rank#1104], [id#1028, ts#1029], [_w0#1107 DESC NULLS LAST]\n",
      "      +- Project [id#1028, ts#1029, label#1030, ts_2#1057, f2#1052, ts_3#1084, f3#1079, named_struct(ts_2, ts_2#1057, ts_3, ts_3#1084) AS _w0#1107]\n",
      "         +- Join Inner, ((id#1028 = id_3#1083) AND (ts#1029 >= ts_3#1084))\n",
      "            :- Project [id#1028, ts#1029, label#1030, ts_2#1057, f2#1052]\n",
      "            :  +- Join Inner, ((id#1028 = id_2#1056) AND (ts#1029 >= ts_2#1057))\n",
      "            :     :- Filter (isnotnull(id#1028) AND isnotnull(ts#1029))\n",
      "            :     :  +- Relation[id#1028,ts#1029,label#1030] csv\n",
      "            :     +- Project [id#1050 AS id_2#1056, ts#1051 AS ts_2#1057, f2#1052]\n",
      "            :        +- Filter (isnotnull(id#1050) AND isnotnull(ts#1051))\n",
      "            :           +- Relation[id#1050,ts#1051,f2#1052] csv\n",
      "            +- Project [id#1077 AS id_3#1083, ts#1078 AS ts_3#1084, f3#1079]\n",
      "               +- Filter (isnotnull(id#1077) AND isnotnull(ts#1078))\n",
      "                  +- Relation[id#1077,ts#1078,f3#1079] csv\n",
      "\n",
      "== Physical Plan ==\n",
      "*(5) Project [id#1028, ts#1029, label#1030, ts_2#1057, f2#1052, ts_3#1084, f3#1079, rank#1104]\n",
      "+- *(5) Filter (isnotnull(rank#1104) AND (rank#1104 = 1))\n",
      "   +- Window [rank(_w0#1107) windowspecdefinition(id#1028, ts#1029, _w0#1107 DESC NULLS LAST, specifiedwindowframe(RowFrame, unboundedpreceding$(), currentrow$())) AS rank#1104], [id#1028, ts#1029], [_w0#1107 DESC NULLS LAST]\n",
      "      +- *(4) Sort [id#1028 ASC NULLS FIRST, ts#1029 ASC NULLS FIRST, _w0#1107 DESC NULLS LAST], false, 0\n",
      "         +- Exchange hashpartitioning(id#1028, ts#1029, 200), ENSURE_REQUIREMENTS, [id=#1829]\n",
      "            +- *(3) Project [id#1028, ts#1029, label#1030, ts_2#1057, f2#1052, ts_3#1084, f3#1079, named_struct(ts_2, ts_2#1057, ts_3, ts_3#1084) AS _w0#1107]\n",
      "               +- *(3) BroadcastHashJoin [id#1028], [id_3#1083], Inner, BuildRight, (ts#1029 >= ts_3#1084), false\n",
      "                  :- *(3) Project [id#1028, ts#1029, label#1030, ts_2#1057, f2#1052]\n",
      "                  :  +- *(3) BroadcastHashJoin [id#1028], [id_2#1056], Inner, BuildRight, (ts#1029 >= ts_2#1057), false\n",
      "                  :     :- *(3) Filter (isnotnull(id#1028) AND isnotnull(ts#1029))\n",
      "                  :     :  +- FileScan csv [id#1028,ts#1029,label#1030] Batched: false, DataFilters: [isnotnull(id#1028), isnotnull(ts#1029)], Format: CSV, Location: InMemoryFileIndex[hdfs://rpc.namenode.service.consul:8020/Projects/demo_fs_meb10000/Jupyter/5-10-..., PartitionFilters: [], PushedFilters: [IsNotNull(id), IsNotNull(ts)], ReadSchema: struct<id:int,ts:int,label:string>\n",
      "                  :     +- BroadcastExchange HashedRelationBroadcastMode(List(cast(input[0, int, true] as bigint)),false), [id=#1816]\n",
      "                  :        +- *(1) Project [id#1050 AS id_2#1056, ts#1051 AS ts_2#1057, f2#1052]\n",
      "                  :           +- *(1) Filter (isnotnull(id#1050) AND isnotnull(ts#1051))\n",
      "                  :              +- FileScan csv [id#1050,ts#1051,f2#1052] Batched: false, DataFilters: [isnotnull(id#1050), isnotnull(ts#1051)], Format: CSV, Location: InMemoryFileIndex[hdfs://rpc.namenode.service.consul:8020/Projects/demo_fs_meb10000/Jupyter/5-10-..., PartitionFilters: [], PushedFilters: [IsNotNull(id), IsNotNull(ts)], ReadSchema: struct<id:int,ts:int,f2:string>\n",
      "                  +- BroadcastExchange HashedRelationBroadcastMode(List(cast(input[0, int, true] as bigint)),false), [id=#1824]\n",
      "                     +- *(2) Project [id#1077 AS id_3#1083, ts#1078 AS ts_3#1084, f3#1079]\n",
      "                        +- *(2) Filter (isnotnull(id#1077) AND isnotnull(ts#1078))\n",
      "                           +- FileScan csv [id#1077,ts#1078,f3#1079] Batched: false, DataFilters: [isnotnull(id#1077), isnotnull(ts#1078)], Format: CSV, Location: InMemoryFileIndex[hdfs://rpc.namenode.service.consul:8020/Projects/demo_fs_meb10000/Jupyter/5-10-..., PartitionFilters: [], PushedFilters: [IsNotNull(id), IsNotNull(ts)], ReadSchema: struct<id:int,ts:int,f3:string>"
     ]
    }
   ],
   "source": [
    "result.explain(True)"
   ]
  },
  {
   "cell_type": "code",
   "execution_count": 37,
   "id": "2f6ac8dc",
   "metadata": {},
   "outputs": [],
   "source": [
    "result2 = spark.sql(\"with \"\n",
    "                   \"x1 as (\"\n",
    "                       \"select * from (\"\n",
    "                           \"SELECT id, ts, label, ts_2, f2, RANK() OVER (PARTITION BY id, ts ORDER BY ts_2 DESC) AS rank \"\n",
    "                           \"FROM fg01 a \"\n",
    "                           \"join fg02 b \"\n",
    "                           \"on a.id = b.id_2 \"\n",
    "                           \"and a.ts >= b.ts_2) \"\n",
    "                       \"where rank = 1), \"\n",
    "                   \"x2 as (\"\n",
    "                       \"select * from (\"\n",
    "                           \"SELECT id, ts, label, ts_3, f3, RANK() OVER (PARTITION BY id, ts ORDER BY ts_3 DESC) AS rank \"\n",
    "                           \"FROM fg01 a \"\n",
    "                           \"join fg03 b \"\n",
    "                           \"on a.id = b.id_3 \"\n",
    "                           \"and a.ts >= b.ts_3) \"\n",
    "                       \"where rank = 1) \"\n",
    "                   \"select x1.id, x1.ts, x1.label, x1.f2, x2.f3 from x1 \"\n",
    "                   \"join x2 \"\n",
    "                   \"on x1.id = x2.id \"\n",
    "                   \"and x1.ts = x2.ts\");"
   ]
  },
  {
   "cell_type": "code",
   "execution_count": 38,
   "id": "ca95d339",
   "metadata": {},
   "outputs": [
    {
     "name": "stdout",
     "output_type": "stream",
     "text": [
      "+---+----+-----+-----+-----+\n",
      "| id|  ts|label|   f2|   f3|\n",
      "+---+----+-----+-----+-----+\n",
      "|  1|1004| f2-2| f3-1| f3-1|\n",
      "|  1|1006| f2-3| f3-2| f3-2|\n",
      "|  1|1008| f2-4| f3-2| f3-2|\n",
      "|  1|1010| f2-5| f3-3| f3-3|\n",
      "|  2|1004| f2-7| f3-4| f3-4|\n",
      "|  2|1006| f2-8| f3-5| f3-5|\n",
      "|  2|1008| f2-9| f3-5| f3-5|\n",
      "|  2|1010|f2-10| f3-6| f3-6|\n",
      "|  3|1004|f2-12| f3-7| f3-7|\n",
      "|  3|1006|f2-13| f3-8| f3-8|\n",
      "|  3|1008|f2-14| f3-8| f3-8|\n",
      "|  3|1010|f2-15| f3-9| f3-9|\n",
      "|  4|1004|f2-17|f3-10|f3-10|\n",
      "|  4|1006|f2-18|f3-11|f3-11|\n",
      "|  4|1008|f2-19|f3-11|f3-11|\n",
      "|  4|1010|f2-20|f3-12|f3-12|\n",
      "|  5|1004|f2-22|f3-13|f3-13|\n",
      "|  5|1006|f2-23|f3-14|f3-14|\n",
      "|  5|1008|f2-24|f3-14|f3-14|\n",
      "|  5|1010|f2-25|f3-15|f3-15|\n",
      "+---+----+-----+-----+-----+"
     ]
    }
   ],
   "source": [
    "result2.sort(col(\"id\"),col(\"ts\")).show(50)"
   ]
  },
  {
   "cell_type": "code",
   "execution_count": 39,
   "id": "7c7e2340",
   "metadata": {},
   "outputs": [
    {
     "name": "stdout",
     "output_type": "stream",
     "text": [
      "== Parsed Logical Plan ==\n",
      "CTE [x1, x2]\n",
      ":  :- 'SubqueryAlias x1\n",
      ":  :  +- 'Project [*]\n",
      ":  :     +- 'Filter ('rank = 1)\n",
      ":  :        +- 'SubqueryAlias __auto_generated_subquery_name\n",
      ":  :           +- 'Project ['id, 'ts, 'label, 'ts_2, 'f2, 'RANK() windowspecdefinition('id, 'ts, 'ts_2 DESC NULLS LAST, unspecifiedframe$()) AS rank#1164]\n",
      ":  :              +- 'Join Inner, (('a.id = 'b.id_2) AND ('a.ts >= 'b.ts_2))\n",
      ":  :                 :- 'SubqueryAlias a\n",
      ":  :                 :  +- 'UnresolvedRelation [fg01], [], false\n",
      ":  :                 +- 'SubqueryAlias b\n",
      ":  :                    +- 'UnresolvedRelation [fg02], [], false\n",
      ":  +- 'SubqueryAlias x2\n",
      ":     +- 'Project [*]\n",
      ":        +- 'Filter ('rank = 1)\n",
      ":           +- 'SubqueryAlias __auto_generated_subquery_name\n",
      ":              +- 'Project ['id, 'ts, 'label, 'ts_3, 'f3, 'RANK() windowspecdefinition('id, 'ts, 'ts_3 DESC NULLS LAST, unspecifiedframe$()) AS rank#1165]\n",
      ":                 +- 'Join Inner, (('a.id = 'b.id_3) AND ('a.ts >= 'b.ts_3))\n",
      ":                    :- 'SubqueryAlias a\n",
      ":                    :  +- 'UnresolvedRelation [fg01], [], false\n",
      ":                    +- 'SubqueryAlias b\n",
      ":                       +- 'UnresolvedRelation [fg03], [], false\n",
      "+- 'Project ['x1.id, 'x1.ts, 'x1.label, 'x1.f2, 'x2.f3]\n",
      "   +- 'Join Inner, (('x1.id = 'x2.id) AND ('x1.ts = 'x2.ts))\n",
      "      :- 'UnresolvedRelation [x1], [], false\n",
      "      +- 'UnresolvedRelation [x2], [], false\n",
      "\n",
      "== Analyzed Logical Plan ==\n",
      "id: int, ts: int, label: string, f2: string, f3: string\n",
      "Project [id#1028, ts#1029, label#1030, f2#1052, f3#1079]\n",
      "+- Join Inner, ((id#1028 = id#1170) AND (ts#1029 = ts#1171))\n",
      "   :- SubqueryAlias x1\n",
      "   :  +- Project [id#1028, ts#1029, label#1030, ts_2#1057, f2#1052, rank#1164]\n",
      "   :     +- Filter (rank#1164 = 1)\n",
      "   :        +- SubqueryAlias __auto_generated_subquery_name\n",
      "   :           +- Project [id#1028, ts#1029, label#1030, ts_2#1057, f2#1052, rank#1164]\n",
      "   :              +- Project [id#1028, ts#1029, label#1030, ts_2#1057, f2#1052, rank#1164, rank#1164]\n",
      "   :                 +- Window [rank(ts_2#1057) windowspecdefinition(id#1028, ts#1029, ts_2#1057 DESC NULLS LAST, specifiedwindowframe(RowFrame, unboundedpreceding$(), currentrow$())) AS rank#1164], [id#1028, ts#1029], [ts_2#1057 DESC NULLS LAST]\n",
      "   :                    +- Project [id#1028, ts#1029, label#1030, ts_2#1057, f2#1052]\n",
      "   :                       +- Join Inner, ((id#1028 = id_2#1056) AND (ts#1029 >= ts_2#1057))\n",
      "   :                          :- SubqueryAlias a\n",
      "   :                          :  +- SubqueryAlias fg01\n",
      "   :                          :     +- Sort [id#1028 ASC NULLS FIRST, ts#1029 ASC NULLS FIRST], true\n",
      "   :                          :        +- Relation[id#1028,ts#1029,label#1030] csv\n",
      "   :                          +- SubqueryAlias b\n",
      "   :                             +- SubqueryAlias fg02\n",
      "   :                                +- Project [id#1050 AS id_2#1056, ts#1051 AS ts_2#1057, f2#1052]\n",
      "   :                                   +- Relation[id#1050,ts#1051,f2#1052] csv\n",
      "   +- SubqueryAlias x2\n",
      "      +- Project [id#1170, ts#1171, label#1172, ts_3#1084, f3#1079, rank#1165]\n",
      "         +- Filter (rank#1165 = 1)\n",
      "            +- SubqueryAlias __auto_generated_subquery_name\n",
      "               +- Project [id#1170, ts#1171, label#1172, ts_3#1084, f3#1079, rank#1165]\n",
      "                  +- Project [id#1170, ts#1171, label#1172, ts_3#1084, f3#1079, rank#1165, rank#1165]\n",
      "                     +- Window [rank(ts_3#1084) windowspecdefinition(id#1170, ts#1171, ts_3#1084 DESC NULLS LAST, specifiedwindowframe(RowFrame, unboundedpreceding$(), currentrow$())) AS rank#1165], [id#1170, ts#1171], [ts_3#1084 DESC NULLS LAST]\n",
      "                        +- Project [id#1170, ts#1171, label#1172, ts_3#1084, f3#1079]\n",
      "                           +- Join Inner, ((id#1170 = id_3#1083) AND (ts#1171 >= ts_3#1084))\n",
      "                              :- SubqueryAlias a\n",
      "                              :  +- SubqueryAlias fg01\n",
      "                              :     +- Sort [id#1170 ASC NULLS FIRST, ts#1171 ASC NULLS FIRST], true\n",
      "                              :        +- Relation[id#1170,ts#1171,label#1172] csv\n",
      "                              +- SubqueryAlias b\n",
      "                                 +- SubqueryAlias fg03\n",
      "                                    +- Project [id#1077 AS id_3#1083, ts#1078 AS ts_3#1084, f3#1079]\n",
      "                                       +- Relation[id#1077,ts#1078,f3#1079] csv\n",
      "\n",
      "== Optimized Logical Plan ==\n",
      "Project [id#1028, ts#1029, label#1030, f2#1052, f3#1079]\n",
      "+- Join Inner, ((id#1028 = id#1170) AND (ts#1029 = ts#1171))\n",
      "   :- Project [id#1028, ts#1029, label#1030, f2#1052]\n",
      "   :  +- Filter (isnotnull(rank#1164) AND (rank#1164 = 1))\n",
      "   :     +- Window [rank(ts_2#1057) windowspecdefinition(id#1028, ts#1029, ts_2#1057 DESC NULLS LAST, specifiedwindowframe(RowFrame, unboundedpreceding$(), currentrow$())) AS rank#1164], [id#1028, ts#1029], [ts_2#1057 DESC NULLS LAST]\n",
      "   :        +- Project [id#1028, ts#1029, label#1030, ts_2#1057, f2#1052]\n",
      "   :           +- Join Inner, ((id#1028 = id_2#1056) AND (ts#1029 >= ts_2#1057))\n",
      "   :              :- Filter (isnotnull(id#1028) AND isnotnull(ts#1029))\n",
      "   :              :  +- Relation[id#1028,ts#1029,label#1030] csv\n",
      "   :              +- Project [id#1050 AS id_2#1056, ts#1051 AS ts_2#1057, f2#1052]\n",
      "   :                 +- Filter (isnotnull(id#1050) AND isnotnull(ts#1051))\n",
      "   :                    +- Relation[id#1050,ts#1051,f2#1052] csv\n",
      "   +- Project [id#1170, ts#1171, f3#1079]\n",
      "      +- Filter (isnotnull(rank#1165) AND (rank#1165 = 1))\n",
      "         +- Window [rank(ts_3#1084) windowspecdefinition(id#1170, ts#1171, ts_3#1084 DESC NULLS LAST, specifiedwindowframe(RowFrame, unboundedpreceding$(), currentrow$())) AS rank#1165], [id#1170, ts#1171], [ts_3#1084 DESC NULLS LAST]\n",
      "            +- Project [id#1170, ts#1171, ts_3#1084, f3#1079]\n",
      "               +- Join Inner, ((id#1170 = id_3#1083) AND (ts#1171 >= ts_3#1084))\n",
      "                  :- Project [id#1170, ts#1171]\n",
      "                  :  +- Filter (isnotnull(id#1170) AND isnotnull(ts#1171))\n",
      "                  :     +- Relation[id#1170,ts#1171,label#1172] csv\n",
      "                  +- Project [id#1077 AS id_3#1083, ts#1078 AS ts_3#1084, f3#1079]\n",
      "                     +- Filter (isnotnull(id#1077) AND isnotnull(ts#1078))\n",
      "                        +- Relation[id#1077,ts#1078,f3#1079] csv\n",
      "\n",
      "== Physical Plan ==\n",
      "*(8) Project [id#1028, ts#1029, label#1030, f2#1052, f3#1079]\n",
      "+- *(8) BroadcastHashJoin [id#1028, ts#1029], [id#1170, ts#1171], Inner, BuildRight, false\n",
      "   :- *(8) Project [id#1028, ts#1029, label#1030, f2#1052]\n",
      "   :  +- *(8) Filter (isnotnull(rank#1164) AND (rank#1164 = 1))\n",
      "   :     +- Window [rank(ts_2#1057) windowspecdefinition(id#1028, ts#1029, ts_2#1057 DESC NULLS LAST, specifiedwindowframe(RowFrame, unboundedpreceding$(), currentrow$())) AS rank#1164], [id#1028, ts#1029], [ts_2#1057 DESC NULLS LAST]\n",
      "   :        +- *(3) Sort [id#1028 ASC NULLS FIRST, ts#1029 ASC NULLS FIRST, ts_2#1057 DESC NULLS LAST], false, 0\n",
      "   :           +- Exchange hashpartitioning(id#1028, ts#1029, 200), ENSURE_REQUIREMENTS, [id=#2125]\n",
      "   :              +- *(2) Project [id#1028, ts#1029, label#1030, ts_2#1057, f2#1052]\n",
      "   :                 +- *(2) BroadcastHashJoin [id#1028], [id_2#1056], Inner, BuildRight, (ts#1029 >= ts_2#1057), false\n",
      "   :                    :- *(2) Filter (isnotnull(id#1028) AND isnotnull(ts#1029))\n",
      "   :                    :  +- FileScan csv [id#1028,ts#1029,label#1030] Batched: false, DataFilters: [isnotnull(id#1028), isnotnull(ts#1029)], Format: CSV, Location: InMemoryFileIndex[hdfs://rpc.namenode.service.consul:8020/Projects/demo_fs_meb10000/Jupyter/5-10-..., PartitionFilters: [], PushedFilters: [IsNotNull(id), IsNotNull(ts)], ReadSchema: struct<id:int,ts:int,label:string>\n",
      "   :                    +- BroadcastExchange HashedRelationBroadcastMode(List(cast(input[0, int, true] as bigint)),false), [id=#2120]\n",
      "   :                       +- *(1) Project [id#1050 AS id_2#1056, ts#1051 AS ts_2#1057, f2#1052]\n",
      "   :                          +- *(1) Filter (isnotnull(id#1050) AND isnotnull(ts#1051))\n",
      "   :                             +- FileScan csv [id#1050,ts#1051,f2#1052] Batched: false, DataFilters: [isnotnull(id#1050), isnotnull(ts#1051)], Format: CSV, Location: InMemoryFileIndex[hdfs://rpc.namenode.service.consul:8020/Projects/demo_fs_meb10000/Jupyter/5-10-..., PartitionFilters: [], PushedFilters: [IsNotNull(id), IsNotNull(ts)], ReadSchema: struct<id:int,ts:int,f2:string>\n",
      "   +- BroadcastExchange HashedRelationBroadcastMode(List((shiftleft(cast(input[0, int, true] as bigint), 32) | (cast(input[1, int, true] as bigint) & 4294967295))),false), [id=#2153]\n",
      "      +- *(7) Project [id#1170, ts#1171, f3#1079]\n",
      "         +- *(7) Filter (isnotnull(rank#1165) AND (rank#1165 = 1))\n",
      "            +- Window [rank(ts_3#1084) windowspecdefinition(id#1170, ts#1171, ts_3#1084 DESC NULLS LAST, specifiedwindowframe(RowFrame, unboundedpreceding$(), currentrow$())) AS rank#1165], [id#1170, ts#1171], [ts_3#1084 DESC NULLS LAST]\n",
      "               +- *(6) Sort [id#1170 ASC NULLS FIRST, ts#1171 ASC NULLS FIRST, ts_3#1084 DESC NULLS LAST], false, 0\n",
      "                  +- Exchange hashpartitioning(id#1170, ts#1171, 200), ENSURE_REQUIREMENTS, [id=#2144]\n",
      "                     +- *(5) Project [id#1170, ts#1171, ts_3#1084, f3#1079]\n",
      "                        +- *(5) BroadcastHashJoin [id#1170], [id_3#1083], Inner, BuildLeft, (ts#1171 >= ts_3#1084), false\n",
      "                           :- BroadcastExchange HashedRelationBroadcastMode(List(cast(input[0, int, false] as bigint)),false), [id=#2136]\n",
      "                           :  +- *(4) Filter (isnotnull(id#1170) AND isnotnull(ts#1171))\n",
      "                           :     +- FileScan csv [id#1170,ts#1171] Batched: false, DataFilters: [isnotnull(id#1170), isnotnull(ts#1171)], Format: CSV, Location: InMemoryFileIndex[hdfs://rpc.namenode.service.consul:8020/Projects/demo_fs_meb10000/Jupyter/5-10-..., PartitionFilters: [], PushedFilters: [IsNotNull(id), IsNotNull(ts)], ReadSchema: struct<id:int,ts:int>\n",
      "                           +- *(5) Project [id#1077 AS id_3#1083, ts#1078 AS ts_3#1084, f3#1079]\n",
      "                              +- *(5) Filter (isnotnull(id#1077) AND isnotnull(ts#1078))\n",
      "                                 +- FileScan csv [id#1077,ts#1078,f3#1079] Batched: false, DataFilters: [isnotnull(id#1077), isnotnull(ts#1078)], Format: CSV, Location: InMemoryFileIndex[hdfs://rpc.namenode.service.consul:8020/Projects/demo_fs_meb10000/Jupyter/5-10-..., PartitionFilters: [], PushedFilters: [IsNotNull(id), IsNotNull(ts)], ReadSchema: struct<id:int,ts:int,f3:string>"
     ]
    }
   ],
   "source": [
    "result2.explain(True)"
   ]
  },
  {
   "cell_type": "markdown",
   "id": "608973d8",
   "metadata": {},
   "source": [
    "## 1 mio rows"
   ]
  },
  {
   "cell_type": "code",
   "execution_count": 40,
   "id": "a22c5ff1",
   "metadata": {},
   "outputs": [
    {
     "name": "stdout",
     "output_type": "stream",
     "text": [
      "+---+-------------------+-----+\n",
      "| id|                 ts|label|\n",
      "+---+-------------------+-----+\n",
      "|  1|1970-01-01 00:17:00|   f1|\n",
      "|  1|1970-01-01 00:17:20|   f1|\n",
      "|  1|1970-01-01 00:17:40|   f1|\n",
      "|  1|1970-01-01 00:18:00|   f1|\n",
      "|  1|1970-01-01 00:18:20|   f1|\n",
      "|  1|1970-01-01 00:18:40|   f1|\n",
      "|  1|1970-01-01 00:19:00|   f1|\n",
      "|  1|1970-01-01 00:19:20|   f1|\n",
      "|  1|1970-01-01 00:19:40|   f1|\n",
      "|  1|1970-01-01 00:20:00|   f1|\n",
      "|  1|1970-01-01 00:20:20|   f1|\n",
      "|  1|1970-01-01 00:20:40|   f1|\n",
      "|  1|1970-01-01 00:21:00|   f1|\n",
      "|  1|1970-01-01 00:21:20|   f1|\n",
      "|  1|1970-01-01 00:21:40|   f1|\n",
      "|  1|1970-01-01 00:22:00|   f1|\n",
      "|  1|1970-01-01 00:22:20|   f1|\n",
      "|  1|1970-01-01 00:22:40|   f1|\n",
      "|  1|1970-01-01 00:23:00|   f1|\n",
      "|  1|1970-01-01 00:23:20|   f1|\n",
      "+---+-------------------+-----+\n",
      "only showing top 20 rows"
     ]
    }
   ],
   "source": [
    "fg01_schema = StructType([\n",
    "  StructField(\"id\", IntegerType(), True),\n",
    "  StructField(\"ts\", IntegerType(), True),\n",
    "  StructField(\"label\", StringType(), True)    \n",
    "])\n",
    "\n",
    "fg01=spark.read.csv(\"hdfs:///Projects/\" + hdfs.project_name() + \"/Jupyter/100000-20-1-out.csv\", header=True, schema=fg01_schema)\n",
    "fg01=fg01.sort(col(\"id\"),col(\"ts\")).withColumn(\"ts\", from_unixtime(\"ts\").cast(\"timestamp\"))\n",
    "fg01.show()"
   ]
  },
  {
   "cell_type": "code",
   "execution_count": 41,
   "id": "5809f17f",
   "metadata": {},
   "outputs": [
    {
     "name": "stdout",
     "output_type": "stream",
     "text": [
      "+----+-------------------+---+\n",
      "|id_2|               ts_2| f2|\n",
      "+----+-------------------+---+\n",
      "|   1|1970-01-01 00:17:00| f2|\n",
      "|   1|1970-01-01 00:17:20| f2|\n",
      "|   1|1970-01-01 00:17:40| f2|\n",
      "|   1|1970-01-01 00:18:00| f2|\n",
      "|   1|1970-01-01 00:18:20| f2|\n",
      "|   1|1970-01-01 00:18:40| f2|\n",
      "|   1|1970-01-01 00:19:00| f2|\n",
      "|   1|1970-01-01 00:19:20| f2|\n",
      "|   1|1970-01-01 00:19:40| f2|\n",
      "|   1|1970-01-01 00:20:00| f2|\n",
      "|   1|1970-01-01 00:20:20| f2|\n",
      "|   1|1970-01-01 00:20:40| f2|\n",
      "|   1|1970-01-01 00:21:00| f2|\n",
      "|   1|1970-01-01 00:21:20| f2|\n",
      "|   1|1970-01-01 00:21:40| f2|\n",
      "|   1|1970-01-01 00:22:00| f2|\n",
      "|   1|1970-01-01 00:22:20| f2|\n",
      "|   1|1970-01-01 00:22:40| f2|\n",
      "|   1|1970-01-01 00:23:00| f2|\n",
      "|   1|1970-01-01 00:23:20| f2|\n",
      "+----+-------------------+---+\n",
      "only showing top 20 rows"
     ]
    }
   ],
   "source": [
    "fg02_schema = StructType([\n",
    "  StructField(\"id\", IntegerType(), True),\n",
    "  StructField(\"ts\", IntegerType(), True),\n",
    "  StructField(\"f2\", StringType(), True)    \n",
    "])\n",
    "\n",
    "fg02=spark.read.csv(\"hdfs:///Projects/\" + hdfs.project_name() + \"/Jupyter/100000-20-2-out.csv\", header=True, schema=fg02_schema)\n",
    "fg02=fg02.select([col(\"id\").alias(\"id_2\"), col(\"ts\").alias(\"ts_2\"), col(\"f2\")]).withColumn(\"ts_2\", from_unixtime(\"ts_2\").cast(\"timestamp\"))\n",
    "fg02.show()"
   ]
  },
  {
   "cell_type": "code",
   "execution_count": 42,
   "id": "1166499f",
   "metadata": {},
   "outputs": [
    {
     "name": "stdout",
     "output_type": "stream",
     "text": [
      "+----+-------------------+---+\n",
      "|id_3|               ts_3| f3|\n",
      "+----+-------------------+---+\n",
      "|   1|1970-01-01 00:17:00| f2|\n",
      "|   1|1970-01-01 00:17:20| f2|\n",
      "|   1|1970-01-01 00:17:40| f2|\n",
      "|   1|1970-01-01 00:18:00| f2|\n",
      "|   1|1970-01-01 00:18:20| f2|\n",
      "|   1|1970-01-01 00:18:40| f2|\n",
      "|   1|1970-01-01 00:19:00| f2|\n",
      "|   1|1970-01-01 00:19:20| f2|\n",
      "|   1|1970-01-01 00:19:40| f2|\n",
      "|   1|1970-01-01 00:20:00| f2|\n",
      "|   1|1970-01-01 00:20:20| f2|\n",
      "|   1|1970-01-01 00:20:40| f2|\n",
      "|   1|1970-01-01 00:21:00| f2|\n",
      "|   1|1970-01-01 00:21:20| f2|\n",
      "|   1|1970-01-01 00:21:40| f2|\n",
      "|   1|1970-01-01 00:22:00| f2|\n",
      "|   1|1970-01-01 00:22:20| f2|\n",
      "|   1|1970-01-01 00:22:40| f2|\n",
      "|   1|1970-01-01 00:23:00| f2|\n",
      "|   1|1970-01-01 00:23:20| f2|\n",
      "+----+-------------------+---+\n",
      "only showing top 20 rows"
     ]
    }
   ],
   "source": [
    "fg03_schema = StructType([\n",
    "  StructField(\"id\", IntegerType(), True),\n",
    "  StructField(\"ts\", IntegerType(), True),\n",
    "  StructField(\"f3\", StringType(), True)    \n",
    "])\n",
    "\n",
    "fg03=spark.read.csv(\"hdfs:///Projects/\" + hdfs.project_name() + \"/Jupyter/100000-20-2-out.csv\", header=True, schema=fg03_schema)\n",
    "fg03=fg03.select([col(\"id\").alias(\"id_3\"), col(\"ts\").alias(\"ts_3\"), col(\"f3\")]).withColumn(\"ts_3\", from_unixtime(\"ts_3\").cast(\"timestamp\"))\n",
    "fg03.show()"
   ]
  },
  {
   "cell_type": "code",
   "execution_count": 43,
   "id": "9e021319",
   "metadata": {},
   "outputs": [],
   "source": [
    "fg01.registerTempTable(\"fg01\")\n",
    "fg02.registerTempTable(\"fg02\")\n",
    "fg03.registerTempTable(\"fg03\")"
   ]
  },
  {
   "cell_type": "code",
   "execution_count": 44,
   "id": "0e5eb0ba",
   "metadata": {},
   "outputs": [],
   "source": [
    "result = spark.sql(\"with x as (\"\n",
    "                       \"SELECT id, ts, label, ts_2, f2, ts_3, f3, ROW_NUMBER() OVER (PARTITION BY id, ts ORDER BY (ts_2, ts_3) DESC) AS rank \"\n",
    "                       \"FROM fg01 a \"\n",
    "                       \"join fg02 b \"\n",
    "                       \"on a.id = b.id_2 \"\n",
    "                       \"and a.ts >= b.ts_2 \"\n",
    "                       \"join fg03 c \"\n",
    "                       \"on a.id = c.id_3 \"\n",
    "                       \"and a.ts >= c.ts_3) \"\n",
    "                   \"select * from x where rank = 1\");"
   ]
  },
  {
   "cell_type": "code",
   "execution_count": 45,
   "id": "a1df7a8a",
   "metadata": {},
   "outputs": [
    {
     "name": "stdout",
     "output_type": "stream",
     "text": [
      "+---+-------------------+-----+-------------------+---+-------------------+---+----+\n",
      "| id|                 ts|label|               ts_2| f2|               ts_3| f3|rank|\n",
      "+---+-------------------+-----+-------------------+---+-------------------+---+----+\n",
      "|148|1970-01-01 00:17:00|   f1|1970-01-01 00:17:00| f2|1970-01-01 00:17:00| f2|   1|\n",
      "|148|1970-01-01 00:17:20|   f1|1970-01-01 00:17:20| f2|1970-01-01 00:17:20| f2|   1|\n",
      "|148|1970-01-01 00:17:40|   f1|1970-01-01 00:17:40| f2|1970-01-01 00:17:40| f2|   1|\n",
      "|148|1970-01-01 00:18:00|   f1|1970-01-01 00:18:00| f2|1970-01-01 00:18:00| f2|   1|\n",
      "|148|1970-01-01 00:18:20|   f1|1970-01-01 00:18:20| f2|1970-01-01 00:18:20| f2|   1|\n",
      "|148|1970-01-01 00:18:40|   f1|1970-01-01 00:18:40| f2|1970-01-01 00:18:40| f2|   1|\n",
      "|148|1970-01-01 00:19:00|   f1|1970-01-01 00:19:00| f2|1970-01-01 00:19:00| f2|   1|\n",
      "|148|1970-01-01 00:19:20|   f1|1970-01-01 00:19:20| f2|1970-01-01 00:19:20| f2|   1|\n",
      "|148|1970-01-01 00:19:40|   f1|1970-01-01 00:19:40| f2|1970-01-01 00:19:40| f2|   1|\n",
      "|148|1970-01-01 00:20:00|   f1|1970-01-01 00:20:00| f2|1970-01-01 00:20:00| f2|   1|\n",
      "+---+-------------------+-----+-------------------+---+-------------------+---+----+\n",
      "only showing top 10 rows"
     ]
    }
   ],
   "source": [
    "result.show(10)"
   ]
  },
  {
   "cell_type": "code",
   "execution_count": 46,
   "id": "75400ee1",
   "metadata": {},
   "outputs": [
    {
     "name": "stdout",
     "output_type": "stream",
     "text": [
      "== Parsed Logical Plan ==\n",
      "CTE [x]\n",
      ":  +- 'SubqueryAlias x\n",
      ":     +- 'Project ['id, 'ts, 'label, 'ts_2, 'f2, 'ts_3, 'f3, 'ROW_NUMBER() windowspecdefinition('id, 'ts, named_struct(NamePlaceholder, 'ts_2, NamePlaceholder, 'ts_3) DESC NULLS LAST, unspecifiedframe$()) AS rank#1325]\n",
      ":        +- 'Join Inner, (('a.id = 'c.id_3) AND ('a.ts >= 'c.ts_3))\n",
      ":           :- 'Join Inner, (('a.id = 'b.id_2) AND ('a.ts >= 'b.ts_2))\n",
      ":           :  :- 'SubqueryAlias a\n",
      ":           :  :  +- 'UnresolvedRelation [fg01], [], false\n",
      ":           :  +- 'SubqueryAlias b\n",
      ":           :     +- 'UnresolvedRelation [fg02], [], false\n",
      ":           +- 'SubqueryAlias c\n",
      ":              +- 'UnresolvedRelation [fg03], [], false\n",
      "+- 'Project [*]\n",
      "   +- 'Filter ('rank = 1)\n",
      "      +- 'UnresolvedRelation [x], [], false\n",
      "\n",
      "== Analyzed Logical Plan ==\n",
      "id: int, ts: timestamp, label: string, ts_2: timestamp, f2: string, ts_3: timestamp, f3: string, rank: int\n",
      "Project [id#1228, ts#1234, label#1230, ts_2#1265, f2#1256, ts_3#1296, f3#1287, rank#1325]\n",
      "+- Filter (rank#1325 = 1)\n",
      "   +- SubqueryAlias x\n",
      "      +- Project [id#1228, ts#1234, label#1230, ts_2#1265, f2#1256, ts_3#1296, f3#1287, rank#1325]\n",
      "         +- Project [id#1228, ts#1234, label#1230, ts_2#1265, f2#1256, ts_3#1296, f3#1287, _w0#1327, rank#1325, rank#1325]\n",
      "            +- Window [row_number() windowspecdefinition(id#1228, ts#1234, _w0#1327 DESC NULLS LAST, specifiedwindowframe(RowFrame, unboundedpreceding$(), currentrow$())) AS rank#1325], [id#1228, ts#1234], [_w0#1327 DESC NULLS LAST]\n",
      "               +- Project [id#1228, ts#1234, label#1230, ts_2#1265, f2#1256, ts_3#1296, f3#1287, named_struct(ts_2, ts_2#1265, ts_3, ts_3#1296) AS _w0#1327]\n",
      "                  +- Join Inner, ((id#1228 = id_3#1291) AND (ts#1234 >= ts_3#1296))\n",
      "                     :- Join Inner, ((id#1228 = id_2#1260) AND (ts#1234 >= ts_2#1265))\n",
      "                     :  :- SubqueryAlias a\n",
      "                     :  :  +- SubqueryAlias fg01\n",
      "                     :  :     +- Project [id#1228, cast(from_unixtime(cast(ts#1229 as bigint), yyyy-MM-dd HH:mm:ss, Some(GMT)) as timestamp) AS ts#1234, label#1230]\n",
      "                     :  :        +- Sort [id#1228 ASC NULLS FIRST, ts#1229 ASC NULLS FIRST], true\n",
      "                     :  :           +- Relation[id#1228,ts#1229,label#1230] csv\n",
      "                     :  +- SubqueryAlias b\n",
      "                     :     +- SubqueryAlias fg02\n",
      "                     :        +- Project [id_2#1260, cast(from_unixtime(cast(ts_2#1261 as bigint), yyyy-MM-dd HH:mm:ss, Some(GMT)) as timestamp) AS ts_2#1265, f2#1256]\n",
      "                     :           +- Project [id#1254 AS id_2#1260, ts#1255 AS ts_2#1261, f2#1256]\n",
      "                     :              +- Relation[id#1254,ts#1255,f2#1256] csv\n",
      "                     +- SubqueryAlias c\n",
      "                        +- SubqueryAlias fg03\n",
      "                           +- Project [id_3#1291, cast(from_unixtime(cast(ts_3#1292 as bigint), yyyy-MM-dd HH:mm:ss, Some(GMT)) as timestamp) AS ts_3#1296, f3#1287]\n",
      "                              +- Project [id#1285 AS id_3#1291, ts#1286 AS ts_3#1292, f3#1287]\n",
      "                                 +- Relation[id#1285,ts#1286,f3#1287] csv\n",
      "\n",
      "== Optimized Logical Plan ==\n",
      "Project [id#1228, ts#1234, label#1230, ts_2#1265, f2#1256, ts_3#1296, f3#1287, rank#1325]\n",
      "+- Filter (isnotnull(rank#1325) AND (rank#1325 = 1))\n",
      "   +- Window [row_number() windowspecdefinition(id#1228, ts#1234, _w0#1327 DESC NULLS LAST, specifiedwindowframe(RowFrame, unboundedpreceding$(), currentrow$())) AS rank#1325], [id#1228, ts#1234], [_w0#1327 DESC NULLS LAST]\n",
      "      +- Project [id#1228, ts#1234, label#1230, ts_2#1265, f2#1256, ts_3#1296, f3#1287, named_struct(ts_2, ts_2#1265, ts_3, ts_3#1296) AS _w0#1327]\n",
      "         +- Join Inner, ((id#1228 = id_3#1291) AND (ts#1234 >= ts_3#1296))\n",
      "            :- Project [id#1228, ts#1234, label#1230, ts_2#1265, f2#1256]\n",
      "            :  +- Join Inner, ((id#1228 = id_2#1260) AND (ts#1234 >= ts_2#1265))\n",
      "            :     :- Project [id#1228, cast(from_unixtime(cast(ts#1229 as bigint), yyyy-MM-dd HH:mm:ss, Some(GMT)) as timestamp) AS ts#1234, label#1230]\n",
      "            :     :  +- Filter (isnotnull(id#1228) AND isnotnull(cast(from_unixtime(cast(ts#1229 as bigint), yyyy-MM-dd HH:mm:ss, Some(GMT)) as timestamp)))\n",
      "            :     :     +- Relation[id#1228,ts#1229,label#1230] csv\n",
      "            :     +- Project [id#1254 AS id_2#1260, cast(from_unixtime(cast(ts#1255 as bigint), yyyy-MM-dd HH:mm:ss, Some(GMT)) as timestamp) AS ts_2#1265, f2#1256]\n",
      "            :        +- Filter (isnotnull(id#1254) AND isnotnull(cast(from_unixtime(cast(ts#1255 as bigint), yyyy-MM-dd HH:mm:ss, Some(GMT)) as timestamp)))\n",
      "            :           +- Relation[id#1254,ts#1255,f2#1256] csv\n",
      "            +- Project [id#1285 AS id_3#1291, cast(from_unixtime(cast(ts#1286 as bigint), yyyy-MM-dd HH:mm:ss, Some(GMT)) as timestamp) AS ts_3#1296, f3#1287]\n",
      "               +- Filter (isnotnull(id#1285) AND isnotnull(cast(from_unixtime(cast(ts#1286 as bigint), yyyy-MM-dd HH:mm:ss, Some(GMT)) as timestamp)))\n",
      "                  +- Relation[id#1285,ts#1286,f3#1287] csv\n",
      "\n",
      "== Physical Plan ==\n",
      "*(9) Project [id#1228, ts#1234, label#1230, ts_2#1265, f2#1256, ts_3#1296, f3#1287, rank#1325]\n",
      "+- *(9) Filter (isnotnull(rank#1325) AND (rank#1325 = 1))\n",
      "   +- Window [row_number() windowspecdefinition(id#1228, ts#1234, _w0#1327 DESC NULLS LAST, specifiedwindowframe(RowFrame, unboundedpreceding$(), currentrow$())) AS rank#1325], [id#1228, ts#1234], [_w0#1327 DESC NULLS LAST]\n",
      "      +- *(8) Sort [id#1228 ASC NULLS FIRST, ts#1234 ASC NULLS FIRST, _w0#1327 DESC NULLS LAST], false, 0\n",
      "         +- *(8) Project [id#1228, ts#1234, label#1230, ts_2#1265, f2#1256, ts_3#1296, f3#1287, named_struct(ts_2, ts_2#1265, ts_3, ts_3#1296) AS _w0#1327]\n",
      "            +- *(8) SortMergeJoin [id#1228], [id_3#1291], Inner, (ts#1234 >= ts_3#1296)\n",
      "               :- *(5) Project [id#1228, ts#1234, label#1230, ts_2#1265, f2#1256]\n",
      "               :  +- *(5) SortMergeJoin [id#1228], [id_2#1260], Inner, (ts#1234 >= ts_2#1265)\n",
      "               :     :- *(2) Sort [id#1228 ASC NULLS FIRST], false, 0\n",
      "               :     :  +- Exchange hashpartitioning(id#1228, 200), ENSURE_REQUIREMENTS, [id=#2384]\n",
      "               :     :     +- *(1) Project [id#1228, cast(from_unixtime(cast(ts#1229 as bigint), yyyy-MM-dd HH:mm:ss, Some(GMT)) as timestamp) AS ts#1234, label#1230]\n",
      "               :     :        +- *(1) Filter (isnotnull(id#1228) AND isnotnull(cast(from_unixtime(cast(ts#1229 as bigint), yyyy-MM-dd HH:mm:ss, Some(GMT)) as timestamp)))\n",
      "               :     :           +- FileScan csv [id#1228,ts#1229,label#1230] Batched: false, DataFilters: [isnotnull(id#1228), isnotnull(cast(from_unixtime(cast(ts#1229 as bigint), yyyy-MM-dd HH:mm:ss, S..., Format: CSV, Location: InMemoryFileIndex[hdfs://rpc.namenode.service.consul:8020/Projects/demo_fs_meb10000/Jupyter/10000..., PartitionFilters: [], PushedFilters: [IsNotNull(id)], ReadSchema: struct<id:int,ts:int,label:string>\n",
      "               :     +- *(4) Sort [id_2#1260 ASC NULLS FIRST], false, 0\n",
      "               :        +- Exchange hashpartitioning(id_2#1260, 200), ENSURE_REQUIREMENTS, [id=#2393]\n",
      "               :           +- *(3) Project [id#1254 AS id_2#1260, cast(from_unixtime(cast(ts#1255 as bigint), yyyy-MM-dd HH:mm:ss, Some(GMT)) as timestamp) AS ts_2#1265, f2#1256]\n",
      "               :              +- *(3) Filter (isnotnull(id#1254) AND isnotnull(cast(from_unixtime(cast(ts#1255 as bigint), yyyy-MM-dd HH:mm:ss, Some(GMT)) as timestamp)))\n",
      "               :                 +- FileScan csv [id#1254,ts#1255,f2#1256] Batched: false, DataFilters: [isnotnull(id#1254), isnotnull(cast(from_unixtime(cast(ts#1255 as bigint), yyyy-MM-dd HH:mm:ss, S..., Format: CSV, Location: InMemoryFileIndex[hdfs://rpc.namenode.service.consul:8020/Projects/demo_fs_meb10000/Jupyter/10000..., PartitionFilters: [], PushedFilters: [IsNotNull(id)], ReadSchema: struct<id:int,ts:int,f2:string>\n",
      "               +- *(7) Sort [id_3#1291 ASC NULLS FIRST], false, 0\n",
      "                  +- Exchange hashpartitioning(id_3#1291, 200), ENSURE_REQUIREMENTS, [id=#2406]\n",
      "                     +- *(6) Project [id#1285 AS id_3#1291, cast(from_unixtime(cast(ts#1286 as bigint), yyyy-MM-dd HH:mm:ss, Some(GMT)) as timestamp) AS ts_3#1296, f3#1287]\n",
      "                        +- *(6) Filter (isnotnull(id#1285) AND isnotnull(cast(from_unixtime(cast(ts#1286 as bigint), yyyy-MM-dd HH:mm:ss, Some(GMT)) as timestamp)))\n",
      "                           +- FileScan csv [id#1285,ts#1286,f3#1287] Batched: false, DataFilters: [isnotnull(id#1285), isnotnull(cast(from_unixtime(cast(ts#1286 as bigint), yyyy-MM-dd HH:mm:ss, S..., Format: CSV, Location: InMemoryFileIndex[hdfs://rpc.namenode.service.consul:8020/Projects/demo_fs_meb10000/Jupyter/10000..., PartitionFilters: [], PushedFilters: [IsNotNull(id)], ReadSchema: struct<id:int,ts:int,f3:string>"
     ]
    }
   ],
   "source": [
    "result.explain(True)"
   ]
  },
  {
   "cell_type": "code",
   "execution_count": 47,
   "id": "e589716d",
   "metadata": {},
   "outputs": [],
   "source": [
    "result2 = spark.sql(\"with \"\n",
    "                   \"x1 as (\"\n",
    "                       \"select * from (\"\n",
    "                           \"SELECT id, ts, label, ts_2, f2, RANK() OVER (PARTITION BY id, ts ORDER BY ts_2 DESC) AS rank \"\n",
    "                           \"FROM fg01 a \"\n",
    "                           \"join fg02 b \"\n",
    "                           \"on a.id = b.id_2 \"\n",
    "                           \"and a.ts >= b.ts_2) \"\n",
    "                       \"where rank = 1), \"\n",
    "                   \"x2 as (\"\n",
    "                       \"select * from (\"\n",
    "                           \"SELECT id, ts, label, ts_3, f3, RANK() OVER (PARTITION BY id, ts ORDER BY ts_3 DESC) AS rank \"\n",
    "                           \"FROM fg01 a \"\n",
    "                           \"join fg03 b \"\n",
    "                           \"on a.id = b.id_3 \"\n",
    "                           \"and a.ts >= b.ts_3) \"\n",
    "                       \"where rank = 1) \"\n",
    "                   \"select c.id, c.ts, c.label, c.ts_2, c.f2, d.ts_3, d.f3, d.rank from x1 c \"\n",
    "                   \"join x2 d \"\n",
    "                   \"on c.id = d.id \"\n",
    "                   \"and c.ts = d.ts\");"
   ]
  },
  {
   "cell_type": "code",
   "execution_count": 48,
   "id": "84390d8f",
   "metadata": {},
   "outputs": [
    {
     "name": "stdout",
     "output_type": "stream",
     "text": [
      "== Parsed Logical Plan ==\n",
      "CTE [x1, x2]\n",
      ":  :- 'SubqueryAlias x1\n",
      ":  :  +- 'Project [*]\n",
      ":  :     +- 'Filter ('rank = 1)\n",
      ":  :        +- 'SubqueryAlias __auto_generated_subquery_name\n",
      ":  :           +- 'Project ['id, 'ts, 'label, 'ts_2, 'f2, 'RANK() windowspecdefinition('id, 'ts, 'ts_2 DESC NULLS LAST, unspecifiedframe$()) AS rank#1378]\n",
      ":  :              +- 'Join Inner, (('a.id = 'b.id_2) AND ('a.ts >= 'b.ts_2))\n",
      ":  :                 :- 'SubqueryAlias a\n",
      ":  :                 :  +- 'UnresolvedRelation [fg01], [], false\n",
      ":  :                 +- 'SubqueryAlias b\n",
      ":  :                    +- 'UnresolvedRelation [fg02], [], false\n",
      ":  +- 'SubqueryAlias x2\n",
      ":     +- 'Project [*]\n",
      ":        +- 'Filter ('rank = 1)\n",
      ":           +- 'SubqueryAlias __auto_generated_subquery_name\n",
      ":              +- 'Project ['id, 'ts, 'label, 'ts_3, 'f3, 'RANK() windowspecdefinition('id, 'ts, 'ts_3 DESC NULLS LAST, unspecifiedframe$()) AS rank#1379]\n",
      ":                 +- 'Join Inner, (('a.id = 'b.id_3) AND ('a.ts >= 'b.ts_3))\n",
      ":                    :- 'SubqueryAlias a\n",
      ":                    :  +- 'UnresolvedRelation [fg01], [], false\n",
      ":                    +- 'SubqueryAlias b\n",
      ":                       +- 'UnresolvedRelation [fg03], [], false\n",
      "+- 'Project ['c.id, 'c.ts, 'c.label, 'c.ts_2, 'c.f2, 'd.ts_3, 'd.f3, 'd.rank]\n",
      "   +- 'Join Inner, (('c.id = 'd.id) AND ('c.ts = 'd.ts))\n",
      "      :- 'SubqueryAlias c\n",
      "      :  +- 'UnresolvedRelation [x1], [], false\n",
      "      +- 'SubqueryAlias d\n",
      "         +- 'UnresolvedRelation [x2], [], false\n",
      "\n",
      "== Analyzed Logical Plan ==\n",
      "id: int, ts: timestamp, label: string, ts_2: timestamp, f2: string, ts_3: timestamp, f3: string, rank: int\n",
      "Project [id#1228, ts#1234, label#1230, ts_2#1265, f2#1256, ts_3#1296, f3#1287, rank#1379]\n",
      "+- Join Inner, ((id#1228 = id#1391) AND (ts#1234 = ts#1384))\n",
      "   :- SubqueryAlias c\n",
      "   :  +- SubqueryAlias x1\n",
      "   :     +- Project [id#1228, ts#1234, label#1230, ts_2#1265, f2#1256, rank#1378]\n",
      "   :        +- Filter (rank#1378 = 1)\n",
      "   :           +- SubqueryAlias __auto_generated_subquery_name\n",
      "   :              +- Project [id#1228, ts#1234, label#1230, ts_2#1265, f2#1256, rank#1378]\n",
      "   :                 +- Project [id#1228, ts#1234, label#1230, ts_2#1265, f2#1256, rank#1378, rank#1378]\n",
      "   :                    +- Window [rank(ts_2#1265) windowspecdefinition(id#1228, ts#1234, ts_2#1265 DESC NULLS LAST, specifiedwindowframe(RowFrame, unboundedpreceding$(), currentrow$())) AS rank#1378], [id#1228, ts#1234], [ts_2#1265 DESC NULLS LAST]\n",
      "   :                       +- Project [id#1228, ts#1234, label#1230, ts_2#1265, f2#1256]\n",
      "   :                          +- Join Inner, ((id#1228 = id_2#1260) AND (ts#1234 >= ts_2#1265))\n",
      "   :                             :- SubqueryAlias a\n",
      "   :                             :  +- SubqueryAlias fg01\n",
      "   :                             :     +- Project [id#1228, cast(from_unixtime(cast(ts#1229 as bigint), yyyy-MM-dd HH:mm:ss, Some(GMT)) as timestamp) AS ts#1234, label#1230]\n",
      "   :                             :        +- Sort [id#1228 ASC NULLS FIRST, ts#1229 ASC NULLS FIRST], true\n",
      "   :                             :           +- Relation[id#1228,ts#1229,label#1230] csv\n",
      "   :                             +- SubqueryAlias b\n",
      "   :                                +- SubqueryAlias fg02\n",
      "   :                                   +- Project [id_2#1260, cast(from_unixtime(cast(ts_2#1261 as bigint), yyyy-MM-dd HH:mm:ss, Some(GMT)) as timestamp) AS ts_2#1265, f2#1256]\n",
      "   :                                      +- Project [id#1254 AS id_2#1260, ts#1255 AS ts_2#1261, f2#1256]\n",
      "   :                                         +- Relation[id#1254,ts#1255,f2#1256] csv\n",
      "   +- SubqueryAlias d\n",
      "      +- SubqueryAlias x2\n",
      "         +- Project [id#1391, ts#1384, label#1393, ts_3#1296, f3#1287, rank#1379]\n",
      "            +- Filter (rank#1379 = 1)\n",
      "               +- SubqueryAlias __auto_generated_subquery_name\n",
      "                  +- Project [id#1391, ts#1384, label#1393, ts_3#1296, f3#1287, rank#1379]\n",
      "                     +- Project [id#1391, ts#1384, label#1393, ts_3#1296, f3#1287, rank#1379, rank#1379]\n",
      "                        +- Window [rank(ts_3#1296) windowspecdefinition(id#1391, ts#1384, ts_3#1296 DESC NULLS LAST, specifiedwindowframe(RowFrame, unboundedpreceding$(), currentrow$())) AS rank#1379], [id#1391, ts#1384], [ts_3#1296 DESC NULLS LAST]\n",
      "                           +- Project [id#1391, ts#1384, label#1393, ts_3#1296, f3#1287]\n",
      "                              +- Join Inner, ((id#1391 = id_3#1291) AND (ts#1384 >= ts_3#1296))\n",
      "                                 :- SubqueryAlias a\n",
      "                                 :  +- SubqueryAlias fg01\n",
      "                                 :     +- Project [id#1391, cast(from_unixtime(cast(ts#1392 as bigint), yyyy-MM-dd HH:mm:ss, Some(GMT)) as timestamp) AS ts#1384, label#1393]\n",
      "                                 :        +- Sort [id#1391 ASC NULLS FIRST, ts#1392 ASC NULLS FIRST], true\n",
      "                                 :           +- Relation[id#1391,ts#1392,label#1393] csv\n",
      "                                 +- SubqueryAlias b\n",
      "                                    +- SubqueryAlias fg03\n",
      "                                       +- Project [id_3#1291, cast(from_unixtime(cast(ts_3#1292 as bigint), yyyy-MM-dd HH:mm:ss, Some(GMT)) as timestamp) AS ts_3#1296, f3#1287]\n",
      "                                          +- Project [id#1285 AS id_3#1291, ts#1286 AS ts_3#1292, f3#1287]\n",
      "                                             +- Relation[id#1285,ts#1286,f3#1287] csv\n",
      "\n",
      "== Optimized Logical Plan ==\n",
      "Project [id#1228, ts#1234, label#1230, ts_2#1265, f2#1256, ts_3#1296, f3#1287, rank#1379]\n",
      "+- Join Inner, ((id#1228 = id#1391) AND (ts#1234 = ts#1384))\n",
      "   :- Project [id#1228, ts#1234, label#1230, ts_2#1265, f2#1256]\n",
      "   :  +- Filter (isnotnull(rank#1378) AND (rank#1378 = 1))\n",
      "   :     +- Window [rank(ts_2#1265) windowspecdefinition(id#1228, ts#1234, ts_2#1265 DESC NULLS LAST, specifiedwindowframe(RowFrame, unboundedpreceding$(), currentrow$())) AS rank#1378], [id#1228, ts#1234], [ts_2#1265 DESC NULLS LAST]\n",
      "   :        +- Project [id#1228, ts#1234, label#1230, ts_2#1265, f2#1256]\n",
      "   :           +- Join Inner, ((id#1228 = id_2#1260) AND (ts#1234 >= ts_2#1265))\n",
      "   :              :- Project [id#1228, cast(from_unixtime(cast(ts#1229 as bigint), yyyy-MM-dd HH:mm:ss, Some(GMT)) as timestamp) AS ts#1234, label#1230]\n",
      "   :              :  +- Filter (isnotnull(id#1228) AND isnotnull(cast(from_unixtime(cast(ts#1229 as bigint), yyyy-MM-dd HH:mm:ss, Some(GMT)) as timestamp)))\n",
      "   :              :     +- Relation[id#1228,ts#1229,label#1230] csv\n",
      "   :              +- Project [id#1254 AS id_2#1260, cast(from_unixtime(cast(ts#1255 as bigint), yyyy-MM-dd HH:mm:ss, Some(GMT)) as timestamp) AS ts_2#1265, f2#1256]\n",
      "   :                 +- Filter (isnotnull(id#1254) AND isnotnull(cast(from_unixtime(cast(ts#1255 as bigint), yyyy-MM-dd HH:mm:ss, Some(GMT)) as timestamp)))\n",
      "   :                    +- Relation[id#1254,ts#1255,f2#1256] csv\n",
      "   +- Filter (isnotnull(rank#1379) AND (rank#1379 = 1))\n",
      "      +- Window [rank(ts_3#1296) windowspecdefinition(id#1391, ts#1384, ts_3#1296 DESC NULLS LAST, specifiedwindowframe(RowFrame, unboundedpreceding$(), currentrow$())) AS rank#1379], [id#1391, ts#1384], [ts_3#1296 DESC NULLS LAST]\n",
      "         +- Project [id#1391, ts#1384, ts_3#1296, f3#1287]\n",
      "            +- Join Inner, ((id#1391 = id_3#1291) AND (ts#1384 >= ts_3#1296))\n",
      "               :- Project [id#1391, cast(from_unixtime(cast(ts#1392 as bigint), yyyy-MM-dd HH:mm:ss, Some(GMT)) as timestamp) AS ts#1384]\n",
      "               :  +- Filter (isnotnull(id#1391) AND isnotnull(cast(from_unixtime(cast(ts#1392 as bigint), yyyy-MM-dd HH:mm:ss, Some(GMT)) as timestamp)))\n",
      "               :     +- Relation[id#1391,ts#1392,label#1393] csv\n",
      "               +- Project [id#1285 AS id_3#1291, cast(from_unixtime(cast(ts#1286 as bigint), yyyy-MM-dd HH:mm:ss, Some(GMT)) as timestamp) AS ts_3#1296, f3#1287]\n",
      "                  +- Filter (isnotnull(id#1285) AND isnotnull(cast(from_unixtime(cast(ts#1286 as bigint), yyyy-MM-dd HH:mm:ss, Some(GMT)) as timestamp)))\n",
      "                     +- Relation[id#1285,ts#1286,f3#1287] csv\n",
      "\n",
      "== Physical Plan ==\n",
      "*(15) Project [id#1228, ts#1234, label#1230, ts_2#1265, f2#1256, ts_3#1296, f3#1287, rank#1379]\n",
      "+- *(15) SortMergeJoin [id#1228, ts#1234], [id#1391, ts#1384], Inner\n",
      "   :- *(7) Sort [id#1228 ASC NULLS FIRST, ts#1234 ASC NULLS FIRST], false, 0\n",
      "   :  +- Exchange hashpartitioning(id#1228, ts#1234, 200), ENSURE_REQUIREMENTS, [id=#2553]\n",
      "   :     +- *(6) Project [id#1228, ts#1234, label#1230, ts_2#1265, f2#1256]\n",
      "   :        +- *(6) Filter (isnotnull(rank#1378) AND (rank#1378 = 1))\n",
      "   :           +- Window [rank(ts_2#1265) windowspecdefinition(id#1228, ts#1234, ts_2#1265 DESC NULLS LAST, specifiedwindowframe(RowFrame, unboundedpreceding$(), currentrow$())) AS rank#1378], [id#1228, ts#1234], [ts_2#1265 DESC NULLS LAST]\n",
      "   :              +- *(5) Sort [id#1228 ASC NULLS FIRST, ts#1234 ASC NULLS FIRST, ts_2#1265 DESC NULLS LAST], false, 0\n",
      "   :                 +- *(5) Project [id#1228, ts#1234, label#1230, ts_2#1265, f2#1256]\n",
      "   :                    +- *(5) SortMergeJoin [id#1228], [id_2#1260], Inner, (ts#1234 >= ts_2#1265)\n",
      "   :                       :- *(2) Sort [id#1228 ASC NULLS FIRST], false, 0\n",
      "   :                       :  +- Exchange hashpartitioning(id#1228, 200), ENSURE_REQUIREMENTS, [id=#2530]\n",
      "   :                       :     +- *(1) Project [id#1228, cast(from_unixtime(cast(ts#1229 as bigint), yyyy-MM-dd HH:mm:ss, Some(GMT)) as timestamp) AS ts#1234, label#1230]\n",
      "   :                       :        +- *(1) Filter (isnotnull(id#1228) AND isnotnull(cast(from_unixtime(cast(ts#1229 as bigint), yyyy-MM-dd HH:mm:ss, Some(GMT)) as timestamp)))\n",
      "   :                       :           +- FileScan csv [id#1228,ts#1229,label#1230] Batched: false, DataFilters: [isnotnull(id#1228), isnotnull(cast(from_unixtime(cast(ts#1229 as bigint), yyyy-MM-dd HH:mm:ss, S..., Format: CSV, Location: InMemoryFileIndex[hdfs://rpc.namenode.service.consul:8020/Projects/demo_fs_meb10000/Jupyter/10000..., PartitionFilters: [], PushedFilters: [IsNotNull(id)], ReadSchema: struct<id:int,ts:int,label:string>\n",
      "   :                       +- *(4) Sort [id_2#1260 ASC NULLS FIRST], false, 0\n",
      "   :                          +- Exchange hashpartitioning(id_2#1260, 200), ENSURE_REQUIREMENTS, [id=#2539]\n",
      "   :                             +- *(3) Project [id#1254 AS id_2#1260, cast(from_unixtime(cast(ts#1255 as bigint), yyyy-MM-dd HH:mm:ss, Some(GMT)) as timestamp) AS ts_2#1265, f2#1256]\n",
      "   :                                +- *(3) Filter (isnotnull(id#1254) AND isnotnull(cast(from_unixtime(cast(ts#1255 as bigint), yyyy-MM-dd HH:mm:ss, Some(GMT)) as timestamp)))\n",
      "   :                                   +- FileScan csv [id#1254,ts#1255,f2#1256] Batched: false, DataFilters: [isnotnull(id#1254), isnotnull(cast(from_unixtime(cast(ts#1255 as bigint), yyyy-MM-dd HH:mm:ss, S..., Format: CSV, Location: InMemoryFileIndex[hdfs://rpc.namenode.service.consul:8020/Projects/demo_fs_meb10000/Jupyter/10000..., PartitionFilters: [], PushedFilters: [IsNotNull(id)], ReadSchema: struct<id:int,ts:int,f2:string>\n",
      "   +- *(14) Sort [id#1391 ASC NULLS FIRST, ts#1384 ASC NULLS FIRST], false, 0\n",
      "      +- Exchange hashpartitioning(id#1391, ts#1384, 200), ENSURE_REQUIREMENTS, [id=#2584]\n",
      "         +- *(13) Filter (isnotnull(rank#1379) AND (rank#1379 = 1))\n",
      "            +- Window [rank(ts_3#1296) windowspecdefinition(id#1391, ts#1384, ts_3#1296 DESC NULLS LAST, specifiedwindowframe(RowFrame, unboundedpreceding$(), currentrow$())) AS rank#1379], [id#1391, ts#1384], [ts_3#1296 DESC NULLS LAST]\n",
      "               +- *(12) Sort [id#1391 ASC NULLS FIRST, ts#1384 ASC NULLS FIRST, ts_3#1296 DESC NULLS LAST], false, 0\n",
      "                  +- *(12) Project [id#1391, ts#1384, ts_3#1296, f3#1287]\n",
      "                     +- *(12) SortMergeJoin [id#1391], [id_3#1291], Inner, (ts#1384 >= ts_3#1296)\n",
      "                        :- *(9) Sort [id#1391 ASC NULLS FIRST], false, 0\n",
      "                        :  +- Exchange hashpartitioning(id#1391, 200), ENSURE_REQUIREMENTS, [id=#2562]\n",
      "                        :     +- *(8) Project [id#1391, cast(from_unixtime(cast(ts#1392 as bigint), yyyy-MM-dd HH:mm:ss, Some(GMT)) as timestamp) AS ts#1384]\n",
      "                        :        +- *(8) Filter (isnotnull(id#1391) AND isnotnull(cast(from_unixtime(cast(ts#1392 as bigint), yyyy-MM-dd HH:mm:ss, Some(GMT)) as timestamp)))\n",
      "                        :           +- FileScan csv [id#1391,ts#1392] Batched: false, DataFilters: [isnotnull(id#1391), isnotnull(cast(from_unixtime(cast(ts#1392 as bigint), yyyy-MM-dd HH:mm:ss, S..., Format: CSV, Location: InMemoryFileIndex[hdfs://rpc.namenode.service.consul:8020/Projects/demo_fs_meb10000/Jupyter/10000..., PartitionFilters: [], PushedFilters: [IsNotNull(id)], ReadSchema: struct<id:int,ts:int>\n",
      "                        +- *(11) Sort [id_3#1291 ASC NULLS FIRST], false, 0\n",
      "                           +- Exchange hashpartitioning(id_3#1291, 200), ENSURE_REQUIREMENTS, [id=#2571]\n",
      "                              +- *(10) Project [id#1285 AS id_3#1291, cast(from_unixtime(cast(ts#1286 as bigint), yyyy-MM-dd HH:mm:ss, Some(GMT)) as timestamp) AS ts_3#1296, f3#1287]\n",
      "                                 +- *(10) Filter (isnotnull(id#1285) AND isnotnull(cast(from_unixtime(cast(ts#1286 as bigint), yyyy-MM-dd HH:mm:ss, Some(GMT)) as timestamp)))\n",
      "                                    +- FileScan csv [id#1285,ts#1286,f3#1287] Batched: false, DataFilters: [isnotnull(id#1285), isnotnull(cast(from_unixtime(cast(ts#1286 as bigint), yyyy-MM-dd HH:mm:ss, S..., Format: CSV, Location: InMemoryFileIndex[hdfs://rpc.namenode.service.consul:8020/Projects/demo_fs_meb10000/Jupyter/10000..., PartitionFilters: [], PushedFilters: [IsNotNull(id)], ReadSchema: struct<id:int,ts:int,f3:string>"
     ]
    }
   ],
   "source": [
    "result2.explain(True)"
   ]
  },
  {
   "cell_type": "code",
   "execution_count": 49,
   "id": "0a1fcdc2",
   "metadata": {},
   "outputs": [],
   "source": [
    "result.write.format(\"parquet\").save(\"hdfs:///Projects/demo_fs_meb10000/Resources/option1\", mode=\"overwrite\")"
   ]
  },
  {
   "cell_type": "code",
   "execution_count": 50,
   "id": "fe20b3f3",
   "metadata": {},
   "outputs": [],
   "source": [
    "result2.write.format(\"parquet\").save(\"hdfs:///Projects/demo_fs_meb10000/Resources/option2\", mode=\"overwrite\")"
   ]
  },
  {
   "cell_type": "markdown",
   "id": "0b38c969",
   "metadata": {},
   "source": [
    "# Real Feature Group PIT Join"
   ]
  },
  {
   "cell_type": "code",
   "execution_count": 2,
   "id": "cfae9444",
   "metadata": {},
   "outputs": [
    {
     "name": "stdout",
     "output_type": "stream",
     "text": [
      "Connected. Call `.close()` to terminate connection gracefully."
     ]
    }
   ],
   "source": [
    "from hops import hdfs\n",
    "import hsfs\n",
    "conn = hsfs.connection()\n",
    "fs = conn.get_feature_store()"
   ]
  },
  {
   "cell_type": "code",
   "execution_count": 3,
   "id": "3545536d",
   "metadata": {},
   "outputs": [],
   "source": [
    "fg01_schema = StructType([\n",
    "  StructField(\"id\", IntegerType(), True),\n",
    "  StructField(\"ts\", IntegerType(), True),\n",
    "  StructField(\"label\", StringType(), True)    \n",
    "])\n",
    "\n",
    "fg01=spark.read.csv(\"hdfs:///Projects/\" + hdfs.project_name() + \"/Jupyter/5-10-2-out.csv\", header=True, schema=fg01_schema)\n",
    "#fg01=fg01.sort(col(\"id\"),col(\"ts\")).withColumn(\"ts\", from_unixtime(\"ts\").cast(\"timestamp\"))\n",
    "fg01=fg01.sort(col(\"id\"),col(\"ts\")).withColumn(\"ts\", col(\"ts\").cast(LongType())).withColumn(\"id2\", col(\"id\") + 10000)"
   ]
  },
  {
   "cell_type": "code",
   "execution_count": 4,
   "id": "4a707cd7",
   "metadata": {},
   "outputs": [],
   "source": [
    "fg02_schema = StructType([\n",
    "  StructField(\"id\", IntegerType(), True),\n",
    "  StructField(\"ts\", IntegerType(), True),\n",
    "  StructField(\"f2\", StringType(), True)    \n",
    "])\n",
    "\n",
    "fg02=spark.read.csv(\"hdfs:///Projects/\" + hdfs.project_name() + \"/Jupyter/5-10-3-out.csv\", header=True, schema=fg02_schema)\n",
    "#fg02=fg02.select([col(\"id\").alias(\"id_2\"), col(\"ts\").alias(\"ts_2\"), col(\"f2\")]).withColumn(\"ts_2\", from_unixtime(\"ts_2\").cast(\"timestamp\"))\n",
    "fg02=fg02.select([col(\"id\"), col(\"ts\"), col(\"f2\")]).withColumn(\"ts2\", col(\"ts\").cast(LongType())).select([col(\"id\"), col(\"ts2\"), col(\"f2\")])"
   ]
  },
  {
   "cell_type": "code",
   "execution_count": 5,
   "id": "0331b302",
   "metadata": {},
   "outputs": [
    {
     "name": "stdout",
     "output_type": "stream",
     "text": [
      "root\n",
      " |-- id: integer (nullable = true)\n",
      " |-- ts2: long (nullable = true)\n",
      " |-- f2: string (nullable = true)"
     ]
    }
   ],
   "source": [
    "fg02.printSchema()"
   ]
  },
  {
   "cell_type": "code",
   "execution_count": 6,
   "id": "d0e5a19e",
   "metadata": {},
   "outputs": [],
   "source": [
    "fg03_schema = StructType([\n",
    "  StructField(\"id\", IntegerType(), True),\n",
    "  StructField(\"ts\", IntegerType(), True),\n",
    "  StructField(\"f3\", StringType(), True)    \n",
    "])\n",
    "\n",
    "fg03=spark.read.csv(\"hdfs:///Projects/\" + hdfs.project_name() + \"/Jupyter/5-10-3-out.csv\", header=True, schema=fg03_schema)\n",
    "#fg03=fg03.select([col(\"id\").alias(\"id_3\"), col(\"ts\").alias(\"ts_3\"), col(\"f3\")]).withColumn(\"ts_3\", from_unixtime(\"ts_3\").cast(\"timestamp\"))\n",
    "fg03=fg03.select([col(\"id\"), col(\"ts\"), col(\"f3\")]).withColumn(\"id2\", col(\"id\") + 10000).withColumn(\"ts\", col(\"ts\").cast(LongType()))"
   ]
  },
  {
   "cell_type": "code",
   "execution_count": 13,
   "id": "c8a33903",
   "metadata": {},
   "outputs": [
    {
     "name": "stdout",
     "output_type": "stream",
     "text": [
      "<hsfs.feature_group.FeatureGroup object at 0x7f680309d390>\n",
      "VersionWarning: No version provided for creating feature group `fg1`, incremented version to `2`."
     ]
    }
   ],
   "source": [
    "fg1 = fs.create_feature_group(\"fg1\", statistics_config=False, online_enabled=True, primary_key=[\"id\"], event_time=\"ts\")\n",
    "\n",
    "fg1.save(fg01)"
   ]
  },
  {
   "cell_type": "code",
   "execution_count": 89,
   "id": "ad615bd6",
   "metadata": {},
   "outputs": [
    {
     "name": "stdout",
     "output_type": "stream",
     "text": [
      "VersionWarning: No version provided for getting feature group `players_features`, defaulting to `1`."
     ]
    }
   ],
   "source": [
    "fg = fs.get_feature_group(\"players_features\")"
   ]
  },
  {
   "cell_type": "code",
   "execution_count": 92,
   "id": "6c3a5b06",
   "metadata": {},
   "outputs": [],
   "source": [
    "query = fg1.select_all().join(fg.select_all(), left_on=[\"id\"], right_on=[\"team_id\"])"
   ]
  },
  {
   "cell_type": "code",
   "execution_count": 94,
   "id": "ee0f1158",
   "metadata": {},
   "outputs": [
    {
     "name": "stdout",
     "output_type": "stream",
     "text": [
      "SELECT `fg1`.`id`, `fg1`.`label`, `fg1`.`ts`, `fg0`.`team_id`, `fg0`.`average_player_rating`, `fg0`.`average_player_age`, `fg0`.`sum_player_rating`, `fg0`.`sum_player_worth`, `fg0`.`average_player_worth`, `fg0`.`sum_player_age`\n",
      "FROM `fg1` `fg1`\n",
      "INNER JOIN `demo_fs_meb10000_featurestore`.`players_features_1` `fg0` ON `fg1`.`id` = `fg0`.`team_id`"
     ]
    }
   ],
   "source": [
    "print(query.to_string())"
   ]
  },
  {
   "cell_type": "code",
   "execution_count": 88,
   "id": "0330b53e",
   "metadata": {},
   "outputs": [
    {
     "name": "stdout",
     "output_type": "stream",
     "text": [
      "<hsfs.feature_group.FeatureGroup object at 0x7f3cc68b53d0>\n",
      "VersionWarning: No version provided for creating feature group `fg2`, incremented version to `1`."
     ]
    }
   ],
   "source": [
    "fg2 = fs.create_feature_group(\"fg2\", statistics_config=False, online_enabled=True, primary_key=[\"id\"], event_time=\"ts2\")\n",
    "\n",
    "fg2.save(fg02)"
   ]
  },
  {
   "cell_type": "code",
   "execution_count": 105,
   "id": "5795d6ef",
   "metadata": {},
   "outputs": [
    {
     "name": "stdout",
     "output_type": "stream",
     "text": [
      "<hsfs.feature_group.FeatureGroup object at 0x7f662d2f3c90>\n",
      "VersionWarning: No version provided for creating feature group `fg3`, incremented version to `1`."
     ]
    }
   ],
   "source": [
    "fg3 = fs.create_feature_group(\"fg3\", statistics_config=False, online_enabled=True, primary_key=[\"id\", \"id2\"], event_time=\"ts\")\n",
    "\n",
    "fg3.save(fg03)"
   ]
  },
  {
   "cell_type": "code",
   "execution_count": 8,
   "id": "62d8e67f",
   "metadata": {},
   "outputs": [
    {
     "name": "stdout",
     "output_type": "stream",
     "text": [
      "VersionWarning: No version provided for getting feature group `fg1`, defaulting to `1`.\n",
      "VersionWarning: No version provided for getting feature group `fg2`, defaulting to `1`.\n",
      "VersionWarning: No version provided for getting feature group `fg3`, defaulting to `1`."
     ]
    }
   ],
   "source": [
    "fg1 = fs.get_feature_group(\"fg1\")\n",
    "fg2 = fs.get_feature_group(\"fg2\")\n",
    "fg3 = fs.get_feature_group(\"fg3\")"
   ]
  },
  {
   "cell_type": "code",
   "execution_count": 10,
   "id": "b70c8630",
   "metadata": {},
   "outputs": [],
   "source": [
    "query = fg1.select_all().join(fg2.select_all(), on=\"id\").join(fg3.select_all(), left_on=[\"id\", \"id2\"], right_on=[\"id\", \"id2\"])"
   ]
  },
  {
   "cell_type": "code",
   "execution_count": 11,
   "id": "2fc8e44a",
   "metadata": {},
   "outputs": [
    {
     "name": "stdout",
     "output_type": "stream",
     "text": [
      "WITH x0 (SELECT *\n",
      "FROM (SELECT `fg2`.`id2`, `fg2`.`label`, `fg2`.`ts`, `fg2`.`id`, `fg0`.`f2`, RANK() OVER (PARTITION BY `fg2`.`id`, `fg2`.`ts` ORDER BY `fg0`.`ts2` DESC) rank\n",
      "FROM `fg2` `fg2`\n",
      "INNER JOIN `fg0` `fg0` ON `fg2`.`id` = `fg0`.`id` AND `fg2`.`ts` >= `fg0`.`ts2`)\n",
      "WHERE `rank` = 1), x1 (SELECT *\n",
      "FROM (SELECT `fg2`.`id2`, `fg2`.`label`, `fg2`.`ts`, `fg2`.`id`, `fg1`.`f3`, RANK() OVER (PARTITION BY `fg2`.`id`, `fg2`.`id2`, `fg2`.`ts` ORDER BY `fg1`.`ts` DESC) rank\n",
      "FROM `fg2` `fg2`\n",
      "INNER JOIN `fg1` `fg1` ON `fg2`.`id` = `fg1`.`id` AND `fg2`.`id2` = `fg1`.`id2` AND `fg2`.`ts` >= `fg1`.`ts`)\n",
      "WHERE `rank` = 1) (SELECT `x0`.`id2`, `x0`.`label`, `x0`.`ts`, `x0`.`id`, `x0`.`f2`, `x1`.`f3`\n",
      "FROM x0\n",
      "INNER JOIN x1 ON `x0`.`id` = `x1`.`id` AND `x0`.`id2` = `x1`.`id2` AND `x0`.`ts` = `x1`.`ts`)"
     ]
    }
   ],
   "source": [
    "print(query.to_string())"
   ]
  },
  {
   "cell_type": "code",
   "execution_count": 93,
   "id": "b026841a",
   "metadata": {},
   "outputs": [
    {
     "name": "stdout",
     "output_type": "stream",
     "text": [
      "SELECT `fg2`.`id2`, `fg2`.`label`, `fg2`.`ts`, `fg2`.`id`, `fg0`.`f2`, `fg1`.`f3`\n",
      "FROM `demo_fs_meb10000`.`fg1_1` `fg2`\n",
      "INNER JOIN `demo_fs_meb10000`.`fg2_1` `fg0` ON `fg2`.`id` = `fg0`.`id`\n",
      "INNER JOIN `demo_fs_meb10000`.`fg3_1` `fg1` ON `fg2`.`id` = `fg1`.`id` AND `fg2`.`id2` = `fg1`.`id2`"
     ]
    }
   ],
   "source": [
    "print(query.to_string(online=True))"
   ]
  },
  {
   "cell_type": "code",
   "execution_count": 94,
   "id": "78c46366",
   "metadata": {},
   "outputs": [
    {
     "name": "stdout",
     "output_type": "stream",
     "text": [
      "+-----+-----+----+---+-----+-----+\n",
      "|  id2|label|  ts| id|   f2|   f3|\n",
      "+-----+-----+----+---+-----+-----+\n",
      "|10004|f2-20|1010|  4|f3-12|f3-12|\n",
      "|10001| f2-1|1002|  1| f3-3| f3-3|\n",
      "|10002|f2-10|1010|  2| f3-6| f3-6|\n",
      "|10003|f2-15|1010|  3| f3-9| f3-9|\n",
      "|10005|f2-24|1008|  5|f3-15|f3-15|\n",
      "+-----+-----+----+---+-----+-----+"
     ]
    }
   ],
   "source": [
    "query.read(online=True).sort(col(\"id\"),col(\"ts\")).show(50)"
   ]
  },
  {
   "cell_type": "code",
   "execution_count": 95,
   "id": "72a0c2fb",
   "metadata": {},
   "outputs": [
    {
     "name": "stdout",
     "output_type": "stream",
     "text": [
      "+-----+-----+----+---+-----+-----+\n",
      "|  id2|label|  ts| id|   f2|   f3|\n",
      "+-----+-----+----+---+-----+-----+\n",
      "|10001| f2-2|1004|  1| f3-1| f3-1|\n",
      "|10001| f2-3|1006|  1| f3-2| f3-2|\n",
      "|10001| f2-4|1008|  1| f3-2| f3-2|\n",
      "|10001| f2-5|1010|  1| f3-3| f3-3|\n",
      "|10002| f2-7|1004|  2| f3-4| f3-4|\n",
      "|10002| f2-8|1006|  2| f3-5| f3-5|\n",
      "|10002| f2-9|1008|  2| f3-5| f3-5|\n",
      "|10002|f2-10|1010|  2| f3-6| f3-6|\n",
      "|10003|f2-12|1004|  3| f3-7| f3-7|\n",
      "|10003|f2-13|1006|  3| f3-8| f3-8|\n",
      "|10003|f2-14|1008|  3| f3-8| f3-8|\n",
      "|10003|f2-15|1010|  3| f3-9| f3-9|\n",
      "|10004|f2-17|1004|  4|f3-10|f3-10|\n",
      "|10004|f2-18|1006|  4|f3-11|f3-11|\n",
      "|10004|f2-19|1008|  4|f3-11|f3-11|\n",
      "|10004|f2-20|1010|  4|f3-12|f3-12|\n",
      "|10005|f2-22|1004|  5|f3-13|f3-13|\n",
      "|10005|f2-23|1006|  5|f3-14|f3-14|\n",
      "|10005|f2-24|1008|  5|f3-14|f3-14|\n",
      "|10005|f2-25|1010|  5|f3-15|f3-15|\n",
      "+-----+-----+----+---+-----+-----+"
     ]
    }
   ],
   "source": [
    "query.read().sort(col(\"id\"),col(\"ts\")).show(50)"
   ]
  },
  {
   "cell_type": "code",
   "execution_count": 96,
   "id": "07f0ca7f",
   "metadata": {},
   "outputs": [],
   "source": [
    "query = fg1.select_all().join(fg2.select_all(), on=\"id\")"
   ]
  },
  {
   "cell_type": "code",
   "execution_count": 97,
   "id": "b23227c7",
   "metadata": {},
   "outputs": [
    {
     "name": "stdout",
     "output_type": "stream",
     "text": [
      "WITH x0 (SELECT *\n",
      "FROM (SELECT `fg1`.`id2`, `fg1`.`label`, `fg1`.`ts`, `fg1`.`id`, `fg0`.`f2`, RANK() OVER (PARTITION BY `fg1`.`id`, `fg1`.`ts` ORDER BY `fg0`.`ts2` DESC) rank\n",
      "FROM `fg1` `fg1`\n",
      "INNER JOIN `fg0` `fg0` ON `fg1`.`id` = `fg0`.`id` AND `fg1`.`ts` >= `fg0`.`ts2`)\n",
      "WHERE `rank` = 1) (SELECT `x0`.`id2`, `x0`.`label`, `x0`.`ts`, `x0`.`id`, `x0`.`f2`\n",
      "FROM x0)"
     ]
    }
   ],
   "source": [
    "print(query.to_string())"
   ]
  },
  {
   "cell_type": "code",
   "execution_count": 98,
   "id": "6e524fdf",
   "metadata": {},
   "outputs": [
    {
     "name": "stdout",
     "output_type": "stream",
     "text": [
      "SELECT `fg1`.`id2`, `fg1`.`label`, `fg1`.`ts`, `fg1`.`id`, `fg0`.`f2`\n",
      "FROM `demo_fs_meb10000`.`fg1_1` `fg1`\n",
      "INNER JOIN `demo_fs_meb10000`.`fg2_1` `fg0` ON `fg1`.`id` = `fg0`.`id`"
     ]
    }
   ],
   "source": [
    "print(query.to_string(online=True))"
   ]
  },
  {
   "cell_type": "code",
   "execution_count": 101,
   "id": "ed0c72ba",
   "metadata": {},
   "outputs": [
    {
     "name": "stdout",
     "output_type": "stream",
     "text": [
      "+-----+-----+----+---+-----+\n",
      "|  id2|label|  ts| id|   f2|\n",
      "+-----+-----+----+---+-----+\n",
      "|10001| f2-1|1002|  1| f3-3|\n",
      "|10002|f2-10|1010|  2| f3-6|\n",
      "|10003|f2-15|1010|  3| f3-9|\n",
      "|10004|f2-20|1010|  4|f3-12|\n",
      "|10005|f2-24|1008|  5|f3-15|\n",
      "+-----+-----+----+---+-----+"
     ]
    }
   ],
   "source": [
    "query.read(online=True).sort(col(\"id\"),col(\"ts\")).show(50)"
   ]
  },
  {
   "cell_type": "code",
   "execution_count": 102,
   "id": "6e0e8675",
   "metadata": {},
   "outputs": [
    {
     "name": "stdout",
     "output_type": "stream",
     "text": [
      "+-----+-----+----+---+-----+\n",
      "|  id2|label|  ts| id|   f2|\n",
      "+-----+-----+----+---+-----+\n",
      "|10001| f2-2|1004|  1| f3-1|\n",
      "|10001| f2-3|1006|  1| f3-2|\n",
      "|10001| f2-4|1008|  1| f3-2|\n",
      "|10001| f2-5|1010|  1| f3-3|\n",
      "|10002| f2-7|1004|  2| f3-4|\n",
      "|10002| f2-8|1006|  2| f3-5|\n",
      "|10002| f2-9|1008|  2| f3-5|\n",
      "|10002|f2-10|1010|  2| f3-6|\n",
      "|10003|f2-12|1004|  3| f3-7|\n",
      "|10003|f2-13|1006|  3| f3-8|\n",
      "|10003|f2-14|1008|  3| f3-8|\n",
      "|10003|f2-15|1010|  3| f3-9|\n",
      "|10004|f2-17|1004|  4|f3-10|\n",
      "|10004|f2-18|1006|  4|f3-11|\n",
      "|10004|f2-19|1008|  4|f3-11|\n",
      "|10004|f2-20|1010|  4|f3-12|\n",
      "|10005|f2-22|1004|  5|f3-13|\n",
      "|10005|f2-23|1006|  5|f3-14|\n",
      "|10005|f2-24|1008|  5|f3-14|\n",
      "|10005|f2-25|1010|  5|f3-15|\n",
      "+-----+-----+----+---+-----+"
     ]
    }
   ],
   "source": [
    "query.read().sort(col(\"id\"),col(\"ts\")).show(50)"
   ]
  },
  {
   "cell_type": "code",
   "execution_count": 18,
   "id": "052c1c7e",
   "metadata": {},
   "outputs": [
    {
     "name": "stdout",
     "output_type": "stream",
     "text": [
      "<hsfs.feature_group.FeatureGroup object at 0x7f3cc68b8490>\n",
      "VersionWarning: No version provided for creating feature group `fg1_nonhudi`, incremented version to `1`."
     ]
    }
   ],
   "source": [
    "fg1_nonhudi = fs.create_feature_group(\"fg1_nonhudi\", statistics_config=False, online_enabled=True, primary_key=[\"id\"], event_time=\"ts\", time_travel_format=None)\n",
    "\n",
    "fg1_nonhudi.save(fg01)"
   ]
  },
  {
   "cell_type": "code",
   "execution_count": 19,
   "id": "3f7edc19",
   "metadata": {},
   "outputs": [
    {
     "name": "stdout",
     "output_type": "stream",
     "text": [
      "<hsfs.feature_group.FeatureGroup object at 0x7f3cc68bd090>\n",
      "VersionWarning: No version provided for creating feature group `fg2_nonhudi`, incremented version to `1`."
     ]
    }
   ],
   "source": [
    "fg2_nonhudi = fs.create_feature_group(\"fg2_nonhudi\", statistics_config=False, online_enabled=True, primary_key=[\"id\"], event_time=\"ts2\", time_travel_format=None)\n",
    "\n",
    "fg2_nonhudi.save(fg02)"
   ]
  },
  {
   "cell_type": "code",
   "execution_count": 20,
   "id": "e7a6293d",
   "metadata": {},
   "outputs": [
    {
     "name": "stdout",
     "output_type": "stream",
     "text": [
      "<hsfs.feature_group.FeatureGroup object at 0x7f3cc68f2910>\n",
      "VersionWarning: No version provided for creating feature group `fg3_nonhudi`, incremented version to `1`."
     ]
    }
   ],
   "source": [
    "fg3_nonhudi = fs.create_feature_group(\"fg3_nonhudi\", statistics_config=False, online_enabled=True, primary_key=[\"id\", \"id2\"], event_time=\"ts\", time_travel_format=None)\n",
    "\n",
    "fg3_nonhudi.save(fg03)"
   ]
  },
  {
   "cell_type": "code",
   "execution_count": 8,
   "id": "307879f6",
   "metadata": {},
   "outputs": [
    {
     "name": "stdout",
     "output_type": "stream",
     "text": [
      "VersionWarning: No version provided for getting feature group `fg1_nonhudi`, defaulting to `1`.\n",
      "VersionWarning: No version provided for getting feature group `fg2_nonhudi`, defaulting to `1`.\n",
      "VersionWarning: No version provided for getting feature group `fg3_nonhudi`, defaulting to `1`."
     ]
    }
   ],
   "source": [
    "fg1_nonhudi = fs.get_feature_group(\"fg1_nonhudi\")\n",
    "fg2_nonhudi = fs.get_feature_group(\"fg2_nonhudi\")\n",
    "fg3_nonhudi = fs.get_feature_group(\"fg3_nonhudi\")"
   ]
  },
  {
   "cell_type": "code",
   "execution_count": 104,
   "id": "fc0ec6c9",
   "metadata": {},
   "outputs": [],
   "source": [
    "query = fg1_nonhudi.select_all().join(fg2_nonhudi.select_all(), on=\"id\").join(fg3_nonhudi.select_all(), left_on=[\"id\", \"id2\"], right_on=[\"id\", \"id2\"])"
   ]
  },
  {
   "cell_type": "code",
   "execution_count": 105,
   "id": "7711cbf0",
   "metadata": {},
   "outputs": [
    {
     "name": "stdout",
     "output_type": "stream",
     "text": [
      "WITH x0 (SELECT *\n",
      "FROM (SELECT `fg2`.`id2`, `fg2`.`label`, `fg2`.`ts`, `fg2`.`id`, `fg0`.`f2`, RANK() OVER (PARTITION BY `fg2`.`id`, `fg2`.`ts` ORDER BY `fg0`.`ts2` DESC) rank\n",
      "FROM `demo_fs_meb10000_featurestore`.`fg1_nonhudi_1` `fg2`\n",
      "INNER JOIN `demo_fs_meb10000_featurestore`.`fg2_nonhudi_1` `fg0` ON `fg2`.`id` = `fg0`.`id` AND `fg2`.`ts` >= `fg0`.`ts2`)\n",
      "WHERE `rank` = 1), x1 (SELECT *\n",
      "FROM (SELECT `fg2`.`id2`, `fg2`.`label`, `fg2`.`ts`, `fg2`.`id`, `fg1`.`f3`, RANK() OVER (PARTITION BY `fg2`.`id`, `fg2`.`id2`, `fg2`.`ts` ORDER BY `fg1`.`ts` DESC) rank\n",
      "FROM `demo_fs_meb10000_featurestore`.`fg1_nonhudi_1` `fg2`\n",
      "INNER JOIN `demo_fs_meb10000_featurestore`.`fg3_nonhudi_1` `fg1` ON `fg2`.`id` = `fg1`.`id` AND `fg2`.`id2` = `fg1`.`id2` AND `fg2`.`ts` >= `fg1`.`ts`)\n",
      "WHERE `rank` = 1) (SELECT `x0`.`id2`, `x0`.`label`, `x0`.`ts`, `x0`.`id`, `x0`.`f2`, `x1`.`f3`\n",
      "FROM x0\n",
      "INNER JOIN x1 ON `x0`.`id` = `x1`.`id` AND `x0`.`id2` = `x1`.`id2` AND `x0`.`ts` = `x1`.`ts`)"
     ]
    }
   ],
   "source": [
    "print(query.to_string())"
   ]
  },
  {
   "cell_type": "code",
   "execution_count": 106,
   "id": "3e083b4d",
   "metadata": {},
   "outputs": [
    {
     "name": "stdout",
     "output_type": "stream",
     "text": [
      "SELECT `fg2`.`id2`, `fg2`.`label`, `fg2`.`ts`, `fg2`.`id`, `fg0`.`f2`, `fg1`.`f3`\n",
      "FROM `demo_fs_meb10000`.`fg1_nonhudi_1` `fg2`\n",
      "INNER JOIN `demo_fs_meb10000`.`fg2_nonhudi_1` `fg0` ON `fg2`.`id` = `fg0`.`id`\n",
      "INNER JOIN `demo_fs_meb10000`.`fg3_nonhudi_1` `fg1` ON `fg2`.`id` = `fg1`.`id` AND `fg2`.`id2` = `fg1`.`id2`"
     ]
    }
   ],
   "source": [
    "print(query.to_string(online=True))"
   ]
  },
  {
   "cell_type": "code",
   "execution_count": 107,
   "id": "c2b95061",
   "metadata": {},
   "outputs": [
    {
     "name": "stdout",
     "output_type": "stream",
     "text": [
      "+-----+-----+----+---+-----+-----+\n",
      "|  id2|label|  ts| id|   f2|   f3|\n",
      "+-----+-----+----+---+-----+-----+\n",
      "|10001| f2-2|1004|  1| f3-1| f3-1|\n",
      "|10001| f2-3|1006|  1| f3-2| f3-2|\n",
      "|10001| f2-4|1008|  1| f3-2| f3-2|\n",
      "|10001| f2-5|1010|  1| f3-3| f3-3|\n",
      "|10002| f2-7|1004|  2| f3-4| f3-4|\n",
      "|10002| f2-8|1006|  2| f3-5| f3-5|\n",
      "|10002| f2-9|1008|  2| f3-5| f3-5|\n",
      "|10002|f2-10|1010|  2| f3-6| f3-6|\n",
      "|10003|f2-12|1004|  3| f3-7| f3-7|\n",
      "|10003|f2-13|1006|  3| f3-8| f3-8|\n",
      "|10003|f2-14|1008|  3| f3-8| f3-8|\n",
      "|10003|f2-15|1010|  3| f3-9| f3-9|\n",
      "|10004|f2-17|1004|  4|f3-10|f3-10|\n",
      "|10004|f2-18|1006|  4|f3-11|f3-11|\n",
      "|10004|f2-19|1008|  4|f3-11|f3-11|\n",
      "|10004|f2-20|1010|  4|f3-12|f3-12|\n",
      "|10005|f2-22|1004|  5|f3-13|f3-13|\n",
      "|10005|f2-23|1006|  5|f3-14|f3-14|\n",
      "|10005|f2-24|1008|  5|f3-14|f3-14|\n",
      "|10005|f2-25|1010|  5|f3-15|f3-15|\n",
      "+-----+-----+----+---+-----+-----+"
     ]
    }
   ],
   "source": [
    "query.read().sort(col(\"id\"),col(\"ts\")).show(50)"
   ]
  },
  {
   "cell_type": "code",
   "execution_count": 108,
   "id": "76cdb47a",
   "metadata": {},
   "outputs": [
    {
     "name": "stdout",
     "output_type": "stream",
     "text": [
      "+-----+-----+----+---+-----+-----+\n",
      "|  id2|label|  ts| id|   f2|   f3|\n",
      "+-----+-----+----+---+-----+-----+\n",
      "|10001| f2-2|1004|  1| f3-3| f3-3|\n",
      "|10002|f2-10|1010|  2| f3-6| f3-6|\n",
      "|10003|f2-15|1010|  3| f3-9| f3-9|\n",
      "|10004|f2-19|1008|  4|f3-12|f3-12|\n",
      "|10005|f2-24|1008|  5|f3-15|f3-15|\n",
      "+-----+-----+----+---+-----+-----+"
     ]
    }
   ],
   "source": [
    "query.read(online=True).sort(col(\"id\"),col(\"ts\")).show(50)"
   ]
  },
  {
   "cell_type": "code",
   "execution_count": 109,
   "id": "7ac2ee94",
   "metadata": {},
   "outputs": [],
   "source": [
    "query = fg1.select_all().join(fg2_nonhudi.select_all(), on=\"id\").join(fg3_nonhudi.select_all(), left_on=[\"id\", \"id2\"], right_on=[\"id\", \"id2\"])"
   ]
  },
  {
   "cell_type": "code",
   "execution_count": 110,
   "id": "194d94a8",
   "metadata": {},
   "outputs": [
    {
     "name": "stdout",
     "output_type": "stream",
     "text": [
      "WITH x0 (SELECT *\n",
      "FROM (SELECT `fg2`.`id2`, `fg2`.`label`, `fg2`.`ts`, `fg2`.`id`, `fg0`.`f2`, RANK() OVER (PARTITION BY `fg2`.`id`, `fg2`.`ts` ORDER BY `fg0`.`ts2` DESC) rank\n",
      "FROM `fg2` `fg2`\n",
      "INNER JOIN `demo_fs_meb10000_featurestore`.`fg2_nonhudi_1` `fg0` ON `fg2`.`id` = `fg0`.`id` AND `fg2`.`ts` >= `fg0`.`ts2`)\n",
      "WHERE `rank` = 1), x1 (SELECT *\n",
      "FROM (SELECT `fg2`.`id2`, `fg2`.`label`, `fg2`.`ts`, `fg2`.`id`, `fg1`.`f3`, RANK() OVER (PARTITION BY `fg2`.`id`, `fg2`.`id2`, `fg2`.`ts` ORDER BY `fg1`.`ts` DESC) rank\n",
      "FROM `fg2` `fg2`\n",
      "INNER JOIN `demo_fs_meb10000_featurestore`.`fg3_nonhudi_1` `fg1` ON `fg2`.`id` = `fg1`.`id` AND `fg2`.`id2` = `fg1`.`id2` AND `fg2`.`ts` >= `fg1`.`ts`)\n",
      "WHERE `rank` = 1) (SELECT `x0`.`id2`, `x0`.`label`, `x0`.`ts`, `x0`.`id`, `x0`.`f2`, `x1`.`f3`\n",
      "FROM x0\n",
      "INNER JOIN x1 ON `x0`.`id` = `x1`.`id` AND `x0`.`id2` = `x1`.`id2` AND `x0`.`ts` = `x1`.`ts`)"
     ]
    }
   ],
   "source": [
    "print(query.to_string())"
   ]
  },
  {
   "cell_type": "code",
   "execution_count": 111,
   "id": "d5191881",
   "metadata": {},
   "outputs": [
    {
     "name": "stdout",
     "output_type": "stream",
     "text": [
      "+-----+-----+----+---+-----+-----+\n",
      "|  id2|label|  ts| id|   f2|   f3|\n",
      "+-----+-----+----+---+-----+-----+\n",
      "|10001| f2-2|1004|  1| f3-1| f3-1|\n",
      "|10001| f2-3|1006|  1| f3-2| f3-2|\n",
      "|10001| f2-4|1008|  1| f3-2| f3-2|\n",
      "|10001| f2-5|1010|  1| f3-3| f3-3|\n",
      "|10002| f2-7|1004|  2| f3-4| f3-4|\n",
      "|10002| f2-8|1006|  2| f3-5| f3-5|\n",
      "|10002| f2-9|1008|  2| f3-5| f3-5|\n",
      "|10002|f2-10|1010|  2| f3-6| f3-6|\n",
      "|10003|f2-12|1004|  3| f3-7| f3-7|\n",
      "|10003|f2-13|1006|  3| f3-8| f3-8|\n",
      "|10003|f2-14|1008|  3| f3-8| f3-8|\n",
      "|10003|f2-15|1010|  3| f3-9| f3-9|\n",
      "|10004|f2-17|1004|  4|f3-10|f3-10|\n",
      "|10004|f2-18|1006|  4|f3-11|f3-11|\n",
      "|10004|f2-19|1008|  4|f3-11|f3-11|\n",
      "|10004|f2-20|1010|  4|f3-12|f3-12|\n",
      "|10005|f2-22|1004|  5|f3-13|f3-13|\n",
      "|10005|f2-23|1006|  5|f3-14|f3-14|\n",
      "|10005|f2-24|1008|  5|f3-14|f3-14|\n",
      "|10005|f2-25|1010|  5|f3-15|f3-15|\n",
      "+-----+-----+----+---+-----+-----+"
     ]
    }
   ],
   "source": [
    "query.read().sort(col(\"id\"),col(\"ts\")).show(50)"
   ]
  },
  {
   "cell_type": "code",
   "execution_count": 112,
   "id": "3cf18aac",
   "metadata": {},
   "outputs": [
    {
     "name": "stdout",
     "output_type": "stream",
     "text": [
      "+-----+-----+----+---+-----+-----+\n",
      "|  id2|label|  ts| id|   f2|   f3|\n",
      "+-----+-----+----+---+-----+-----+\n",
      "|10001| f2-1|1002|  1| f3-3| f3-3|\n",
      "|10002|f2-10|1010|  2| f3-6| f3-6|\n",
      "|10003|f2-15|1010|  3| f3-9| f3-9|\n",
      "|10004|f2-20|1010|  4|f3-12|f3-12|\n",
      "|10005|f2-24|1008|  5|f3-15|f3-15|\n",
      "+-----+-----+----+---+-----+-----+"
     ]
    }
   ],
   "source": [
    "query.read(online=True).sort(col(\"id\"),col(\"ts\")).show(50)"
   ]
  },
  {
   "cell_type": "code",
   "execution_count": 113,
   "id": "81ede2ef",
   "metadata": {},
   "outputs": [
    {
     "name": "stdout",
     "output_type": "stream",
     "text": [
      "VersionWarning: No version provided for getting feature group `season_features_on_demand`, defaulting to `1`.\n",
      "VersionWarning: No version provided for getting feature group `teams_features`, defaulting to `1`."
     ]
    }
   ],
   "source": [
    "ondmd = fs.get_on_demand_feature_group(\"season_features_on_demand\")\n",
    "teams = fs.get_feature_group(\"teams_features\")"
   ]
  },
  {
   "cell_type": "code",
   "execution_count": 114,
   "id": "c8cc6d13",
   "metadata": {},
   "outputs": [],
   "source": [
    "query = fg1.select_all().join(ondmd.select_all(), left_on=[\"id\"], right_on=[\"team_id\"])"
   ]
  },
  {
   "cell_type": "code",
   "execution_count": 115,
   "id": "2b18ad98",
   "metadata": {},
   "outputs": [
    {
     "name": "stdout",
     "output_type": "stream",
     "text": [
      "SELECT `fg1`.`id2`, `fg1`.`label`, `fg1`.`ts`, `fg1`.`id`, `fg0`.`sum_position`, `fg0`.`average_position`, `fg0`.`team_id`\n",
      "FROM `fg1` `fg1`\n",
      "INNER JOIN `fg0` ON `fg1`.`id` = `fg0`.`team_id`"
     ]
    }
   ],
   "source": [
    "print(query.to_string())"
   ]
  },
  {
   "cell_type": "code",
   "execution_count": 116,
   "id": "037e9eb8",
   "metadata": {},
   "outputs": [
    {
     "name": "stdout",
     "output_type": "stream",
     "text": [
      "+-----+-----+----+---+------------+----------------+-------+\n",
      "|  id2|label|  ts| id|sum_position|average_position|team_id|\n",
      "+-----+-----+----+---+------------+----------------+-------+\n",
      "|10001| f2-1|1002|  1|       581.0|           29.05|      1|\n",
      "|10001| f2-2|1004|  1|       581.0|           29.05|      1|\n",
      "|10001| f2-3|1006|  1|       581.0|           29.05|      1|\n",
      "|10001| f2-4|1008|  1|       581.0|           29.05|      1|\n",
      "|10001| f2-5|1010|  1|       581.0|           29.05|      1|\n",
      "|10002| f2-6|1002|  2|       542.0|            27.1|      2|\n",
      "|10002| f2-7|1004|  2|       542.0|            27.1|      2|\n",
      "|10002| f2-8|1006|  2|       542.0|            27.1|      2|\n",
      "|10002| f2-9|1008|  2|       542.0|            27.1|      2|\n",
      "|10002|f2-10|1010|  2|       542.0|            27.1|      2|\n",
      "|10003|f2-11|1002|  3|       577.0|           28.85|      3|\n",
      "|10003|f2-12|1004|  3|       577.0|           28.85|      3|\n",
      "|10003|f2-13|1006|  3|       577.0|           28.85|      3|\n",
      "|10003|f2-14|1008|  3|       577.0|           28.85|      3|\n",
      "|10003|f2-15|1010|  3|       577.0|           28.85|      3|\n",
      "|10004|f2-16|1002|  4|       542.0|            27.1|      4|\n",
      "|10004|f2-17|1004|  4|       542.0|            27.1|      4|\n",
      "|10004|f2-18|1006|  4|       542.0|            27.1|      4|\n",
      "|10004|f2-19|1008|  4|       542.0|            27.1|      4|\n",
      "|10004|f2-20|1010|  4|       542.0|            27.1|      4|\n",
      "|10005|f2-21|1002|  5|       596.0|            29.8|      5|\n",
      "|10005|f2-22|1004|  5|       596.0|            29.8|      5|\n",
      "|10005|f2-23|1006|  5|       596.0|            29.8|      5|\n",
      "|10005|f2-24|1008|  5|       596.0|            29.8|      5|\n",
      "|10005|f2-25|1010|  5|       596.0|            29.8|      5|\n",
      "+-----+-----+----+---+------------+----------------+-------+"
     ]
    }
   ],
   "source": [
    "query.read().sort(col(\"id\"),col(\"ts\")).show(50)"
   ]
  },
  {
   "cell_type": "code",
   "execution_count": 38,
   "id": "b5fd15ed",
   "metadata": {},
   "outputs": [],
   "source": [
    "sc = fs.get_storage_connector(\"demo_fs_meb10000_meb10000_onlinefeaturestore\")"
   ]
  },
  {
   "cell_type": "code",
   "execution_count": null,
   "id": "fe1388b3",
   "metadata": {},
   "outputs": [],
   "source": [
    "fg3_ondmd = fs.create_on_demand_feature_group(\"fg3_ondmd\", sc, statistics_config=False, event_time=\"ts\", query=\"select * from fg3_1\")\n",
    "\n",
    "fg3_ondmd.save()"
   ]
  },
  {
   "cell_type": "code",
   "execution_count": 53,
   "id": "5727444f",
   "metadata": {},
   "outputs": [
    {
     "name": "stdout",
     "output_type": "stream",
     "text": [
      "+---+----+-----+-----+\n",
      "| id|  ts|   f3|  id2|\n",
      "+---+----+-----+-----+\n",
      "|  1|1009| f3-3|10001|\n",
      "|  2|1009| f3-6|10002|\n",
      "|  3|1009| f3-9|10003|\n",
      "|  5|1009|f3-15|10005|\n",
      "|  4|1009|f3-12|10004|\n",
      "+---+----+-----+-----+"
     ]
    }
   ],
   "source": [
    "fg3_ondmd.show(50)"
   ]
  },
  {
   "cell_type": "code",
   "execution_count": 117,
   "id": "3b705a4c",
   "metadata": {},
   "outputs": [
    {
     "name": "stdout",
     "output_type": "stream",
     "text": [
      "VersionWarning: No version provided for getting feature group `fg3_ondmd`, defaulting to `1`."
     ]
    }
   ],
   "source": [
    "fg3_ondmd = fs.get_on_demand_feature_group(\"fg3_ondmd\")"
   ]
  },
  {
   "cell_type": "code",
   "execution_count": 118,
   "id": "92a5babe",
   "metadata": {},
   "outputs": [],
   "source": [
    "query = fg1.select_all().join(fg2_nonhudi.select_all(), on=\"id\").join(fg3_ondmd.select_all(), left_on=[\"id\", \"id2\"], right_on=[\"id\", \"id2\"])"
   ]
  },
  {
   "cell_type": "code",
   "execution_count": 119,
   "id": "c92c79f5",
   "metadata": {},
   "outputs": [
    {
     "name": "stdout",
     "output_type": "stream",
     "text": [
      "WITH x0 (SELECT *\n",
      "FROM (SELECT `fg2`.`id2`, `fg2`.`label`, `fg2`.`ts`, `fg2`.`id`, `fg0`.`f2`, RANK() OVER (PARTITION BY `fg2`.`id`, `fg2`.`ts` ORDER BY `fg0`.`ts2` DESC) rank\n",
      "FROM `fg2` `fg2`\n",
      "INNER JOIN `demo_fs_meb10000_featurestore`.`fg2_nonhudi_1` `fg0` ON `fg2`.`id` = `fg0`.`id` AND `fg2`.`ts` >= `fg0`.`ts2`)\n",
      "WHERE `rank` = 1), x1 (SELECT *\n",
      "FROM (SELECT `fg2`.`id2`, `fg2`.`label`, `fg2`.`ts`, `fg2`.`id`, `fg1`.`f3`, RANK() OVER (PARTITION BY `fg2`.`id`, `fg2`.`id2`, `fg2`.`ts` ORDER BY `fg1`.`ts` DESC) rank\n",
      "FROM `fg2` `fg2`\n",
      "INNER JOIN `fg1` ON `fg2`.`id` = `fg1`.`id` AND `fg2`.`id2` = `fg1`.`id2` AND `fg2`.`ts` >= `fg1`.`ts`)\n",
      "WHERE `rank` = 1) (SELECT `x0`.`id2`, `x0`.`label`, `x0`.`ts`, `x0`.`id`, `x0`.`f2`, `x1`.`f3`\n",
      "FROM x0\n",
      "INNER JOIN x1 ON `x0`.`id` = `x1`.`id` AND `x0`.`id2` = `x1`.`id2` AND `x0`.`ts` = `x1`.`ts`)"
     ]
    }
   ],
   "source": [
    "print(query.to_string())"
   ]
  },
  {
   "cell_type": "code",
   "execution_count": 120,
   "id": "0abca17c",
   "metadata": {},
   "outputs": [
    {
     "name": "stdout",
     "output_type": "stream",
     "text": [
      "+-----+-----+----+---+-----+-----+\n",
      "|  id2|label|  ts| id|   f2|   f3|\n",
      "+-----+-----+----+---+-----+-----+\n",
      "|10001| f2-5|1010|  1| f3-3| f3-3|\n",
      "|10002|f2-10|1010|  2| f3-6| f3-6|\n",
      "|10003|f2-15|1010|  3| f3-9| f3-9|\n",
      "|10004|f2-20|1010|  4|f3-12|f3-12|\n",
      "|10005|f2-25|1010|  5|f3-15|f3-15|\n",
      "+-----+-----+----+---+-----+-----+"
     ]
    }
   ],
   "source": [
    "query.read().sort(col(\"id\"),col(\"ts\")).show(50)"
   ]
  },
  {
   "cell_type": "code",
   "execution_count": 122,
   "id": "797d1fe4",
   "metadata": {},
   "outputs": [],
   "source": [
    "query.to_string(online=True)"
   ]
  },
  {
   "cell_type": "code",
   "execution_count": 121,
   "id": "d5514721",
   "metadata": {},
   "outputs": [
    {
     "name": "stderr",
     "output_type": "stream",
     "text": [
      "An error was encountered:\n",
      "Option 'dbtable' or 'query' is required.\n",
      "Traceback (most recent call last):\n",
      "  File \"/srv/hops/anaconda/envs/theenv/lib/python3.7/site-packages/hsfs/constructor/query.py\", line 97, in read\n",
      "    read_options,\n",
      "  File \"/srv/hops/anaconda/envs/theenv/lib/python3.7/site-packages/hsfs/engine/spark.py\", line 64, in sql\n",
      "    result_df = connector.read(sql_query, None, {}, None)\n",
      "  File \"/srv/hops/anaconda/envs/theenv/lib/python3.7/site-packages/hsfs/storage_connector.py\", line 738, in read\n",
      "    return engine.get_instance().read(self, self.JDBC_FORMAT, options, None)\n",
      "  File \"/srv/hops/anaconda/envs/theenv/lib/python3.7/site-packages/hsfs/engine/spark.py\", line 412, in read\n",
      "    .load(path)\n",
      "  File \"/srv/hops/spark/python/lib/pyspark.zip/pyspark/sql/readwriter.py\", line 210, in load\n",
      "    return self._df(self._jreader.load())\n",
      "  File \"/srv/hops/spark/python/lib/py4j-0.10.9-src.zip/py4j/java_gateway.py\", line 1305, in __call__\n",
      "    answer, self.gateway_client, self.target_id, self.name)\n",
      "  File \"/srv/hops/spark/python/lib/pyspark.zip/pyspark/sql/utils.py\", line 117, in deco\n",
      "    raise converted from None\n",
      "pyspark.sql.utils.IllegalArgumentException: Option 'dbtable' or 'query' is required.\n",
      "\n"
     ]
    }
   ],
   "source": [
    "query.read(online=True).sort(col(\"id\"),col(\"ts\")).show(50)"
   ]
  },
  {
   "cell_type": "markdown",
   "id": "0395f341",
   "metadata": {},
   "source": [
    "## PIT with filters"
   ]
  },
  {
   "cell_type": "code",
   "execution_count": 9,
   "id": "e2f80944",
   "metadata": {},
   "outputs": [
    {
     "name": "stdout",
     "output_type": "stream",
     "text": [
      "VersionWarning: No version provided for getting feature group `fg1`, defaulting to `1`.\n",
      "VersionWarning: No version provided for getting feature group `fg2`, defaulting to `1`.\n",
      "VersionWarning: No version provided for getting feature group `fg3`, defaulting to `1`."
     ]
    }
   ],
   "source": [
    "fg1 = fs.get_feature_group(\"fg1\")\n",
    "fg2 = fs.get_feature_group(\"fg2\")\n",
    "fg3 = fs.get_feature_group(\"fg3\")"
   ]
  },
  {
   "cell_type": "code",
   "execution_count": 138,
   "id": "14d0193a",
   "metadata": {},
   "outputs": [],
   "source": [
    "query = fg1.select_all().filter(fg1[\"id\"] == 1).join(fg2.select_all().filter(fg2[\"id\"] == 1), on=\"id\").join(fg3.select_all(), left_on=[\"id\", \"id2\"], right_on=[\"id\", \"id2\"])"
   ]
  },
  {
   "cell_type": "code",
   "execution_count": 139,
   "id": "5c4d717d",
   "metadata": {},
   "outputs": [
    {
     "name": "stdout",
     "output_type": "stream",
     "text": [
      "WITH x0 (SELECT *\n",
      "FROM (SELECT `fg2`.`id2`, `fg2`.`label`, `fg2`.`ts`, `fg2`.`id`, `fg0`.`f2`, RANK() OVER (PARTITION BY `fg2`.`id`, `fg2`.`ts` ORDER BY `fg0`.`ts2` DESC) rank\n",
      "FROM `fg2` `fg2`\n",
      "INNER JOIN `fg0` `fg0` ON `fg2`.`id` = `fg0`.`id` AND `fg2`.`ts` >= `fg0`.`ts2`\n",
      "WHERE `fg2`.`id` = 1 AND `fg0`.`id` = 1)\n",
      "WHERE `rank` = 1), x1 (SELECT *\n",
      "FROM (SELECT `fg2`.`id2`, `fg2`.`label`, `fg2`.`ts`, `fg2`.`id`, `fg1`.`f3`, RANK() OVER (PARTITION BY `fg2`.`id`, `fg2`.`id2`, `fg2`.`ts` ORDER BY `fg1`.`ts` DESC) rank\n",
      "FROM `fg2` `fg2`\n",
      "INNER JOIN `fg1` `fg1` ON `fg2`.`id` = `fg1`.`id` AND `fg2`.`id2` = `fg1`.`id2` AND `fg2`.`ts` >= `fg1`.`ts`\n",
      "WHERE `fg2`.`id` = 1)\n",
      "WHERE `rank` = 1) (SELECT `x0`.`id2`, `x0`.`label`, `x0`.`ts`, `x0`.`id`, `x1`.`f3`, `x0`.`f2`, `x1`.`f3`\n",
      "FROM x0\n",
      "INNER JOIN x1 ON `x0`.`id` = `x1`.`id` AND `x0`.`id2` = `x1`.`id2` AND `x0`.`ts` = `x1`.`ts`)"
     ]
    }
   ],
   "source": [
    "print(query.to_string())"
   ]
  },
  {
   "cell_type": "code",
   "execution_count": 133,
   "id": "594f1d8d",
   "metadata": {},
   "outputs": [
    {
     "name": "stdout",
     "output_type": "stream",
     "text": [
      "+-----+-----+----+---+-----+-----+\n",
      "|  id2|label|  ts| id|   f2|   f3|\n",
      "+-----+-----+----+---+-----+-----+\n",
      "|10003|f2-14|1008|  3| f3-8| f3-8|\n",
      "|10002| f2-9|1008|  2| f3-5| f3-5|\n",
      "|10005|f2-23|1006|  5|f3-14|f3-14|\n",
      "|10002| f2-7|1004|  2| f3-4| f3-4|\n",
      "|10001| f2-5|1010|  1| f3-3| f3-3|\n",
      "+-----+-----+----+---+-----+-----+\n",
      "only showing top 5 rows"
     ]
    }
   ],
   "source": [
    "query.show(50)"
   ]
  },
  {
   "cell_type": "markdown",
   "id": "aa670727",
   "metadata": {},
   "source": [
    "## Features with default values"
   ]
  },
  {
   "cell_type": "code",
   "execution_count": 10,
   "id": "eaf474d5",
   "metadata": {},
   "outputs": [],
   "source": [
    "from hsfs.feature import Feature\n",
    "from pyspark.sql.functions import lit"
   ]
  },
  {
   "cell_type": "code",
   "execution_count": 8,
   "id": "153847f4",
   "metadata": {},
   "outputs": [
    {
     "name": "stdout",
     "output_type": "stream",
     "text": [
      "<hsfs.feature_group.FeatureGroup object at 0x7fd46111ba90>\n",
      "VersionWarning: No version provided for creating feature group `fg1_default`, incremented version to `1`."
     ]
    }
   ],
   "source": [
    "fg1_default = fs.create_feature_group(\"fg1_default\", statistics_config=False, online_enabled=True, primary_key=[\"id\"], event_time=\"ts\")\n",
    "\n",
    "fg1_default.save(fg01.select([\"id\", \"label\", \"ts\"]))"
   ]
  },
  {
   "cell_type": "code",
   "execution_count": 9,
   "id": "e22c986b",
   "metadata": {},
   "outputs": [
    {
     "name": "stdout",
     "output_type": "stream",
     "text": [
      "<hsfs.feature_group.FeatureGroup object at 0x7fd46111b910>\n",
      "VersionWarning: No version provided for creating feature group `fg1_default_nonhudi`, incremented version to `1`."
     ]
    }
   ],
   "source": [
    "fg1_default_nonhudi = fs.create_feature_group(\"fg1_default_nonhudi\", statistics_config=False, online_enabled=True, primary_key=[\"id\"], event_time=\"ts\", time_travel_format=None)\n",
    "\n",
    "fg1_default_nonhudi.save(fg01.select([\"id\", \"label\", \"ts\"]))"
   ]
  },
  {
   "cell_type": "code",
   "execution_count": 10,
   "id": "feb82d6e",
   "metadata": {},
   "outputs": [
    {
     "name": "stdout",
     "output_type": "stream",
     "text": [
      "<hsfs.feature_group.FeatureGroup object at 0x7fd46111ba90>"
     ]
    }
   ],
   "source": [
    "fg1_default.append_features([Feature(\"id2\", type=\"int\", default_value=\"10\")])"
   ]
  },
  {
   "cell_type": "code",
   "execution_count": 11,
   "id": "1879e953",
   "metadata": {},
   "outputs": [
    {
     "name": "stdout",
     "output_type": "stream",
     "text": [
      "<hsfs.feature_group.FeatureGroup object at 0x7fd46111b910>"
     ]
    }
   ],
   "source": [
    "fg1_default_nonhudi.append_features([Feature(\"id2\", type=\"int\", default_value=\"10\")])"
   ]
  },
  {
   "cell_type": "code",
   "execution_count": 11,
   "id": "b99f1340",
   "metadata": {},
   "outputs": [
    {
     "name": "stdout",
     "output_type": "stream",
     "text": [
      "VersionWarning: No version provided for getting feature group `fg1_default`, defaulting to `1`.\n",
      "VersionWarning: No version provided for getting feature group `fg1_default_nonhudi`, defaulting to `1`."
     ]
    }
   ],
   "source": [
    "fg1_default = fs.get_feature_group(\"fg1_default\")\n",
    "fg1_default_nonhudi = fs.get_feature_group(\"fg1_default_nonhudi\")"
   ]
  },
  {
   "cell_type": "code",
   "execution_count": 24,
   "id": "78305e9a",
   "metadata": {},
   "outputs": [
    {
     "name": "stdout",
     "output_type": "stream",
     "text": [
      "StorageWarning: The statistics are not enabled of feature group `fg1_default`, with version `1`. No statistics computed."
     ]
    }
   ],
   "source": [
    "fg1_default.insert(fg01, storage=\"offline\")"
   ]
  },
  {
   "cell_type": "code",
   "execution_count": 25,
   "id": "582773ce",
   "metadata": {},
   "outputs": [
    {
     "name": "stdout",
     "output_type": "stream",
     "text": [
      "+----+-----+---+-----+\n",
      "|  ts|label| id|  id2|\n",
      "+----+-----+---+-----+\n",
      "|1010|f2-20|  4|10004|\n",
      "|1008|f2-24|  5|10005|\n",
      "|1008|f2-19|  4|10004|\n",
      "|1002|f2-16|  4|10004|\n",
      "|1010|f2-10|  2|10002|\n",
      "|1010|f2-15|  3|10003|\n",
      "|1006|f2-23|  5|10005|\n",
      "|1002|f2-11|  3|10003|\n",
      "|1002| f2-6|  2|10002|\n",
      "|1010| f2-5|  1|10001|\n",
      "|1004| f2-2|  1|10001|\n",
      "|1004| f2-7|  2|10002|\n",
      "|1006| f2-8|  2|10002|\n",
      "|1006| f2-3|  1|10001|\n",
      "|1002| f2-1|  1|10001|\n",
      "|1006|f2-18|  4|10004|\n",
      "|1002|f2-21|  5|10005|\n",
      "|1004|f2-17|  4|10004|\n",
      "|1010|f2-25|  5|10005|\n",
      "|1004|f2-22|  5|10005|\n",
      "|1004|f2-12|  3|10003|\n",
      "|1008|f2-14|  3|10003|\n",
      "|1006|f2-13|  3|10003|\n",
      "|1008| f2-4|  1|10001|\n",
      "|1008| f2-9|  2|10002|\n",
      "+----+-----+---+-----+"
     ]
    }
   ],
   "source": [
    "fg1_default.select_all().show(50)"
   ]
  },
  {
   "cell_type": "code",
   "execution_count": 26,
   "id": "7a77c649",
   "metadata": {},
   "outputs": [
    {
     "name": "stdout",
     "output_type": "stream",
     "text": [
      "'SELECT `fg0`.`ts`, `fg0`.`label`, `fg0`.`id`, CASE WHEN `fg0`.`id2` IS NULL THEN 10 ELSE `fg0`.`id2` END `id2`\\nFROM `fg0` `fg0`'"
     ]
    }
   ],
   "source": [
    "fg1_default.select_all().to_string()"
   ]
  },
  {
   "cell_type": "code",
   "execution_count": 12,
   "id": "ae204401",
   "metadata": {},
   "outputs": [],
   "source": [
    "query = fg1_default.select_all().join(fg2.select_all(), on=\"id\").join(fg3.select_all(), left_on=[\"id\", \"id2\"], right_on=[\"id\", \"id2\"])"
   ]
  },
  {
   "cell_type": "code",
   "execution_count": 13,
   "id": "61b24849",
   "metadata": {},
   "outputs": [
    {
     "name": "stdout",
     "output_type": "stream",
     "text": [
      "WITH x0 (SELECT *\n",
      "FROM (SELECT `fg2`.`ts`, `fg2`.`label`, `fg2`.`id`, CASE WHEN `fg2`.`id2` IS NULL THEN 10 ELSE `fg2`.`id2` END `id2`, `fg0`.`f2`, RANK() OVER (PARTITION BY `fg2`.`id`, `fg2`.`ts` ORDER BY `fg0`.`ts2` DESC) rank\n",
      "FROM `fg2` `fg2`\n",
      "INNER JOIN `fg0` `fg0` ON `fg2`.`id` = `fg0`.`id` AND `fg2`.`ts` >= `fg0`.`ts2`)\n",
      "WHERE `rank` = 1), x1 (SELECT *\n",
      "FROM (SELECT `fg2`.`ts`, `fg2`.`label`, `fg2`.`id`, CASE WHEN `fg2`.`id2` IS NULL THEN 10 ELSE `fg2`.`id2` END `id2`, `fg1`.`f3`, RANK() OVER (PARTITION BY `fg2`.`id`, `fg2`.`id2`, `fg2`.`ts` ORDER BY `fg1`.`ts` DESC) rank\n",
      "FROM `fg2` `fg2`\n",
      "INNER JOIN `fg1` `fg1` ON `fg2`.`id` = `fg1`.`id` AND CASE WHEN `fg2`.`id2` IS NULL THEN 10 ELSE `fg2`.`id2` END = `fg1`.`id2` AND `fg2`.`ts` >= `fg1`.`ts`)\n",
      "WHERE `rank` = 1) (SELECT `x0`.`ts`, `x0`.`label`, `x0`.`id`, `x0`.`id2`, `x0`.`f2`, `x1`.`f3`\n",
      "FROM x0\n",
      "INNER JOIN x1 ON `x0`.`id` = `x1`.`id` AND `x0`.`id2` = `x1`.`id2` AND `x0`.`ts` = `x1`.`ts`)"
     ]
    }
   ],
   "source": [
    "print(query.to_string())"
   ]
  },
  {
   "cell_type": "code",
   "execution_count": 14,
   "id": "a8e60d60",
   "metadata": {},
   "outputs": [
    {
     "name": "stdout",
     "output_type": "stream",
     "text": [
      "+----+-----+---+-----+-----+-----+\n",
      "|  ts|label| id|  id2|   f2|   f3|\n",
      "+----+-----+---+-----+-----+-----+\n",
      "|1008|f2-14|  3|10003| f3-8| f3-8|\n",
      "|1008| f2-9|  2|10002| f3-5| f3-5|\n",
      "|1006|f2-23|  5|10005|f3-14|f3-14|\n",
      "|1004| f2-7|  2|10002| f3-4| f3-4|\n",
      "|1010| f2-5|  1|10001| f3-3| f3-3|\n",
      "|1008|f2-19|  4|10004|f3-11|f3-11|\n",
      "|1004|f2-12|  3|10003| f3-7| f3-7|\n",
      "|1006| f2-3|  1|10001| f3-2| f3-2|\n",
      "|1010|f2-20|  4|10004|f3-12|f3-12|\n",
      "|1010|f2-15|  3|10003| f3-9| f3-9|\n",
      "|1004|f2-22|  5|10005|f3-13|f3-13|\n",
      "|1008|f2-24|  5|10005|f3-14|f3-14|\n",
      "|1010|f2-25|  5|10005|f3-15|f3-15|\n",
      "|1006| f2-8|  2|10002| f3-5| f3-5|\n",
      "|1008| f2-4|  1|10001| f3-2| f3-2|\n",
      "|1010|f2-10|  2|10002| f3-6| f3-6|\n",
      "|1006|f2-13|  3|10003| f3-8| f3-8|\n",
      "|1006|f2-18|  4|10004|f3-11|f3-11|\n",
      "|1004|f2-17|  4|10004|f3-10|f3-10|\n",
      "|1004| f2-2|  1|10001| f3-1| f3-1|\n",
      "+----+-----+---+-----+-----+-----+"
     ]
    }
   ],
   "source": [
    "query.read().show(50)"
   ]
  },
  {
   "cell_type": "code",
   "execution_count": 19,
   "id": "d581c9a1",
   "metadata": {},
   "outputs": [],
   "source": [
    "sc = fs.get_storage_connector(\"demo_fs_meb10000_Training_Datasets\")"
   ]
  },
  {
   "cell_type": "code",
   "execution_count": 16,
   "id": "5ef3469e",
   "metadata": {},
   "outputs": [],
   "source": [
    "td = fs.create_training_dataset(\"time_travel\", statistics_config=False, data_format=\"csv\", storage_connector=sc)"
   ]
  },
  {
   "cell_type": "code",
   "execution_count": 17,
   "id": "544ac92c",
   "metadata": {},
   "outputs": [
    {
     "name": "stdout",
     "output_type": "stream",
     "text": [
      "<hsfs.training_dataset.TrainingDataset object at 0x7f8735d04f90>\n",
      "VersionWarning: No version provided for creating training dataset `time_travel`, incremented version to `1`."
     ]
    }
   ],
   "source": [
    "td.save(query)"
   ]
  },
  {
   "cell_type": "code",
   "execution_count": 12,
   "id": "9bd28b10",
   "metadata": {},
   "outputs": [
    {
     "name": "stdout",
     "output_type": "stream",
     "text": [
      "VersionWarning: No version provided for getting training dataset `time_travel`, defaulting to `1`."
     ]
    }
   ],
   "source": [
    "td = fs.get_training_dataset(\"time_travel\")"
   ]
  },
  {
   "cell_type": "code",
   "execution_count": 12,
   "id": "33f4c87b",
   "metadata": {},
   "outputs": [
    {
     "name": "stdout",
     "output_type": "stream",
     "text": [
      "'SELECT `fg0`.`ts`, `fg0`.`label`, `fg0`.`id`, `fg0`.`id2`, `fg1`.`f2`, `fg2`.`f3`\\nFROM `demo_fs_meb10000`.`fg1_default_1` `fg0`\\nINNER JOIN `demo_fs_meb10000`.`fg2_1` `fg1` ON `fg0`.`id` = `fg1`.`id`\\nINNER JOIN `demo_fs_meb10000`.`fg3_1` `fg2` ON `fg0`.`id2` = `fg2`.`id2` AND `fg0`.`id` = `fg2`.`id`'"
     ]
    }
   ],
   "source": [
    "td.query"
   ]
  },
  {
   "cell_type": "code",
   "execution_count": 13,
   "id": "96994999",
   "metadata": {},
   "outputs": [
    {
     "name": "stdout",
     "output_type": "stream",
     "text": [
      "WITH x0 (SELECT *\n",
      "FROM (SELECT `fg0`.`ts`, `fg0`.`label`, `fg0`.`id`, CASE WHEN `fg0`.`id2` IS NULL THEN 10 ELSE `fg0`.`id2` END `id2`, `fg1`.`f2`, RANK() OVER (PARTITION BY `fg0`.`id`, `fg0`.`ts` ORDER BY `fg1`.`ts2` DESC) rank\n",
      "FROM `fg0` `fg0`\n",
      "INNER JOIN `fg1` `fg1` ON `fg0`.`id` = `fg1`.`id` AND `fg0`.`ts` >= `fg1`.`ts2`)\n",
      "WHERE `rank` = 1), x1 (SELECT *\n",
      "FROM (SELECT `fg0`.`ts`, `fg0`.`label`, `fg0`.`id`, CASE WHEN `fg0`.`id2` IS NULL THEN 10 ELSE `fg0`.`id2` END `id2`, `fg2`.`f3`, RANK() OVER (PARTITION BY `fg0`.`id2`, `fg0`.`id`, `fg0`.`ts` ORDER BY `fg2`.`ts` DESC) rank\n",
      "FROM `fg0` `fg0`\n",
      "INNER JOIN `fg2` `fg2` ON CASE WHEN `fg0`.`id2` IS NULL THEN 10 ELSE `fg0`.`id2` END = `fg2`.`id2` AND `fg0`.`id` = `fg2`.`id` AND `fg0`.`ts` >= `fg2`.`ts`)\n",
      "WHERE `rank` = 1) (SELECT `x0`.`ts`, `x0`.`label`, `x0`.`id`, `x0`.`id2`, `x0`.`f2`, `x1`.`f3`\n",
      "FROM x0\n",
      "INNER JOIN x1 ON `x0`.`id2` = `x1`.`id2` AND `x0`.`id` = `x1`.`id` AND `x0`.`ts` = `x1`.`ts`)"
     ]
    }
   ],
   "source": [
    "print(td.get_query(False))"
   ]
  },
  {
   "cell_type": "code",
   "execution_count": 16,
   "id": "af9e08cf",
   "metadata": {},
   "outputs": [],
   "source": [
    "query = fg1_default.select_all().join(fg2.select_all(), on=\"id\").join(fg3.select_all(), left_on=[\"id\", \"id2\"], right_on=[\"id\", \"id2\"], prefix=\"right_\")"
   ]
  },
  {
   "cell_type": "code",
   "execution_count": 20,
   "id": "29dafab4",
   "metadata": {},
   "outputs": [
    {
     "name": "stdout",
     "output_type": "stream",
     "text": [
      "WITH x0 (SELECT *\n",
      "FROM (SELECT `fg2`.`ts`, `fg2`.`label`, `fg2`.`id`, CASE WHEN `fg2`.`id2` IS NULL THEN 10 ELSE `fg2`.`id2` END `id2`, `fg0`.`f2`, RANK() OVER (PARTITION BY `fg2`.`id`, `fg2`.`ts` ORDER BY `fg0`.`ts2` DESC) rank\n",
      "FROM `fg2` `fg2`\n",
      "INNER JOIN `fg0` `fg0` ON `fg2`.`id` = `fg0`.`id` AND `fg2`.`ts` >= `fg0`.`ts2`)\n",
      "WHERE `rank` = 1), x1 (SELECT *\n",
      "FROM (SELECT `fg2`.`ts`, `fg2`.`label`, `fg2`.`id`, CASE WHEN `fg2`.`id2` IS NULL THEN 10 ELSE `fg2`.`id2` END `id2`, `fg1`.`f3` `right_f3`, RANK() OVER (PARTITION BY `fg2`.`id`, `fg2`.`id2`, `fg2`.`ts` ORDER BY `fg1`.`ts` DESC) rank\n",
      "FROM `fg2` `fg2`\n",
      "INNER JOIN `fg1` `fg1` ON `fg2`.`id` = `fg1`.`id` AND CASE WHEN `fg2`.`id2` IS NULL THEN 10 ELSE `fg2`.`id2` END = `fg1`.`id2` AND `fg2`.`ts` >= `fg1`.`ts`)\n",
      "WHERE `rank` = 1) (SELECT `x0`.`ts`, `x0`.`label`, `x0`.`id`, `x0`.`id2`, `x0`.`f2`, `x1`.`right_f3`\n",
      "FROM x0\n",
      "INNER JOIN x1 ON `x0`.`id` = `x1`.`id` AND `x0`.`id2` = `x1`.`id2` AND `x0`.`ts` = `x1`.`ts`)"
     ]
    }
   ],
   "source": [
    "print(query.to_string())"
   ]
  },
  {
   "cell_type": "code",
   "execution_count": 23,
   "id": "8f2908f1",
   "metadata": {},
   "outputs": [],
   "source": [
    "td = fs.create_training_dataset(\"time_travel_prefix\", statistics_config=False, data_format=\"csv\", storage_connector=sc)"
   ]
  },
  {
   "cell_type": "code",
   "execution_count": 25,
   "id": "1c62f196",
   "metadata": {},
   "outputs": [
    {
     "name": "stdout",
     "output_type": "stream",
     "text": [
      "<hsfs.training_dataset.TrainingDataset object at 0x7fdb020721d0>\n",
      "VersionWarning: No version provided for creating training dataset `time_travel_prefix`, incremented version to `1`."
     ]
    }
   ],
   "source": [
    "td.save(query)"
   ]
  },
  {
   "cell_type": "code",
   "execution_count": 24,
   "id": "0bf996e5",
   "metadata": {},
   "outputs": [
    {
     "name": "stdout",
     "output_type": "stream",
     "text": [
      "+----+-----+---+-----+-----+--------+\n",
      "|  ts|label| id|  id2|   f2|right_f3|\n",
      "+----+-----+---+-----+-----+--------+\n",
      "|1008|f2-14|  3|10003| f3-8|    f3-8|\n",
      "|1008| f2-9|  2|10002| f3-5|    f3-5|\n",
      "|1006|f2-23|  5|10005|f3-14|   f3-14|\n",
      "|1004| f2-7|  2|10002| f3-4|    f3-4|\n",
      "|1010| f2-5|  1|10001| f3-3|    f3-3|\n",
      "|1008|f2-19|  4|10004|f3-11|   f3-11|\n",
      "|1004|f2-12|  3|10003| f3-7|    f3-7|\n",
      "|1006| f2-3|  1|10001| f3-2|    f3-2|\n",
      "|1010|f2-20|  4|10004|f3-12|   f3-12|\n",
      "|1010|f2-15|  3|10003| f3-9|    f3-9|\n",
      "|1004|f2-22|  5|10005|f3-13|   f3-13|\n",
      "|1008|f2-24|  5|10005|f3-14|   f3-14|\n",
      "|1010|f2-25|  5|10005|f3-15|   f3-15|\n",
      "|1006| f2-8|  2|10002| f3-5|    f3-5|\n",
      "|1008| f2-4|  1|10001| f3-2|    f3-2|\n",
      "|1010|f2-10|  2|10002| f3-6|    f3-6|\n",
      "|1006|f2-13|  3|10003| f3-8|    f3-8|\n",
      "|1006|f2-18|  4|10004|f3-11|   f3-11|\n",
      "|1004|f2-17|  4|10004|f3-10|   f3-10|\n",
      "|1004| f2-2|  1|10001| f3-1|    f3-1|\n",
      "+----+-----+---+-----+-----+--------+"
     ]
    }
   ],
   "source": [
    "query.read().show(50)"
   ]
  },
  {
   "cell_type": "code",
   "execution_count": 27,
   "id": "7d8b8699",
   "metadata": {},
   "outputs": [
    {
     "name": "stdout",
     "output_type": "stream",
     "text": [
      "WITH x0 (SELECT *\n",
      "FROM (SELECT `fg0`.`ts`, `fg0`.`label`, `fg0`.`id`, CASE WHEN `fg0`.`id2` IS NULL THEN 10 ELSE `fg0`.`id2` END `id2`, `fg1`.`f2`, RANK() OVER (PARTITION BY `fg0`.`id`, `fg0`.`ts` ORDER BY `fg1`.`ts2` DESC) rank\n",
      "FROM `fg0` `fg0`\n",
      "INNER JOIN `fg1` `fg1` ON `fg0`.`id` = `fg1`.`id` AND `fg0`.`ts` >= `fg1`.`ts2`)\n",
      "WHERE `rank` = 1), x1 (SELECT *\n",
      "FROM (SELECT `fg0`.`ts`, `fg0`.`label`, `fg0`.`id`, CASE WHEN `fg0`.`id2` IS NULL THEN 10 ELSE `fg0`.`id2` END `id2`, `fg2`.`f3` `right_f3`, RANK() OVER (PARTITION BY `fg0`.`id`, `fg0`.`id2`, `fg0`.`ts` ORDER BY `fg2`.`ts` DESC) rank\n",
      "FROM `fg0` `fg0`\n",
      "INNER JOIN `fg2` `fg2` ON `fg0`.`id` = `fg2`.`id` AND CASE WHEN `fg0`.`id2` IS NULL THEN 10 ELSE `fg0`.`id2` END = `fg2`.`id2` AND `fg0`.`ts` >= `fg2`.`ts`)\n",
      "WHERE `rank` = 1) (SELECT `x0`.`ts`, `x0`.`label`, `x0`.`id`, `x0`.`id2`, `x0`.`f2`, `x1`.`right_f3`\n",
      "FROM x0\n",
      "INNER JOIN x1 ON `x0`.`id` = `x1`.`id` AND `x0`.`id2` = `x1`.`id2` AND `x0`.`ts` = `x1`.`ts`)"
     ]
    }
   ],
   "source": [
    "print(td.get_query(False))"
   ]
  },
  {
   "cell_type": "code",
   "execution_count": 28,
   "id": "ff3bcdf5",
   "metadata": {},
   "outputs": [
    {
     "name": "stdout",
     "output_type": "stream",
     "text": [
      "'SELECT `fg0`.`ts`, `fg0`.`label`, `fg0`.`id`, `fg0`.`id2`, `fg1`.`f2`, `fg2`.`f3` `right_f3`\\nFROM `demo_fs_meb10000`.`fg1_default_1` `fg0`\\nINNER JOIN `demo_fs_meb10000`.`fg2_1` `fg1` ON `fg0`.`id` = `fg1`.`id`\\nINNER JOIN `demo_fs_meb10000`.`fg3_1` `fg2` ON `fg0`.`id` = `fg2`.`id` AND `fg0`.`id2` = `fg2`.`id2`'"
     ]
    }
   ],
   "source": [
    "td.query"
   ]
  },
  {
   "cell_type": "code",
   "execution_count": 18,
   "id": "afedd99b",
   "metadata": {},
   "outputs": [
    {
     "name": "stdout",
     "output_type": "stream",
     "text": [
      "WITH x0 (SELECT *\n",
      "FROM (SELECT `fg2`.`ts`, `fg2`.`label`, `fg2`.`id`, CASE WHEN `fg2`.`id2` IS NULL THEN 10 ELSE `fg2`.`id2` END `id2`, `fg0`.`f2`, RANK() OVER (PARTITION BY `fg2`.`id`, `fg2`.`ts` ORDER BY `fg0`.`ts2` DESC) rank\n",
      "FROM `fg2` `fg2`\n",
      "INNER JOIN `fg0` `fg0` ON `fg2`.`id` = `fg0`.`id` AND `fg2`.`ts` >= `fg0`.`ts2`)\n",
      "WHERE `rank` = 1), x1 (SELECT *\n",
      "FROM (SELECT `fg2`.`ts`, `fg2`.`label`, `fg2`.`id`, CASE WHEN `fg2`.`id2` IS NULL THEN 10 ELSE `fg2`.`id2` END `id2`, `fg1`.`f3` `right_f3`, RANK() OVER (PARTITION BY `fg2`.`id`, `fg2`.`id2`, `fg2`.`ts` ORDER BY `fg1`.`ts` DESC) rank\n",
      "FROM `fg2` `fg2`\n",
      "INNER JOIN `fg1` `fg1` ON `fg2`.`id` = `fg1`.`id` AND CASE WHEN `fg2`.`id2` IS NULL THEN 10 ELSE `fg2`.`id2` END = `fg1`.`id2` AND `fg2`.`ts` >= `fg1`.`ts`)\n",
      "WHERE `rank` = 1) (SELECT `x0`.`ts`, `x0`.`label`, `x0`.`id`, `x0`.`id2`, `x0`.`f2`, `x1`.`right_f3`\n",
      "FROM x0\n",
      "INNER JOIN x1 ON `x0`.`id` = `x1`.`id` AND `x0`.`id2` = `x1`.`id2` AND `x0`.`ts` = `x1`.`ts`)"
     ]
    }
   ],
   "source": [
    "print(query.as_of(\"20210706150910\").to_string())"
   ]
  },
  {
   "cell_type": "code",
   "execution_count": 14,
   "id": "2d70bb2a",
   "metadata": {},
   "outputs": [
    {
     "name": "stdout",
     "output_type": "stream",
     "text": [
      "{1625666262000: {'committedOn': '20210707135742', 'rowsUpdated': 25, 'rowsInserted': 0, 'rowsDeleted': 0}, 1625584324000: {'committedOn': '20210706151204', 'rowsUpdated': 0, 'rowsInserted': 0, 'rowsDeleted': 0}, 1625584150000: {'committedOn': '20210706150910', 'rowsUpdated': 0, 'rowsInserted': 25, 'rowsDeleted': 0}}"
     ]
    }
   ],
   "source": [
    "fg1_default.commit_details()"
   ]
  },
  {
   "cell_type": "code",
   "execution_count": 20,
   "id": "9b7e1ef5",
   "metadata": {},
   "outputs": [],
   "source": [
    "td = fs.create_training_dataset(\"time_travel_pit\", statistics_config=False, data_format=\"csv\", storage_connector=sc)"
   ]
  },
  {
   "cell_type": "code",
   "execution_count": 21,
   "id": "af73e53e",
   "metadata": {},
   "outputs": [
    {
     "name": "stdout",
     "output_type": "stream",
     "text": [
      "<hsfs.training_dataset.TrainingDataset object at 0x7f1b937893d0>\n",
      "VersionWarning: No version provided for creating training dataset `time_travel_pit`, incremented version to `1`."
     ]
    }
   ],
   "source": [
    "td.save(query.as_of(\"20210706150910\"))"
   ]
  },
  {
   "cell_type": "code",
   "execution_count": 22,
   "id": "f7b59e7c",
   "metadata": {},
   "outputs": [
    {
     "name": "stdout",
     "output_type": "stream",
     "text": [
      "VersionWarning: No version provided for getting feature group `games_features_hudi_tour`, defaulting to `1`."
     ]
    }
   ],
   "source": [
    "fg = fs.get_feature_group(\"games_features_hudi_tour\")"
   ]
  },
  {
   "cell_type": "code",
   "execution_count": 24,
   "id": "0c8cad4c",
   "metadata": {},
   "outputs": [
    {
     "name": "stdout",
     "output_type": "stream",
     "text": [
      "+------------+------------+-----+\n",
      "|home_team_id|away_team_id|score|\n",
      "+------------+------------+-----+\n",
      "|          50|           4|    1|\n",
      "|          50|          13|    1|\n",
      "|          50|          30|    1|\n",
      "|          50|          28|    1|\n",
      "|          50|           3|    1|\n",
      "|          50|          39|    1|\n",
      "|          50|           5|    1|\n",
      "|          50|          34|    1|\n",
      "|          50|          14|    1|\n",
      "|          50|           3|    1|\n",
      "|          50|          30|    1|\n",
      "|          50|           7|    1|\n",
      "|          50|           2|    1|\n",
      "|          50|           5|    1|\n",
      "|          50|           9|    1|\n",
      "|          50|          17|    1|\n",
      "|          50|           5|    1|\n",
      "|          50|          45|    1|\n",
      "|          50|          33|    1|\n",
      "|          50|          25|    1|\n",
      "|          50|          15|    1|\n",
      "|          50|          35|    1|\n",
      "|          50|          22|    1|\n",
      "|          50|          36|    1|\n",
      "|          50|          39|    1|\n",
      "|          50|          29|    1|\n",
      "|          50|          19|    1|\n",
      "|          50|          23|    1|\n",
      "|          50|           2|    1|\n",
      "|          50|          15|    1|\n",
      "+------------+------------+-----+\n",
      "only showing top 30 rows"
     ]
    }
   ],
   "source": [
    "fg.read().show(30)"
   ]
  },
  {
   "cell_type": "code",
   "execution_count": null,
   "id": "a60c8918",
   "metadata": {},
   "outputs": [],
   "source": []
  }
 ],
 "metadata": {
  "interpreter": {
   "hash": "5d909cb89905cc4ef174c43c1327b5138e955666d355a4b7d401365a95a276c9"
  },
  "kernelspec": {
   "display_name": "PySpark",
   "language": "python",
   "name": "python3"
  },
  "language_info": {
   "codemirror_mode": {
    "name": "ipython",
    "version": 3
   },
   "file_extension": ".py",
   "mimetype": "text/x-python",
   "name": "python",
   "nbconvert_exporter": "python",
   "pygments_lexer": "ipython3",
   "version": "3.10.0"
  }
 },
 "nbformat": 4,
 "nbformat_minor": 5
}