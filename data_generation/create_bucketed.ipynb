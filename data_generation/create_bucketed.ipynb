{
 "cells": [
  {
   "cell_type": "code",
   "execution_count": 1,
   "id": "9e971443",
   "metadata": {},
   "outputs": [
    {
     "name": "stdout",
     "output_type": "stream",
     "text": [
      "Starting Spark application\n"
     ]
    },
    {
     "data": {
      "text/html": [
       "<table>\n",
       "<tr><th>ID</th><th>Application ID</th><th>Kind</th><th>State</th><th>Spark UI</th><th>Driver log</th></tr><tr><td>62</td><td>application_1646303173729_0021</td><td>pyspark</td><td>idle</td><td><a target=\"_blank\" href=\"/hopsworks-api/yarnui/https://hopsworks0.logicalclocks.com:8089/proxy/application_1646303173729_0021/\">Link</a></td><td><a target=\"_blank\" href=\"/hopsworks-api/yarnui/https://hopsworks0.logicalclocks.com:8044/node/containerlogs/container_e04_1646303173729_0021_01_000001/demo_fs_meb10000__meb10000\">Link</a></td></tr></table>"
      ],
      "text/plain": [
       "<IPython.core.display.HTML object>"
      ]
     },
     "metadata": {},
     "output_type": "display_data"
    },
    {
     "name": "stdout",
     "output_type": "stream",
     "text": [
      "SparkSession available as 'spark'.\n"
     ]
    }
   ],
   "source": [
    "import hsfs\n",
    "from hops import hdfs\n",
    "import boto3\n",
    "from pyspark.sql import DataFrame\n",
    "from pyspark.sql.functions import col"
   ]
  },
  {
   "cell_type": "code",
   "execution_count": 2,
   "id": "8d95b890",
   "metadata": {},
   "outputs": [
    {
     "name": "stdout",
     "output_type": "stream",
     "text": [
      "Connected. Call `.close()` to terminate connection gracefully."
     ]
    }
   ],
   "source": [
    "connection = hsfs.connection()\n",
    "fs = connection.get_feature_store()\n",
    "\n",
    "# Storage connector to s3\n",
    "sc = fs.get_storage_connector(\"experiment-s3\")"
   ]
  },
  {
   "cell_type": "code",
   "execution_count": 3,
   "id": "a0c45f1a",
   "metadata": {},
   "outputs": [],
   "source": [
    "sc.prepare_spark()"
   ]
  },
  {
   "cell_type": "code",
   "execution_count": 4,
   "id": "fea702c0",
   "metadata": {},
   "outputs": [
    {
     "name": "stdout",
     "output_type": "stream",
     "text": [
      "DataFrame[]"
     ]
    }
   ],
   "source": [
    "spark.sql(\"use {}\".format(hdfs.project_name()))"
   ]
  },
  {
   "cell_type": "code",
   "execution_count": 5,
   "id": "adb67002",
   "metadata": {},
   "outputs": [],
   "source": [
    "s3_directory = \"s3a://\" + sc.bucket + \"/axel_experiments\""
   ]
  },
  {
   "cell_type": "code",
   "execution_count": 6,
   "id": "e85c1e24",
   "metadata": {},
   "outputs": [],
   "source": [
    "def save(experiment_id, left: DataFrame, right: DataFrame):\n",
    "    directory = s3_directory + \"/bucketed-raw/{}\".format(experiment_id)\n",
    "    left.write.option(\"path\", directory + \"/left\").format(\"parquet\").bucketBy(10, \"id\").saveAsTable(\"left\", mode = \"overwrite\")\n",
    "    right.write.option(\"path\", directory + \"/right\").format(\"parquet\").bucketBy(10, \"id\").saveAsTable(\"right\", mode = \"overwrite\")\n",
    "    "
   ]
  },
  {
   "cell_type": "code",
   "execution_count": 7,
   "id": "9d7a344a",
   "metadata": {},
   "outputs": [],
   "source": [
    "s3_raw_directory = \"s3a://\" + sc.bucket + \"/axel_experiments/raw/\"\n",
    "def load_data(experiment_directory: str):\n",
    "    left_raw = s3_raw_directory + \"/{}/left.parquet\".format(experiment_directory)\n",
    "    right_raw = s3_raw_directory + \"/{}/right.parquet\".format(experiment_directory)\n",
    "    \n",
    "    return spark.read.parquet(left_raw), spark.read.parquet(right_raw)"
   ]
  },
  {
   "cell_type": "code",
   "execution_count": 8,
   "id": "8cea39d6",
   "metadata": {},
   "outputs": [],
   "source": [
    "client = boto3.client(\n",
    "    \"s3\",\n",
    "    aws_access_key_id=sc._access_key,\n",
    "    aws_secret_access_key=sc._secret_key,\n",
    ")"
   ]
  },
  {
   "cell_type": "code",
   "execution_count": 9,
   "id": "59c43413",
   "metadata": {},
   "outputs": [],
   "source": [
    "folders_results = client.list_objects(Bucket=sc.bucket, Prefix=\"axel_experiments/raw/\", Delimiter='/')"
   ]
  },
  {
   "cell_type": "code",
   "execution_count": 10,
   "id": "9244943e",
   "metadata": {},
   "outputs": [
    {
     "name": "stdout",
     "output_type": "stream",
     "text": [
      "['10000-1_year', '100000-1_year', '1000000-1_year', '10000000-1_year']"
     ]
    }
   ],
   "source": [
    "experiment_ids = []\n",
    "\n",
    "for folder in folders_results.get(\"CommonPrefixes\"):\n",
    "    folder_name = folder.get(\"Prefix\")\n",
    "    experiment_ids.append(folder_name.split(\"/\")[2])\n",
    "experiment_ids"
   ]
  },
  {
   "cell_type": "code",
   "execution_count": 11,
   "id": "93a95ffd",
   "metadata": {},
   "outputs": [],
   "source": [
    "def handle_experiments(ids):\n",
    "    for experiment_id in ids:\n",
    "        left_raw, right_raw = load_data(experiment_id)\n",
    "        save(experiment_id, left_raw, right_raw)\n",
    "        "
   ]
  },
  {
   "cell_type": "code",
   "execution_count": 12,
   "id": "e088de45",
   "metadata": {},
   "outputs": [],
   "source": [
    "handle_experiments(experiment_ids)"
   ]
  },
  {
   "cell_type": "code",
   "execution_count": null,
   "id": "44c14ddf",
   "metadata": {},
   "outputs": [],
   "source": []
  }
 ],
 "metadata": {
  "kernelspec": {
   "display_name": "PySpark",
   "language": "python",
   "name": "pysparkkernel"
  },
  "language_info": {
   "codemirror_mode": {
    "name": "python",
    "version": 3
   },
   "mimetype": "text/x-python",
   "name": "pyspark",
   "pygments_lexer": "python3"
  }
 },
 "nbformat": 4,
 "nbformat_minor": 5
}