{
 "cells": [
  {
   "cell_type": "code",
   "execution_count": 1,
   "id": "69398fd2",
   "metadata": {},
   "outputs": [
    {
     "name": "stdout",
     "output_type": "stream",
     "text": [
      "Starting Spark application\n"
     ]
    },
    {
     "data": {
      "text/html": [
       "<table>\n",
       "<tr><th>ID</th><th>Application ID</th><th>Kind</th><th>State</th><th>Spark UI</th><th>Driver log</th></tr><tr><td>40</td><td>application_1642582607798_0039</td><td>spark</td><td>idle</td><td><a target=\"_blank\" href=\"/hopsworks-api/yarnui/https://hopsworks0.logicalclocks.com:8089/proxy/application_1642582607798_0039/\">Link</a></td><td><a target=\"_blank\" href=\"/hopsworks-api/yarnui/https://hopsworks0.logicalclocks.com:8044/node/containerlogs/container_e03_1642582607798_0039_01_000001/demo_fs_meb10000__meb10000\">Link</a></td></tr></table>"
      ],
      "text/plain": [
       "<IPython.core.display.HTML object>"
      ]
     },
     "metadata": {},
     "output_type": "display_data"
    },
    {
     "name": "stdout",
     "output_type": "stream",
     "text": [
      "SparkSession available as 'spark'.\n",
      "import org.apache.spark.sql.{DataFrame, Row, SparkSession}\n",
      "import org.apache.spark.sql.types.{StructType, IntegerType, StringType, StructField}\n",
      "import org.apache.spark.sql.functions._\n",
      "import org.apache.spark.sql.expressions.Window\n",
      "import io.hops.util.Hops\n",
      "import io.github.ackuq.pit._\n"
     ]
    }
   ],
   "source": [
    "import org.apache.spark.sql.{DataFrame, Row, SparkSession}\n",
    "import org.apache.spark.sql.types.{StructType, IntegerType, StringType, StructField}\n",
    "import org.apache.spark.sql.functions._\n",
    "import org.apache.spark.sql.expressions.Window\n",
    "import io.hops.util.Hops\n",
    "import io.github.ackuq.pit._"
   ]
  },
  {
   "cell_type": "code",
   "execution_count": 2,
   "id": "5c4587c7",
   "metadata": {},
   "outputs": [
    {
     "name": "stdout",
     "output_type": "stream",
     "text": [
      "BASE_PATH: String = hdfs:///Projects/demo_fs_meb10000/Jupyter/PIT-joins/experiment/data/\n",
      "DATA_DIRECTORIES: Seq[String] = List(10000-1_year, 20000-1_year, 40000-1_year, 80000-1_year)\n"
     ]
    }
   ],
   "source": [
    "val BASE_PATH = \"hdfs:///Projects/\" + Hops.getProjectName + \"/Jupyter/PIT-joins/experiment/data/\"\n",
    "val SIZES\n",
    "val DATA_DIRECTORIES = Seq(\"10000-1_year\", \"20000-1_year\", \"40000-1_year\", \"80000-1_year\")"
   ]
  },
  {
   "cell_type": "code",
   "execution_count": 3,
   "id": "1313d488",
   "metadata": {},
   "outputs": [
    {
     "name": "stdout",
     "output_type": "stream",
     "text": [
      "labelData: org.apache.spark.sql.DataFrame = [id: bigint, ts: bigint ... 1 more field]\n",
      "featureData: org.apache.spark.sql.DataFrame = [id: bigint, ts: bigint ... 1 more field]\n"
     ]
    }
   ],
   "source": [
    "val labelData = spark.read.parquet(BASE_PATH + DATA_DIRECTORIES(0) + \"/left.parquet\")\n",
    "val featureData = spark.read.parquet(BASE_PATH + DATA_DIRECTORIES(0) + \"/right.parquet\")"
   ]
  },
  {
   "cell_type": "code",
   "execution_count": 4,
   "id": "c5fc47b8",
   "metadata": {},
   "outputs": [
    {
     "name": "stdout",
     "output_type": "stream",
     "text": [
      "unionPIT: (label: org.apache.spark.sql.DataFrame, features: org.apache.spark.sql.DataFrame)org.apache.spark.sql.DataFrame\n"
     ]
    }
   ],
   "source": [
    "def unionPIT(label: DataFrame, features: DataFrame): DataFrame = {\n",
    "    Union.join(\n",
    "        label,\n",
    "        features,\n",
    "        leftPrefix = Some(\"df1_\"),\n",
    "        rightPrefix = \"df2_\",\n",
    "        partitionCols = Seq(\"id\")\n",
    "    )\n",
    "}"
   ]
  },
  {
   "cell_type": "code",
   "execution_count": 5,
   "id": "5c42355c",
   "metadata": {},
   "outputs": [
    {
     "name": "stdout",
     "output_type": "stream",
     "text": [
      "pitTestUnion: org.apache.spark.sql.DataFrame = [id: bigint, df1_ts: bigint ... 3 more fields]\n"
     ]
    }
   ],
   "source": [
    "// Test the union PIT\n",
    "val pitTestUnion = unionPIT(labelData, featureData)"
   ]
  },
  {
   "cell_type": "code",
   "execution_count": 6,
   "id": "20bd695c",
   "metadata": {},
   "outputs": [
    {
     "name": "stdout",
     "output_type": "stream",
     "text": [
      "+----+--------+---------+--------+---------+\n",
      "|  id|  df1_ts|df1_label|  df2_ts|df2_value|\n",
      "+----+--------+---------+--------+---------+\n",
      "|  26|24685843|       26|24679690|       26|\n",
      "|  29|10406545|       29|10101990|       29|\n",
      "| 964| 8806710|      964| 8019480|      964|\n",
      "|1677|18761519|     1677|18227808|     1677|\n",
      "|1697|23753009|     1697|18146106|     1697|\n",
      "|1806|10608320|     1806|10357110|     1806|\n",
      "|2214| 6138051|     2214| 5260102|     2214|\n",
      "|2250|13310809|     2250|11004066|     2250|\n",
      "|2453|11537917|     2453|10005059|     2453|\n",
      "|2509| 2333796|     2509| 2066738|     2509|\n",
      "|2529| 6809193|     2529| 4466097|     2529|\n",
      "|3091|25861160|     3091|25702301|     3091|\n",
      "|3506|21356807|     3506|21248555|     3506|\n",
      "|3764|27585395|     3764|20872490|     3764|\n",
      "|4590|20714029|     4590|20711708|     4590|\n",
      "|4823| 4141623|     4823| 2692286|     4823|\n",
      "|4894| 2667262|     4894| 2281705|     4894|\n",
      "|5385|22802515|     5385|22649902|     5385|\n",
      "|5409|18079144|     5409|11639738|     5409|\n",
      "|5556| 8572330|     5556| 8229665|     5556|\n",
      "+----+--------+---------+--------+---------+\n",
      "only showing top 20 rows\n",
      "\n"
     ]
    }
   ],
   "source": [
    "pitTestUnion.show"
   ]
  },
  {
   "cell_type": "code",
   "execution_count": null,
   "id": "a1b0cb73",
   "metadata": {},
   "outputs": [],
   "source": [
    "pitTestUnion.count"
   ]
  },
  {
   "cell_type": "code",
   "execution_count": null,
   "id": "454c1e5e",
   "metadata": {},
   "outputs": [],
   "source": [
    "def explodingPIT(label: DataFrame, features: DataFrame): DataFrame = {\n",
    "    Exploding.join(\n",
    "        label,\n",
    "        features,\n",
    "        leftTSColumn = label(\"ts\"),\n",
    "        rightTSColumn = features(\"ts\"),\n",
    "        partitionCols = Seq((label(\"id\"), features(\"id\")))\n",
    "    )\n",
    "}"
   ]
  },
  {
   "cell_type": "code",
   "execution_count": null,
   "id": "ca52751a",
   "metadata": {},
   "outputs": [],
   "source": [
    "val pitTestExploding = explodingPIT(labelData, featureData)"
   ]
  },
  {
   "cell_type": "code",
   "execution_count": null,
   "id": "1044b40f",
   "metadata": {},
   "outputs": [],
   "source": [
    "pitTestExploding.show"
   ]
  },
  {
   "cell_type": "code",
   "execution_count": null,
   "id": "d9b009bf",
   "metadata": {},
   "outputs": [],
   "source": [
    "pitTestExploding.count"
   ]
  },
  {
   "cell_type": "code",
   "execution_count": null,
   "id": "53d84da4",
   "metadata": {},
   "outputs": [],
   "source": [
    "EarlyStopSortMerge.init(spark)\n",
    "\n",
    "def earlyStopPIT(label: DataFrame, features: DataFrame): DataFrame = {\n",
    "    label.join(features, (\n",
    "            EarlyStopSortMerge.pit(label(\"ts\"), features(\"ts\"))\n",
    "        ) && (label(\"id\") === features(\"id\"))\n",
    "    )\n",
    "}"
   ]
  },
  {
   "cell_type": "code",
   "execution_count": null,
   "id": "664b32a7",
   "metadata": {},
   "outputs": [],
   "source": [
    "val pitTestEarlyStop = earlyStopPIT(labelData, featureData)"
   ]
  },
  {
   "cell_type": "code",
   "execution_count": null,
   "id": "693a7856",
   "metadata": {},
   "outputs": [],
   "source": [
    "pitTestEarlyStop.show"
   ]
  },
  {
   "cell_type": "code",
   "execution_count": null,
   "id": "926fe7e1",
   "metadata": {},
   "outputs": [],
   "source": [
    "pitTestEarlyStop.count"
   ]
  },
  {
   "cell_type": "code",
   "execution_count": null,
   "id": "c53f88ed",
   "metadata": {},
   "outputs": [],
   "source": []
  },
  {
   "cell_type": "code",
   "execution_count": null,
   "id": "758702d2",
   "metadata": {},
   "outputs": [],
   "source": []
  }
 ],
 "metadata": {
  "kernelspec": {
   "display_name": "Spark",
   "language": "scala",
   "name": "sparkkernel"
  },
  "language_info": {
   "codemirror_mode": "text/x-scala",
   "mimetype": "text/x-scala",
   "name": "scala",
   "pygments_lexer": "scala"
  }
 },
 "nbformat": 4,
 "nbformat_minor": 5
}