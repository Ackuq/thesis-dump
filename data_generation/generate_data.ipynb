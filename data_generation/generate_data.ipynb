{
 "cells": [
  {
   "cell_type": "code",
   "execution_count": 1,
   "id": "1b710939",
   "metadata": {},
   "outputs": [
    {
     "name": "stdout",
     "output_type": "stream",
     "text": [
      "Starting Spark application\n"
     ]
    },
    {
     "data": {
      "text/html": [
       "<table>\n",
       "<tr><th>ID</th><th>Application ID</th><th>Kind</th><th>State</th><th>Spark UI</th><th>Driver log</th></tr><tr><td>45</td><td>application_1646303173729_0004</td><td>pyspark</td><td>idle</td><td><a target=\"_blank\" href=\"/hopsworks-api/yarnui/https://hopsworks0.logicalclocks.com:8089/proxy/application_1646303173729_0004/\">Link</a></td><td><a target=\"_blank\" href=\"/hopsworks-api/yarnui/https://hopsworks0.logicalclocks.com:8044/node/containerlogs/container_e04_1646303173729_0004_01_000001/demo_fs_meb10000__meb10000\">Link</a></td></tr></table>"
      ],
      "text/plain": [
       "<IPython.core.display.HTML object>"
      ]
     },
     "metadata": {},
     "output_type": "display_data"
    },
    {
     "name": "stdout",
     "output_type": "stream",
     "text": [
      "SparkSession available as 'spark'.\n"
     ]
    }
   ],
   "source": [
    "import os\n",
    "from argparse import ArgumentParser\n",
    "from dataclasses import dataclass\n",
    "from enum import Enum\n",
    "from typing import List\n",
    "from tqdm import tqdm\n",
    "import numpy as np\n",
    "import hsfs\n",
    "\n",
    "from pyspark.sql import DataFrame, SparkSession\n",
    "from pyspark.sql.types import IntegerType, StringType, StructField, StructType"
   ]
  },
  {
   "cell_type": "code",
   "execution_count": 2,
   "id": "367044c6",
   "metadata": {},
   "outputs": [
    {
     "name": "stdout",
     "output_type": "stream",
     "text": [
      "Connected. Call `.close()` to terminate connection gracefully."
     ]
    }
   ],
   "source": [
    "connection = hsfs.connection()\n",
    "fs = connection.get_feature_store()\n",
    "\n",
    "# Storage connector to s3\n",
    "sc = fs.get_storage_connector(\"experiment-s3\")"
   ]
  },
  {
   "cell_type": "code",
   "execution_count": 3,
   "id": "db47fec5",
   "metadata": {},
   "outputs": [],
   "source": [
    "sc.prepare_spark()"
   ]
  },
  {
   "cell_type": "code",
   "execution_count": 4,
   "id": "f6f15663",
   "metadata": {},
   "outputs": [],
   "source": [
    "s3_directory = \"s3a://\" + sc.bucket + \"/axel_experiments\""
   ]
  },
  {
   "cell_type": "code",
   "execution_count": 6,
   "id": "9af2fbe1",
   "metadata": {},
   "outputs": [],
   "source": [
    "rng = np.random.default_rng(1337)\n",
    "SECONDS_IN_DAY = 60 * 60 * 24\n",
    "SECONDS_IN_MONTH = SECONDS_IN_DAY * 30"
   ]
  },
  {
   "cell_type": "code",
   "execution_count": 7,
   "id": "dd3cd439",
   "metadata": {},
   "outputs": [],
   "source": [
    "LEFT_SCHEMA = StructType(\n",
    "    [\n",
    "        StructField(\"id\", IntegerType(), False),\n",
    "        StructField(\"ts\", IntegerType(), False),\n",
    "        StructField(\"label\", StringType(), False),\n",
    "    ]\n",
    ")\n",
    "\n",
    "RIGHT_SCHEMA = StructType(\n",
    "    [\n",
    "        StructField(\"id\", IntegerType(), False),\n",
    "        StructField(\"ts\", IntegerType(), False),\n",
    "        StructField(\"value\", StringType(), False),\n",
    "    ]\n",
    ")"
   ]
  },
  {
   "cell_type": "code",
   "execution_count": 8,
   "id": "301f9d13",
   "metadata": {},
   "outputs": [],
   "source": [
    "@dataclass\n",
    "class DistributionConfiguration:\n",
    "    mean: float\n",
    "    sd: float\n",
    "\n",
    "\n",
    "class TimestampDistribution(Enum):\n",
    "    Normal = \"normal\"\n",
    "    Uniform = \"uniform\"\n",
    "\n",
    "    def __str__(self) -> str:\n",
    "        return self.value\n"
   ]
  },
  {
   "cell_type": "code",
   "execution_count": 9,
   "id": "1234aa49",
   "metadata": {},
   "outputs": [],
   "source": [
    "def limit_value(value, min_v, max_v):\n",
    "    return min(max(min_v, value), max_v)"
   ]
  },
  {
   "cell_type": "code",
   "execution_count": 10,
   "id": "f5d09012",
   "metadata": {},
   "outputs": [],
   "source": [
    "def generate_left_table(unique_ids: int, max_timestamp: int) -> DataFrame:\n",
    "    # Create RDD of all initial RDDs\n",
    "    id_rdd = spark.sparkContext.parallelize([id for id in range(1, unique_ids + 1)])\n",
    "    left_rdd = id_rdd.map(lambda id : (\n",
    "        id, \n",
    "        rng.integers(low=0, high=max_timestamp).item(),\n",
    "        \"{}\".format(id),\n",
    "    ))\n",
    "    return left_rdd.toDF(LEFT_SCHEMA)"
   ]
  },
  {
   "cell_type": "code",
   "execution_count": 11,
   "id": "5de87cc4",
   "metadata": {},
   "outputs": [
    {
     "name": "stdout",
     "output_type": "stream",
     "text": [
      "'\\ngenerate_right_table(1_000_000, SECONDS_IN_MONTH * 12, [\\n    DistributionConfiguration(20, 2),\\n    DistributionConfiguration(80, 8),\\n], [TimestampDistribution.Uniform, TimestmapDistribution.Normal]).count()\\n'"
     ]
    }
   ],
   "source": [
    "def generate_right_table(\n",
    "    unique_ids: int,\n",
    "    max_timestamp: int,\n",
    "    events_per_id_confs: List[DistributionConfiguration],\n",
    "    timestamp_distributions: List[TimestampDistribution],\n",
    "):\n",
    "    id_rdd = spark.sparkContext.parallelize([id for id in range(1, unique_ids + 1)])\n",
    "    def mapping_func(id):\n",
    "        # Pick a event generation conf at random\n",
    "        events_per_id_conf_idx = rng.integers(\n",
    "            low=0, high=len(events_per_id_confs), size=1\n",
    "        )[0]\n",
    "        events_per_id_conf = events_per_id_confs[events_per_id_conf_idx]\n",
    "        events = max(rng.normal(loc=events_per_id_conf.mean, scale=events_per_id_conf.sd, size=1)[0].astype(int), 0)  # type: ignore\n",
    "\n",
    "        # Pick a timestamp distribution configuration\n",
    "        timestamp_distribution_idx = rng.integers(\n",
    "            low=0, high=len(timestamp_distributions), size=1\n",
    "        )[0]\n",
    "        timestamp_distribution = timestamp_distributions[timestamp_distribution_idx]\n",
    "\n",
    "        if timestamp_distribution is TimestampDistribution.Uniform:\n",
    "            timestamps = rng.integers(low=0, high=max_timestamp, size=events).tolist()\n",
    "        elif timestamp_distribution is TimestampDistribution.Normal:\n",
    "            mean = rng.uniform(low=0, high=max_timestamp, size=1)[0]\n",
    "            sd = rng.uniform(low=SECONDS_IN_DAY * 5, high=SECONDS_IN_DAY * 15)\n",
    "            timestamps = rng.normal(mean, sd, events).astype(int).tolist()  # type: ignore\n",
    "        else:\n",
    "            raise Exception(\n",
    "                \"Invalid timestamp distribution: {}\".format(timestamp_distribution)\n",
    "            )\n",
    "        return [\n",
    "            (id, limit_value(timestamp, 0, max_timestamp  - 1), \"{}\".format(id))\n",
    "            for timestamp in timestamps\n",
    "        ]\n",
    "\n",
    "    right_rdd = id_rdd.flatMap(mapping_func)\n",
    "    return right_rdd.toDF(RIGHT_SCHEMA)\n",
    "\n",
    "\"\"\"\n",
    "generate_right_table(1_000_000, SECONDS_IN_MONTH * 12, [\n",
    "    DistributionConfiguration(20, 2),\n",
    "    DistributionConfiguration(80, 8),\n",
    "], [TimestampDistribution.Uniform, TimestmapDistribution.Normal]).count()\n",
    "\"\"\""
   ]
  },
  {
   "cell_type": "code",
   "execution_count": 12,
   "id": "a92155f5",
   "metadata": {},
   "outputs": [],
   "source": [
    "def save(ids, max_ts, left: DataFrame, right: DataFrame):\n",
    "    directory = s3_directory + \"/raw/{}-{}\".format(ids, max_ts)\n",
    "    left.write.parquet(directory + \"/left.parquet\", mode=\"overwrite\")\n",
    "    # left.to_csv(directory + \"/debug_left.csv\")\n",
    "    right.write.parquet(directory + \"/right.parquet\", mode=\"overwrite\")\n",
    "    # right.to_csv(directory + \"/debug_right.csv\")"
   ]
  },
  {
   "cell_type": "code",
   "execution_count": 13,
   "id": "85271771",
   "metadata": {},
   "outputs": [],
   "source": [
    "UNIQUE_IDS = [10_000, 100_000, 1_000_000, 10_000_000]\n",
    "INTERVALS = [\n",
    "    (SECONDS_IN_MONTH * 12, \"1_year\"),\n",
    "]\n",
    "FEATURE_UPDATES = [\n",
    "    DistributionConfiguration(20, 2),\n",
    "    DistributionConfiguration(80, 8),\n",
    "]\n",
    "NO_FEATURES = [1, 2]\n",
    "DISTRIBUTIONS = [TimestampDistribution.Normal, TimestampDistribution.Uniform]"
   ]
  },
  {
   "cell_type": "code",
   "execution_count": 14,
   "id": "e092cc9d",
   "metadata": {},
   "outputs": [],
   "source": [
    "def generate_all():\n",
    "    progress = tqdm(total=sum(UNIQUE_IDS))\n",
    "    for interval in INTERVALS:\n",
    "        for unique_ids in UNIQUE_IDS:\n",
    "            left = generate_left_table(unique_ids, interval[0])\n",
    "            right = generate_right_table(\n",
    "                unique_ids, interval[0], FEATURE_UPDATES, DISTRIBUTIONS\n",
    "            )\n",
    "            save(\n",
    "                unique_ids,\n",
    "                interval[1],\n",
    "                left,\n",
    "                right,\n",
    "            )\n",
    "            progress.update(unique_ids)"
   ]
  },
  {
   "cell_type": "code",
   "execution_count": 15,
   "id": "3b14a8b0",
   "metadata": {},
   "outputs": [
    {
     "name": "stdout",
     "output_type": "stream",
     "text": [
      "100%|##########| 11110000/11110000 [1:53:14<00:00, 451.61it/s]"
     ]
    }
   ],
   "source": [
    "generate_all()"
   ]
  },
  {
   "cell_type": "code",
   "execution_count": null,
   "id": "50a0bcc0",
   "metadata": {},
   "outputs": [],
   "source": []
  }
 ],
 "metadata": {
  "kernelspec": {
   "display_name": "PySpark",
   "language": "python",
   "name": "pysparkkernel"
  },
  "language_info": {
   "codemirror_mode": {
    "name": "python",
    "version": 3
   },
   "mimetype": "text/x-python",
   "name": "pyspark",
   "pygments_lexer": "python3"
  }
 },
 "nbformat": 4,
 "nbformat_minor": 5
}