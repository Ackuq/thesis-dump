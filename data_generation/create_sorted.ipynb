{
 "cells": [
  {
   "cell_type": "code",
   "execution_count": 2,
   "id": "d93836b3",
   "metadata": {},
   "outputs": [],
   "source": [
    "import hsfs\n",
    "import boto3\n",
    "from pyspark.sql import DataFrame\n",
    "from pyspark.sql.functions import col"
   ]
  },
  {
   "cell_type": "code",
   "execution_count": 3,
   "id": "2e2b57ba",
   "metadata": {},
   "outputs": [],
   "source": [
    "spark.conf.set(\"spark.sql.shuffle.partitions\", 2)"
   ]
  },
  {
   "cell_type": "code",
   "execution_count": 4,
   "id": "a1d046f5",
   "metadata": {},
   "outputs": [
    {
     "name": "stdout",
     "output_type": "stream",
     "text": [
      "Connected. Call `.close()` to terminate connection gracefully."
     ]
    }
   ],
   "source": [
    "connection = hsfs.connection()\n",
    "fs = connection.get_feature_store()\n",
    "\n",
    "# Storage connector to s3\n",
    "sc = fs.get_storage_connector(\"experiment-s3\")\n"
   ]
  },
  {
   "cell_type": "code",
   "execution_count": 5,
   "id": "be4c4eb7",
   "metadata": {},
   "outputs": [],
   "source": [
    "sc.prepare_spark()"
   ]
  },
  {
   "cell_type": "code",
   "execution_count": 6,
   "id": "46e782d2",
   "metadata": {},
   "outputs": [],
   "source": [
    "s3_directory = \"s3a://\" + sc.bucket + \"/axel_experiments\""
   ]
  },
  {
   "cell_type": "code",
   "execution_count": 7,
   "id": "8904fddd",
   "metadata": {},
   "outputs": [],
   "source": [
    "def save(experiment_id, direction: str, left: DataFrame, right: DataFrame):\n",
    "    directory = s3_directory + \"/sorted-{}/{}\".format(direction, experiment_id)\n",
    "    left.write.parquet(directory + \"/left.parquet\", mode=\"overwrite\")\n",
    "    # left.to_csv(directory + \"/debug_left.csv\")\n",
    "    right.write.parquet(directory + \"/right.parquet\", mode=\"overwrite\")\n",
    "    # right.to_csv(directory + \"/debug_right.csv\")"
   ]
  },
  {
   "cell_type": "code",
   "execution_count": 8,
   "id": "a4922836",
   "metadata": {},
   "outputs": [],
   "source": [
    "s3_raw_directory = \"s3a://\" + sc.bucket + \"/axel_experiments/raw/\"\n",
    "def load_data(experiment_directory: str):\n",
    "    left_raw = s3_raw_directory + \"/{}/left.parquet\".format(experiment_directory)\n",
    "    right_raw = s3_raw_directory + \"/{}/right.parquet\".format(experiment_directory)\n",
    "    \n",
    "    return spark.read.parquet(left_raw), spark.read.parquet(right_raw)"
   ]
  },
  {
   "cell_type": "code",
   "execution_count": 9,
   "id": "de68a4b1",
   "metadata": {},
   "outputs": [],
   "source": [
    "client = boto3.client(\n",
    "    \"s3\",\n",
    "    aws_access_key_id=sc._access_key,\n",
    "    aws_secret_access_key=sc._secret_key,\n",
    ")"
   ]
  },
  {
   "cell_type": "code",
   "execution_count": 10,
   "id": "b22469bc",
   "metadata": {},
   "outputs": [],
   "source": [
    "folders_results = client.list_objects(Bucket=sc.bucket, Prefix=\"axel_experiments/raw/\", Delimiter='/')"
   ]
  },
  {
   "cell_type": "code",
   "execution_count": 11,
   "id": "a43d4b20",
   "metadata": {},
   "outputs": [
    {
     "name": "stdout",
     "output_type": "stream",
     "text": [
      "['10000-1_year', '100000-1_year', '1000000-1_year', '10000000-1_year']"
     ]
    }
   ],
   "source": [
    "experiment_ids = []\n",
    "\n",
    "for folder in folders_results.get(\"CommonPrefixes\"):\n",
    "    folder_name = folder.get(\"Prefix\")\n",
    "    experiment_ids.append(folder_name.split(\"/\")[2])\n",
    "experiment_ids"
   ]
  },
  {
   "cell_type": "code",
   "execution_count": 12,
   "id": "14c19a9f",
   "metadata": {},
   "outputs": [],
   "source": [
    "def sort(df: DataFrame):\n",
    "    return (\n",
    "        df.orderBy(col(\"id\"), col(\"ts\")),\n",
    "        df.orderBy(col(\"id\").desc(), col(\"ts\").desc()),\n",
    "    )"
   ]
  },
  {
   "cell_type": "code",
   "execution_count": 12,
   "id": "5f0b0a3d",
   "metadata": {},
   "outputs": [],
   "source": [
    "def handle_experiments(ids):\n",
    "    for experiment_id in ids:\n",
    "        left_raw, right_raw = load_data(experiment_id)\n",
    "        left_asc, left_desc = sort(left_raw)\n",
    "        right_asc, right_desc = sort(right_raw)\n",
    "        save(experiment_id, \"asc\", left_asc, right_asc)\n",
    "        save(experiment_id, \"desc\", left_desc, right_desc)\n",
    "        "
   ]
  },
  {
   "cell_type": "code",
   "execution_count": 13,
   "id": "6d4515c0",
   "metadata": {},
   "outputs": [],
   "source": [
    "handle_experiments(experiment_ids)"
   ]
  },
  {
   "cell_type": "markdown",
   "id": "77b7fc19",
   "metadata": {},
   "source": [
    "# Create randomized collections aswell"
   ]
  },
  {
   "cell_type": "code",
   "execution_count": 15,
   "id": "22520cea",
   "metadata": {},
   "outputs": [],
   "source": [
    "from pyspark.sql.functions import rand \n",
    "\n",
    "def randomize(df: DataFrame):\n",
    "    return df.orderBy(rand())"
   ]
  },
  {
   "cell_type": "code",
   "execution_count": 21,
   "id": "2fb210ec",
   "metadata": {},
   "outputs": [],
   "source": [
    "def handle_experiments_random(ids):\n",
    "    for experiment_id in ids:\n",
    "        left_raw, right_raw = load_data(experiment_id)\n",
    "        left_rand = randomize(left_raw)\n",
    "        right_rand = randomize(right_raw)\n",
    "        save(experiment_id, \"rand\", left_rand, right_rand)"
   ]
  },
  {
   "cell_type": "code",
   "execution_count": null,
   "id": "81c1b3fc",
   "metadata": {},
   "outputs": [],
   "source": [
    "handle_experiments_random(experiment_ids)"
   ]
  },
  {
   "cell_type": "code",
   "execution_count": null,
   "id": "580b7e1e",
   "metadata": {},
   "outputs": [],
   "source": []
  }
 ],
 "metadata": {
  "kernelspec": {
   "display_name": "PySpark",
   "language": "python",
   "name": "pysparkkernel"
  },
  "language_info": {
   "codemirror_mode": {
    "name": "python",
    "version": 3
   },
   "mimetype": "text/x-python",
   "name": "pyspark",
   "pygments_lexer": "python3"
  }
 },
 "nbformat": 4,
 "nbformat_minor": 5
}