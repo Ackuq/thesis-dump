{
 "cells": [
  {
   "cell_type": "code",
   "execution_count": 6,
   "id": "d379ac39",
   "metadata": {},
   "outputs": [],
   "source": [
    "import hsfs\n",
    "from hops import hdfs\n",
    "from pyspark.sql import DataFrame\n",
    "from pyspark.sql.functions import col"
   ]
  },
  {
   "cell_type": "code",
   "execution_count": 7,
   "id": "b0d4ec99",
   "metadata": {},
   "outputs": [
    {
     "name": "stdout",
     "output_type": "stream",
     "text": [
      "Connected. Call `.close()` to terminate connection gracefully."
     ]
    }
   ],
   "source": [
    "connection = hsfs.connection()\n",
    "fs = connection.get_feature_store()\n",
    "\n",
    "# Storage connector to s3\n",
    "sc = fs.get_storage_connector(\"experiment-s3\")"
   ]
  },
  {
   "cell_type": "code",
   "execution_count": 10,
   "id": "61807afe",
   "metadata": {},
   "outputs": [],
   "source": [
    "sc.prepare_spark()"
   ]
  },
  {
   "cell_type": "code",
   "execution_count": 17,
   "id": "29b7efba",
   "metadata": {},
   "outputs": [
    {
     "name": "stdout",
     "output_type": "stream",
     "text": [
      "'hdfs://rpc.namenode.service.consul:8020/user/spark/spark-warehouse'"
     ]
    }
   ],
   "source": []
  },
  {
   "cell_type": "code",
   "execution_count": 18,
   "id": "eb9729b2",
   "metadata": {},
   "outputs": [],
   "source": [
    "s3_directory = \"s3a://\" + sc.bucket + \"/axel_experiments/bucketed-raw/10000-1_year/\""
   ]
  },
  {
   "cell_type": "code",
   "execution_count": 5,
   "id": "78e9e41e",
   "metadata": {},
   "outputs": [
    {
     "name": "stderr",
     "output_type": "stream",
     "text": [
      "An error was encountered:\n",
      "name 's3_directory' is not defined\n",
      "Traceback (most recent call last):\n",
      "NameError: name 's3_directory' is not defined\n",
      "\n"
     ]
    }
   ],
   "source": [
    "left = spark.read.format(\"parquet\").load(s3_directory + \"left\")"
   ]
  },
  {
   "cell_type": "code",
   "execution_count": 86,
   "id": "412943f8",
   "metadata": {},
   "outputs": [],
   "source": [
    "left.createOrReplaceTempView(\"left\")"
   ]
  },
  {
   "cell_type": "code",
   "execution_count": 12,
   "id": "3bc04bb1",
   "metadata": {},
   "outputs": [],
   "source": [
    "right = spark.read.format(\"parquet\").load(s3_directory + \"right\")"
   ]
  },
  {
   "cell_type": "code",
   "execution_count": 89,
   "id": "564cb7d8",
   "metadata": {},
   "outputs": [],
   "source": [
    "right.createOrReplaceTempView(\"right\")"
   ]
  },
  {
   "cell_type": "code",
   "execution_count": 90,
   "id": "b63457c8",
   "metadata": {},
   "outputs": [],
   "source": [
    "join = spark.sql(\"SELECT * FROM left JOIN right ON left.id = right.id\")"
   ]
  },
  {
   "cell_type": "code",
   "execution_count": 92,
   "id": "ba0c3c7c",
   "metadata": {},
   "outputs": [
    {
     "name": "stdout",
     "output_type": "stream",
     "text": [
      "+---+---+-----+\n",
      "| id| ts|label|\n",
      "+---+---+-----+\n",
      "+---+---+-----+"
     ]
    }
   ],
   "source": [
    "spark.sql(\"SELECT * FROM left\").show()"
   ]
  },
  {
   "cell_type": "code",
   "execution_count": 34,
   "id": "05731b2a",
   "metadata": {},
   "outputs": [
    {
     "name": "stdout",
     "output_type": "stream",
     "text": [
      "DataFrame[summary: string, id: string, ts: string, label: string]"
     ]
    }
   ],
   "source": [
    "left.describe()"
   ]
  },
  {
   "cell_type": "code",
   "execution_count": null,
   "id": "e07f4fc4",
   "metadata": {},
   "outputs": [],
   "source": []
  }
 ],
 "metadata": {
  "kernelspec": {
   "display_name": "PySpark",
   "language": "python",
   "name": "pysparkkernel"
  },
  "language_info": {
   "codemirror_mode": {
    "name": "python",
    "version": 3
   },
   "mimetype": "text/x-python",
   "name": "pyspark",
   "pygments_lexer": "python3"
  }
 },
 "nbformat": 4,
 "nbformat_minor": 5
}