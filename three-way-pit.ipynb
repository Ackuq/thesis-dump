{
 "cells": [
  {
   "cell_type": "code",
   "execution_count": 2,
   "id": "48c53f2e",
   "metadata": {},
   "outputs": [],
   "source": [
    "import datetime\n",
    "from pyspark.sql import DataFrame, Row, SparkSession\n",
    "from pyspark.sql.types import *\n",
    "from pyspark.sql.functions import unix_timestamp, from_unixtime, col\n",
    "from pyspark.sql import functions as F"
   ]
  },
  {
   "cell_type": "code",
   "execution_count": 3,
   "id": "749bddc7",
   "metadata": {},
   "outputs": [],
   "source": [
    "fg1_schema = StructType([\n",
    "  StructField(\"id\", IntegerType(), True),\n",
    "  StructField(\"ts\", IntegerType(), True),\n",
    "  StructField(\"label\", StringType(), True)    \n",
    "])\n",
    "\n",
    "fg2_schema = StructType([\n",
    "  StructField(\"id_2\", IntegerType(), True),\n",
    "  StructField(\"ts_2\", IntegerType(), True),\n",
    "  StructField(\"f2\", StringType(), True)    \n",
    "])\n",
    "\n",
    "fg3_schema = StructType([\n",
    "  StructField(\"id_3\", IntegerType(), True),\n",
    "  StructField(\"ts_3\", IntegerType(), True),\n",
    "  StructField(\"f3\", StringType(), True)    \n",
    "])"
   ]
  },
  {
   "cell_type": "code",
   "execution_count": 4,
   "id": "d371be5f",
   "metadata": {},
   "outputs": [],
   "source": [
    "data1 = [[1, 5, \"1x\"],\n",
    "         [1, 7, \"1y\"],\n",
    "         [1, 4, \"1z\"],\n",
    "         [2, 6, \"2x\"],\n",
    "         [2, 8, \"2y\"]]\n",
    "\n",
    "data2 = [[1, 5, \"1x\"],\n",
    "         [1, 7, \"1y\"],\n",
    "         [1, 4, \"1z\"],\n",
    "         [2, 6, \"2x\"],\n",
    "         [2, 8, \"2y\"]]\n",
    "\n",
    "data3 = [[1, 10, \"f3-1-10\"],\n",
    "         [1, 1, \"f3-1-1\"],\n",
    "         [1, 6, \"f3-1-6\"],\n",
    "         [2, 2, \"f3-2-2\"],\n",
    "         [2, 8, \"f3-2-8\"]]"
   ]
  },
  {
   "cell_type": "code",
   "execution_count": 5,
   "id": "dbad2410",
   "metadata": {},
   "outputs": [],
   "source": [
    "data1 = [[1, 5, \"1x\"],\n",
    "         [1, 7, \"1y\"],\n",
    "         [1, 4, \"1z\"],\n",
    "         [2, 6, \"2x\"],\n",
    "         [2, 8, \"2y\"]]"
   ]
  },
  {
   "cell_type": "code",
   "execution_count": 6,
   "id": "36a38fb8",
   "metadata": {},
   "outputs": [],
   "source": [
    "data3 = [[1, 10, \"f3-1-10\"],\n",
    "         [1, 1, \"f3-1-1\"],\n",
    "         [1, 6, \"f3-1-6\"],\n",
    "         [2, 2, \"f3-2-2\"],\n",
    "         [2, 8, \"f3-2-8\"]]"
   ]
  },
  {
   "cell_type": "code",
   "execution_count": 7,
   "id": "70f17305",
   "metadata": {},
   "outputs": [],
   "source": [
    "spark = spark = SparkSession.builder.master(\"local\").appName(\"Three Way PIT\").config(\"spark.some.config.option\", \"some-value\").getOrCreate()"
   ]
  },
  {
   "cell_type": "code",
   "execution_count": 7,
   "id": "6a4ffdd3",
   "metadata": {},
   "outputs": [],
   "source": [
    "fg1 = spark.createDataFrame(data1, schema=fg1_schema) \n",
    "fg2 = spark.createDataFrame(data2, schema=fg2_schema) \n",
    "fg3 = spark.createDataFrame(data3, schema=fg3_schema) "
   ]
  },
  {
   "cell_type": "code",
   "execution_count": 8,
   "id": "b54536ed",
   "metadata": {},
   "outputs": [
    {
     "name": "stdout",
     "output_type": "stream",
     "text": [
      "13"
     ]
    }
   ],
   "source": [
    "fg1.join(fg2, fg1.id == fg2.id_2).count()"
   ]
  },
  {
   "cell_type": "code",
   "execution_count": 9,
   "id": "10b462e8",
   "metadata": {},
   "outputs": [
    {
     "name": "stdout",
     "output_type": "stream",
     "text": [
      "+---+---+-----+----+----+---+\n",
      "| id| ts|label|id_2|ts_2| f2|\n",
      "+---+---+-----+----+----+---+\n",
      "|  1|  5|   1x|   1|   5| 1x|\n",
      "|  1|  5|   1x|   1|   7| 1y|\n",
      "|  1|  5|   1x|   1|   4| 1z|\n",
      "|  1|  7|   1y|   1|   5| 1x|\n",
      "|  1|  7|   1y|   1|   7| 1y|\n",
      "|  1|  7|   1y|   1|   4| 1z|\n",
      "|  1|  4|   1z|   1|   5| 1x|\n",
      "|  1|  4|   1z|   1|   7| 1y|\n",
      "|  1|  4|   1z|   1|   4| 1z|\n",
      "|  2|  6|   2x|   2|   6| 2x|\n",
      "|  2|  6|   2x|   2|   8| 2y|\n",
      "|  2|  8|   2y|   2|   6| 2x|\n",
      "|  2|  8|   2y|   2|   8| 2y|\n",
      "+---+---+-----+----+----+---+"
     ]
    }
   ],
   "source": [
    "fg1.join(fg2, fg1.id == fg2.id_2).show(50)"
   ]
  },
  {
   "cell_type": "code",
   "execution_count": 10,
   "id": "e5e07117",
   "metadata": {},
   "outputs": [
    {
     "name": "stdout",
     "output_type": "stream",
     "text": [
      "35"
     ]
    }
   ],
   "source": [
    "fg1.join(fg2, fg1.id == fg2.id_2).join(fg3, fg1.id == fg3.id_3).count()"
   ]
  },
  {
   "cell_type": "code",
   "execution_count": 11,
   "id": "cf5b7f54",
   "metadata": {},
   "outputs": [
    {
     "name": "stdout",
     "output_type": "stream",
     "text": [
      "+---+---+-----+----+----+---+----+----+-------+\n",
      "| id| ts|label|id_2|ts_2| f2|id_3|ts_3|     f3|\n",
      "+---+---+-----+----+----+---+----+----+-------+\n",
      "|  1|  5|   1x|   1|   5| 1x|   1|  10|f3-1-10|\n",
      "|  1|  5|   1x|   1|   5| 1x|   1|   1| f3-1-1|\n",
      "|  1|  5|   1x|   1|   5| 1x|   1|   6| f3-1-6|\n",
      "|  1|  5|   1x|   1|   7| 1y|   1|  10|f3-1-10|\n",
      "|  1|  5|   1x|   1|   7| 1y|   1|   1| f3-1-1|\n",
      "|  1|  5|   1x|   1|   7| 1y|   1|   6| f3-1-6|\n",
      "|  1|  5|   1x|   1|   4| 1z|   1|  10|f3-1-10|\n",
      "|  1|  5|   1x|   1|   4| 1z|   1|   1| f3-1-1|\n",
      "|  1|  5|   1x|   1|   4| 1z|   1|   6| f3-1-6|\n",
      "|  1|  7|   1y|   1|   5| 1x|   1|  10|f3-1-10|\n",
      "|  1|  7|   1y|   1|   5| 1x|   1|   1| f3-1-1|\n",
      "|  1|  7|   1y|   1|   5| 1x|   1|   6| f3-1-6|\n",
      "|  1|  7|   1y|   1|   7| 1y|   1|  10|f3-1-10|\n",
      "|  1|  7|   1y|   1|   7| 1y|   1|   1| f3-1-1|\n",
      "|  1|  7|   1y|   1|   7| 1y|   1|   6| f3-1-6|\n",
      "|  1|  7|   1y|   1|   4| 1z|   1|  10|f3-1-10|\n",
      "|  1|  7|   1y|   1|   4| 1z|   1|   1| f3-1-1|\n",
      "|  1|  7|   1y|   1|   4| 1z|   1|   6| f3-1-6|\n",
      "|  1|  4|   1z|   1|   5| 1x|   1|  10|f3-1-10|\n",
      "|  1|  4|   1z|   1|   5| 1x|   1|   1| f3-1-1|\n",
      "|  1|  4|   1z|   1|   5| 1x|   1|   6| f3-1-6|\n",
      "|  1|  4|   1z|   1|   7| 1y|   1|  10|f3-1-10|\n",
      "|  1|  4|   1z|   1|   7| 1y|   1|   1| f3-1-1|\n",
      "|  1|  4|   1z|   1|   7| 1y|   1|   6| f3-1-6|\n",
      "|  1|  4|   1z|   1|   4| 1z|   1|  10|f3-1-10|\n",
      "|  1|  4|   1z|   1|   4| 1z|   1|   1| f3-1-1|\n",
      "|  1|  4|   1z|   1|   4| 1z|   1|   6| f3-1-6|\n",
      "|  2|  6|   2x|   2|   6| 2x|   2|   2| f3-2-2|\n",
      "|  2|  6|   2x|   2|   6| 2x|   2|   8| f3-2-8|\n",
      "|  2|  6|   2x|   2|   8| 2y|   2|   2| f3-2-2|\n",
      "|  2|  6|   2x|   2|   8| 2y|   2|   8| f3-2-8|\n",
      "|  2|  8|   2y|   2|   6| 2x|   2|   2| f3-2-2|\n",
      "|  2|  8|   2y|   2|   6| 2x|   2|   8| f3-2-8|\n",
      "|  2|  8|   2y|   2|   8| 2y|   2|   2| f3-2-2|\n",
      "|  2|  8|   2y|   2|   8| 2y|   2|   8| f3-2-8|\n",
      "+---+---+-----+----+----+---+----+----+-------+"
     ]
    }
   ],
   "source": [
    "fg1.join(fg2, fg1.id == fg2.id_2).join(fg3, fg1.id == fg3.id_3).show(50)"
   ]
  },
  {
   "cell_type": "markdown",
   "id": "0ab96159",
   "metadata": {},
   "source": [
    "### With Time"
   ]
  },
  {
   "cell_type": "code",
   "execution_count": 12,
   "id": "fa956284",
   "metadata": {},
   "outputs": [
    {
     "name": "stdout",
     "output_type": "stream",
     "text": [
      "9"
     ]
    }
   ],
   "source": [
    "fg1.join(fg2, (fg1.id == fg2.id_2) & (fg1.ts >= fg2.ts_2)).count()"
   ]
  },
  {
   "cell_type": "code",
   "execution_count": 13,
   "id": "558eadb1",
   "metadata": {},
   "outputs": [
    {
     "name": "stdout",
     "output_type": "stream",
     "text": [
      "+---+---+-----+----+----+---+\n",
      "| id| ts|label|id_2|ts_2| f2|\n",
      "+---+---+-----+----+----+---+\n",
      "|  1|  5|   1x|   1|   5| 1x|\n",
      "|  1|  5|   1x|   1|   4| 1z|\n",
      "|  1|  7|   1y|   1|   5| 1x|\n",
      "|  1|  7|   1y|   1|   7| 1y|\n",
      "|  1|  7|   1y|   1|   4| 1z|\n",
      "|  1|  4|   1z|   1|   4| 1z|\n",
      "|  2|  6|   2x|   2|   6| 2x|\n",
      "|  2|  8|   2y|   2|   6| 2x|\n",
      "|  2|  8|   2y|   2|   8| 2y|\n",
      "+---+---+-----+----+----+---+"
     ]
    }
   ],
   "source": [
    "fg1.join(fg2, (fg1.id == fg2.id_2) & (fg1.ts >= fg2.ts_2)).show()"
   ]
  },
  {
   "cell_type": "code",
   "execution_count": 14,
   "id": "c4df9fe5",
   "metadata": {},
   "outputs": [
    {
     "name": "stdout",
     "output_type": "stream",
     "text": [
      "14"
     ]
    }
   ],
   "source": [
    "fg1.join(fg2, (fg1.id == fg2.id_2) & (fg1.ts >= fg2.ts_2)).join(\n",
    "    fg3, (fg1.id == fg3.id_3) & (fg1.ts >= fg3.ts_3)\n",
    ").count()\n"
   ]
  },
  {
   "cell_type": "code",
   "execution_count": 15,
   "id": "06a07446",
   "metadata": {},
   "outputs": [
    {
     "name": "stdout",
     "output_type": "stream",
     "text": [
      "+---+---+-----+----+----+---+----+----+------+\n",
      "| id| ts|label|id_2|ts_2| f2|id_3|ts_3|    f3|\n",
      "+---+---+-----+----+----+---+----+----+------+\n",
      "|  1|  5|   1x|   1|   5| 1x|   1|   1|f3-1-1|\n",
      "|  1|  5|   1x|   1|   4| 1z|   1|   1|f3-1-1|\n",
      "|  1|  7|   1y|   1|   5| 1x|   1|   1|f3-1-1|\n",
      "|  1|  7|   1y|   1|   5| 1x|   1|   6|f3-1-6|\n",
      "|  1|  7|   1y|   1|   7| 1y|   1|   1|f3-1-1|\n",
      "|  1|  7|   1y|   1|   7| 1y|   1|   6|f3-1-6|\n",
      "|  1|  7|   1y|   1|   4| 1z|   1|   1|f3-1-1|\n",
      "|  1|  7|   1y|   1|   4| 1z|   1|   6|f3-1-6|\n",
      "|  1|  4|   1z|   1|   4| 1z|   1|   1|f3-1-1|\n",
      "|  2|  6|   2x|   2|   6| 2x|   2|   2|f3-2-2|\n",
      "|  2|  8|   2y|   2|   6| 2x|   2|   2|f3-2-2|\n",
      "|  2|  8|   2y|   2|   6| 2x|   2|   8|f3-2-8|\n",
      "|  2|  8|   2y|   2|   8| 2y|   2|   2|f3-2-2|\n",
      "|  2|  8|   2y|   2|   8| 2y|   2|   8|f3-2-8|\n",
      "+---+---+-----+----+----+---+----+----+------+"
     ]
    }
   ],
   "source": [
    "fg1.join(fg2, (fg1.id == fg2.id_2) & (fg1.ts >= fg2.ts_2)).join(\n",
    "    fg3, (fg1.id == fg3.id_3) & (fg1.ts >= fg3.ts_3)\n",
    ").show(50)\n"
   ]
  },
  {
   "cell_type": "markdown",
   "id": "0964f82b",
   "metadata": {},
   "source": [
    "## Add window"
   ]
  },
  {
   "cell_type": "code",
   "execution_count": 16,
   "id": "32a8b038",
   "metadata": {},
   "outputs": [],
   "source": [
    "from pyspark.sql import Window\n",
    "from pyspark.sql.functions import lit, when, col, lag, rank, row_number, dense_rank, desc, asc\n",
    "\n",
    "win2 = Window.partitionBy([\"id\", \"ts\"]).orderBy(col('ts_2').desc())\n",
    "win3 = Window.partitionBy([\"id\", \"ts\"]).orderBy(col('ts_3').desc())"
   ]
  },
  {
   "cell_type": "code",
   "execution_count": 17,
   "id": "df963358",
   "metadata": {},
   "outputs": [
    {
     "name": "stdout",
     "output_type": "stream",
     "text": [
      "+---+---+-----+----+----+---+----+----+------+-----+-----+----+----+------+------+\n",
      "| id| ts|label|id_2|ts_2| f2|id_3|ts_3|    f3|rank2|rank3|row2|row3|dense2|dense3|\n",
      "+---+---+-----+----+----+---+----+----+------+-----+-----+----+----+------+------+\n",
      "|  1|  4|   1z|   1|   4| 1z|   1|   1|f3-1-1|    1|    1|   1|   1|     1|     1|\n",
      "|  1|  5|   1x|   1|   5| 1x|   1|   1|f3-1-1|    1|    1|   1|   1|     1|     1|\n",
      "|  1|  5|   1x|   1|   4| 1z|   1|   1|f3-1-1|    2|    1|   2|   2|     2|     1|\n",
      "|  1|  7|   1y|   1|   7| 1y|   1|   6|f3-1-6|    1|    1|   1|   1|     1|     1|\n",
      "|  1|  7|   1y|   1|   5| 1x|   1|   6|f3-1-6|    3|    1|   3|   2|     2|     1|\n",
      "|  1|  7|   1y|   1|   4| 1z|   1|   6|f3-1-6|    5|    1|   5|   3|     3|     1|\n",
      "|  1|  7|   1y|   1|   7| 1y|   1|   1|f3-1-1|    1|    4|   2|   4|     1|     2|\n",
      "|  1|  7|   1y|   1|   5| 1x|   1|   1|f3-1-1|    3|    4|   4|   5|     2|     2|\n",
      "|  1|  7|   1y|   1|   4| 1z|   1|   1|f3-1-1|    5|    4|   6|   6|     3|     2|\n",
      "|  2|  6|   2x|   2|   6| 2x|   2|   2|f3-2-2|    1|    1|   1|   1|     1|     1|\n",
      "|  2|  8|   2y|   2|   8| 2y|   2|   8|f3-2-8|    1|    1|   1|   1|     1|     1|\n",
      "|  2|  8|   2y|   2|   6| 2x|   2|   8|f3-2-8|    3|    1|   3|   2|     2|     1|\n",
      "|  2|  8|   2y|   2|   8| 2y|   2|   2|f3-2-2|    1|    3|   2|   3|     1|     2|\n",
      "|  2|  8|   2y|   2|   6| 2x|   2|   2|f3-2-2|    3|    3|   4|   4|     2|     2|\n",
      "+---+---+-----+----+----+---+----+----+------+-----+-----+----+----+------+------+"
     ]
    }
   ],
   "source": [
    "fg1.join(fg2, (fg1.id == fg2.id_2) & (fg1.ts >= fg2.ts_2)).join(\n",
    "    fg3, (fg1.id == fg3.id_3) & (fg1.ts >= fg3.ts_3)\n",
    ").withColumn(\"rank2\", rank().over(win2)).withColumn(\n",
    "    \"rank3\", rank().over(win3)\n",
    ").withColumn(\n",
    "    \"row2\", row_number().over(win2)\n",
    ").withColumn(\n",
    "    \"row3\", row_number().over(win3)\n",
    ").withColumn(\n",
    "    \"dense2\", dense_rank().over(win2)\n",
    ").withColumn(\n",
    "    \"dense3\", dense_rank().over(win3)\n",
    ").show(\n",
    "    50\n",
    ")\n"
   ]
  },
  {
   "cell_type": "markdown",
   "id": "c193b5ed",
   "metadata": {},
   "source": [
    "## One Window"
   ]
  },
  {
   "cell_type": "code",
   "execution_count": 18,
   "id": "e56a6ef2",
   "metadata": {},
   "outputs": [
    {
     "name": "stdout",
     "output_type": "stream",
     "text": [
      "== Physical Plan ==\n",
      "* Filter (17)\n",
      "+- Window (16)\n",
      "   +- * Sort (15)\n",
      "      +- * SortMergeJoin Inner (14)\n",
      "         :- * SortMergeJoin Inner (9)\n",
      "         :  :- * Sort (4)\n",
      "         :  :  +- Exchange (3)\n",
      "         :  :     +- * Filter (2)\n",
      "         :  :        +- * Scan ExistingRDD (1)\n",
      "         :  +- * Sort (8)\n",
      "         :     +- Exchange (7)\n",
      "         :        +- * Filter (6)\n",
      "         :           +- * Scan ExistingRDD (5)\n",
      "         +- * Sort (13)\n",
      "            +- Exchange (12)\n",
      "               +- * Filter (11)\n",
      "                  +- * Scan ExistingRDD (10)\n",
      "\n",
      "\n",
      "(1) Scan ExistingRDD [codegen id : 1]\n",
      "Output [3]: [id#0, ts#1, label#2]\n",
      "Arguments: [id#0, ts#1, label#2], MapPartitionsRDD[4] at applySchemaToPythonRDD at NativeMethodAccessorImpl.java:0, ExistingRDD, UnknownPartitioning(0)\n",
      "\n",
      "(2) Filter [codegen id : 1]\n",
      "Input [3]: [id#0, ts#1, label#2]\n",
      "Condition : (isnotnull(id#0) AND isnotnull(ts#1))\n",
      "\n",
      "(3) Exchange\n",
      "Input [3]: [id#0, ts#1, label#2]\n",
      "Arguments: hashpartitioning(id#0, 200), ENSURE_REQUIREMENTS, [id=#797]\n",
      "\n",
      "(4) Sort [codegen id : 2]\n",
      "Input [3]: [id#0, ts#1, label#2]\n",
      "Arguments: [id#0 ASC NULLS FIRST], false, 0\n",
      "\n",
      "(5) Scan ExistingRDD [codegen id : 3]\n",
      "Output [3]: [id_2#6, ts_2#7, f2#8]\n",
      "Arguments: [id_2#6, ts_2#7, f2#8], MapPartitionsRDD[9] at applySchemaToPythonRDD at NativeMethodAccessorImpl.java:0, ExistingRDD, UnknownPartitioning(0)\n",
      "\n",
      "(6) Filter [codegen id : 3]\n",
      "Input [3]: [id_2#6, ts_2#7, f2#8]\n",
      "Condition : (isnotnull(id_2#6) AND isnotnull(ts_2#7))\n",
      "\n",
      "(7) Exchange\n",
      "Input [3]: [id_2#6, ts_2#7, f2#8]\n",
      "Arguments: hashpartitioning(id_2#6, 200), ENSURE_REQUIREMENTS, [id=#803]\n",
      "\n",
      "(8) Sort [codegen id : 4]\n",
      "Input [3]: [id_2#6, ts_2#7, f2#8]\n",
      "Arguments: [id_2#6 ASC NULLS FIRST], false, 0\n",
      "\n",
      "(9) SortMergeJoin [codegen id : 5]\n",
      "Left keys [1]: [id#0]\n",
      "Right keys [1]: [id_2#6]\n",
      "Join condition: (ts#1 >= ts_2#7)\n",
      "\n",
      "(10) Scan ExistingRDD [codegen id : 6]\n",
      "Output [3]: [id_3#12, ts_3#13, f3#14]\n",
      "Arguments: [id_3#12, ts_3#13, f3#14], MapPartitionsRDD[14] at applySchemaToPythonRDD at NativeMethodAccessorImpl.java:0, ExistingRDD, UnknownPartitioning(0)\n",
      "\n",
      "(11) Filter [codegen id : 6]\n",
      "Input [3]: [id_3#12, ts_3#13, f3#14]\n",
      "Condition : (isnotnull(id_3#12) AND isnotnull(ts_3#13))\n",
      "\n",
      "(12) Exchange\n",
      "Input [3]: [id_3#12, ts_3#13, f3#14]\n",
      "Arguments: hashpartitioning(id_3#12, 200), ENSURE_REQUIREMENTS, [id=#812]\n",
      "\n",
      "(13) Sort [codegen id : 7]\n",
      "Input [3]: [id_3#12, ts_3#13, f3#14]\n",
      "Arguments: [id_3#12 ASC NULLS FIRST], false, 0\n",
      "\n",
      "(14) SortMergeJoin [codegen id : 8]\n",
      "Left keys [1]: [id#0]\n",
      "Right keys [1]: [id_3#12]\n",
      "Join condition: (ts#1 >= ts_3#13)\n",
      "\n",
      "(15) Sort [codegen id : 8]\n",
      "Input [9]: [id#0, ts#1, label#2, id_2#6, ts_2#7, f2#8, id_3#12, ts_3#13, f3#14]\n",
      "Arguments: [id#0 ASC NULLS FIRST, ts#1 ASC NULLS FIRST, ts_2#7 DESC NULLS LAST, ts_3#13 DESC NULLS LAST], false, 0\n",
      "\n",
      "(16) Window\n",
      "Input [9]: [id#0, ts#1, label#2, id_2#6, ts_2#7, f2#8, id_3#12, ts_3#13, f3#14]\n",
      "Arguments: [rank(ts_2#7, ts_3#13) windowspecdefinition(id#0, ts#1, ts_2#7 DESC NULLS LAST, ts_3#13 DESC NULLS LAST, specifiedwindowframe(RowFrame, unboundedpreceding$(), currentrow$())) AS rank#598], [id#0, ts#1], [ts_2#7 DESC NULLS LAST, ts_3#13 DESC NULLS LAST]\n",
      "\n",
      "(17) Filter [codegen id : 9]\n",
      "Input [10]: [id#0, ts#1, label#2, id_2#6, ts_2#7, f2#8, id_3#12, ts_3#13, f3#14, rank#598]\n",
      "Condition : (isnotnull(rank#598) AND (rank#598 = 1))"
     ]
    }
   ],
   "source": [
    "\n",
    "# 1. Join the data\n",
    "joined_data = fg1.join(fg2, (fg1.id == fg2.id_2) & (fg1.ts >= fg2.ts_2)).join(\n",
    "    fg3, (fg1.id == fg3.id_3) & (fg1.ts >= fg3.ts_3)\n",
    ")\n",
    "\n",
    "# 2. Create window for partitioning and ordering the data\n",
    "win = Window.partitionBy([\"id\", \"ts\"]).orderBy(desc(\"ts_2\"), desc(\"ts_3\"))\n",
    "\n",
    "# 3. Rank the rows of each partition\n",
    "ranked_data = joined_data.withColumn(\"rank\", rank().over(win))\n",
    "\n",
    "# 4. Take only the columns with rank == 1, for each partition\n",
    "filtered_data = ranked_data.filter(col(\"rank\") == 1)\n",
    "\n",
    "filtered_data.explain(mode=\"formatted\")\n"
   ]
  },
  {
   "cell_type": "code",
   "execution_count": 19,
   "id": "68e14283",
   "metadata": {},
   "outputs": [
    {
     "name": "stdout",
     "output_type": "stream",
     "text": [
      "+---+---+-----+----+----+---+----+----+------+----+\n",
      "| id| ts|label|id_2|ts_2| f2|id_3|ts_3|    f3|rank|\n",
      "+---+---+-----+----+----+---+----+----+------+----+\n",
      "|  1|  4|   1z|   1|   4| 1z|   1|   1|f3-1-1|   1|\n",
      "|  1|  5|   1x|   1|   5| 1x|   1|   1|f3-1-1|   1|\n",
      "|  1|  7|   1y|   1|   7| 1y|   1|   6|f3-1-6|   1|\n",
      "|  2|  6|   2x|   2|   6| 2x|   2|   2|f3-2-2|   1|\n",
      "|  2|  8|   2y|   2|   8| 2y|   2|   8|f3-2-8|   1|\n",
      "+---+---+-----+----+----+---+----+----+------+----+"
     ]
    }
   ],
   "source": [
    "filtered_data.show()"
   ]
  },
  {
   "cell_type": "code",
   "execution_count": 20,
   "id": "62bbe705",
   "metadata": {},
   "outputs": [
    {
     "name": "stderr",
     "output_type": "stream",
     "text": [
      "An error was encountered:\n",
      "invalid syntax (<stdin>, line 4)\n",
      "  File \"<stdin>\", line 4\n",
      "    joined_data = fg1.join(, \"outer\")\n",
      "                           ^\n",
      "SyntaxError: invalid syntax\n",
      "\n"
     ]
    }
   ],
   "source": [
    "# 1. Join the data\n",
    "fg2_sorted = fg2.orderBy(asc(\"ts_2\"))\n",
    "fg2_sorted.show()\n",
    "joined_data = fg1.join(, \"outer\")\n",
    "\n",
    "#joined_data.show()"
   ]
  },
  {
   "cell_type": "code",
   "execution_count": 21,
   "id": "53ae03c3",
   "metadata": {},
   "outputs": [],
   "source": [
    "win = Window.partitionBy([\"id\", \"ts\"]).orderBy(desc(\"ts_2\"), desc(\"ts_3\"))"
   ]
  },
  {
   "cell_type": "code",
   "execution_count": 22,
   "id": "34f3628f",
   "metadata": {},
   "outputs": [
    {
     "name": "stdout",
     "output_type": "stream",
     "text": [
      "+---+---+-----+----+----+---+----+----+------+----+---+-----+\n",
      "| id| ts|label|id_2|ts_2| f2|id_3|ts_3|    f3|rank|row|dense|\n",
      "+---+---+-----+----+----+---+----+----+------+----+---+-----+\n",
      "|  1|  4|   1z|   1|   4| 1z|   1|   1|f3-1-1|   1|  1|    1|\n",
      "|  1|  5|   1x|   1|   5| 1x|   1|   1|f3-1-1|   1|  1|    1|\n",
      "|  1|  5|   1x|   1|   4| 1z|   1|   1|f3-1-1|   2|  2|    2|\n",
      "|  1|  7|   1y|   1|   7| 1y|   1|   6|f3-1-6|   1|  1|    1|\n",
      "|  1|  7|   1y|   1|   7| 1y|   1|   1|f3-1-1|   2|  2|    2|\n",
      "|  1|  7|   1y|   1|   5| 1x|   1|   6|f3-1-6|   3|  3|    3|\n",
      "|  1|  7|   1y|   1|   5| 1x|   1|   1|f3-1-1|   4|  4|    4|\n",
      "|  1|  7|   1y|   1|   4| 1z|   1|   6|f3-1-6|   5|  5|    5|\n",
      "|  1|  7|   1y|   1|   4| 1z|   1|   1|f3-1-1|   6|  6|    6|\n",
      "|  2|  6|   2x|   2|   6| 2x|   2|   2|f3-2-2|   1|  1|    1|\n",
      "|  2|  8|   2y|   2|   8| 2y|   2|   8|f3-2-8|   1|  1|    1|\n",
      "|  2|  8|   2y|   2|   8| 2y|   2|   2|f3-2-2|   2|  2|    2|\n",
      "|  2|  8|   2y|   2|   6| 2x|   2|   8|f3-2-8|   3|  3|    3|\n",
      "|  2|  8|   2y|   2|   6| 2x|   2|   2|f3-2-2|   4|  4|    4|\n",
      "+---+---+-----+----+----+---+----+----+------+----+---+-----+"
     ]
    }
   ],
   "source": [
    "fg1.join(fg2, (fg1.id == fg2.id_2) & (fg1.ts >= fg2.ts_2)) \\\n",
    "   .join(fg3, (fg1.id == fg3.id_3) & (fg1.ts >= fg3.ts_3)) \\\n",
    "   .withColumn(\"rank\", rank().over(win)) \\\n",
    "   .withColumn(\"row\", row_number().over(win)) \\\n",
    "   .withColumn(\"dense\", dense_rank().over(win)) \\\n",
    "   .show(50)"
   ]
  },
  {
   "cell_type": "code",
   "execution_count": 23,
   "id": "85ec49d0",
   "metadata": {},
   "outputs": [
    {
     "name": "stdout",
     "output_type": "stream",
     "text": [
      "+---+---+-----+----+----+---+----+----+------+----+---+-----+\n",
      "| id| ts|label|id_2|ts_2| f2|id_3|ts_3|    f3|rank|row|dense|\n",
      "+---+---+-----+----+----+---+----+----+------+----+---+-----+\n",
      "|  1|  4|   1z|   1|   4| 1z|   1|   1|f3-1-1|   1|  1|    1|\n",
      "|  1|  5|   1x|   1|   5| 1x|   1|   1|f3-1-1|   1|  1|    1|\n",
      "|  1|  7|   1y|   1|   7| 1y|   1|   6|f3-1-6|   1|  1|    1|\n",
      "|  2|  6|   2x|   2|   6| 2x|   2|   2|f3-2-2|   1|  1|    1|\n",
      "|  2|  8|   2y|   2|   8| 2y|   2|   8|f3-2-8|   1|  1|    1|\n",
      "+---+---+-----+----+----+---+----+----+------+----+---+-----+"
     ]
    }
   ],
   "source": [
    "fg1.join(fg2, (fg1.id == fg2.id_2) & (fg1.ts >= fg2.ts_2)) \\\n",
    "   .join(fg3, (fg1.id == fg3.id_3) & (fg1.ts >= fg3.ts_3)) \\\n",
    "   .withColumn(\"rank\", rank().over(win)) \\\n",
    "   .withColumn(\"row\", row_number().over(win)) \\\n",
    "   .withColumn(\"dense\", dense_rank().over(win)) \\\n",
    "   .filter(col(\"rank\") == 1) \\\n",
    "   .show(50)"
   ]
  },
  {
   "cell_type": "code",
   "execution_count": 24,
   "id": "ce3aa67c",
   "metadata": {},
   "outputs": [
    {
     "name": "stdout",
     "output_type": "stream",
     "text": [
      "== Physical Plan ==\n",
      "*(9) Filter (isnotnull(rank#962) AND (rank#962 = 1))\n",
      "+- Window [rank(ts_2#7, ts_3#13) windowspecdefinition(id#0, ts#1, ts_2#7 DESC NULLS LAST, ts_3#13 DESC NULLS LAST, specifiedwindowframe(RowFrame, unboundedpreceding$(), currentrow$())) AS rank#962], [id#0, ts#1], [ts_2#7 DESC NULLS LAST, ts_3#13 DESC NULLS LAST]\n",
      "   +- *(8) Sort [id#0 ASC NULLS FIRST, ts#1 ASC NULLS FIRST, ts_2#7 DESC NULLS LAST, ts_3#13 DESC NULLS LAST], false, 0\n",
      "      +- *(8) SortMergeJoin [id#0], [id_3#12], Inner, (ts#1 >= ts_3#13)\n",
      "         :- *(5) SortMergeJoin [id#0], [id_2#6], Inner, (ts#1 >= ts_2#7)\n",
      "         :  :- *(2) Sort [id#0 ASC NULLS FIRST], false, 0\n",
      "         :  :  +- Exchange hashpartitioning(id#0, 200), ENSURE_REQUIREMENTS, [id=#1152]\n",
      "         :  :     +- *(1) Filter (isnotnull(id#0) AND isnotnull(ts#1))\n",
      "         :  :        +- *(1) Scan ExistingRDD[id#0,ts#1,label#2]\n",
      "         :  +- *(4) Sort [id_2#6 ASC NULLS FIRST], false, 0\n",
      "         :     +- Exchange hashpartitioning(id_2#6, 200), ENSURE_REQUIREMENTS, [id=#1158]\n",
      "         :        +- *(3) Filter (isnotnull(id_2#6) AND isnotnull(ts_2#7))\n",
      "         :           +- *(3) Scan ExistingRDD[id_2#6,ts_2#7,f2#8]\n",
      "         +- *(7) Sort [id_3#12 ASC NULLS FIRST], false, 0\n",
      "            +- Exchange hashpartitioning(id_3#12, 200), ENSURE_REQUIREMENTS, [id=#1167]\n",
      "               +- *(6) Filter (isnotnull(id_3#12) AND isnotnull(ts_3#13))\n",
      "                  +- *(6) Scan ExistingRDD[id_3#12,ts_3#13,f3#14]"
     ]
    }
   ],
   "source": [
    "fg1.join(fg2, (fg1.id == fg2.id_2) & (fg1.ts >= fg2.ts_2)) \\\n",
    "   .join(fg3, (fg1.id == fg3.id_3) & (fg1.ts >= fg3.ts_3)) \\\n",
    "   .withColumn(\"rank\", rank().over(win)) \\\n",
    "   .filter(col(\"rank\") == 1) \\\n",
    "   .explain()"
   ]
  },
  {
   "cell_type": "code",
   "execution_count": 25,
   "id": "3ca3ba47",
   "metadata": {},
   "outputs": [
    {
     "name": "stdout",
     "output_type": "stream",
     "text": [
      "== Physical Plan ==\n",
      "*(1) Scan ExistingRDD[id#0,ts#1,label#2]"
     ]
    }
   ],
   "source": [
    "fg1.explain()"
   ]
  },
  {
   "cell_type": "code",
   "execution_count": 26,
   "id": "2dbf2dd6",
   "metadata": {},
   "outputs": [],
   "source": [
    "fg1.registerTempTable(\"fg1\")\n",
    "fg2.registerTempTable(\"fg2\")\n",
    "fg3.registerTempTable(\"fg3\")"
   ]
  },
  {
   "cell_type": "code",
   "execution_count": 27,
   "id": "627a1a69",
   "metadata": {},
   "outputs": [
    {
     "name": "stderr",
     "output_type": "stream",
     "text": [
      "An error was encountered:\n",
      "\n",
      "mismatched input 'OUTER' expecting {<EOF>, ';'}(line 1, pos 46)\n",
      "\n",
      "== SQL ==\n",
      "SELECT id, ts, label, ts_2, f2, ts_3, f3 LEFT OUTER JOIN ( SELECT TOP 1 * FROM fg2 b WHERE b.id = a.id AND b.ts_2 <= a.ts ORDER BY b.ts_2 DESC )\n",
      "----------------------------------------------^^^\n",
      "\n",
      "Traceback (most recent call last):\n",
      "  File \"/srv/hops/spark/python/lib/pyspark.zip/pyspark/sql/session.py\", line 723, in sql\n",
      "    return DataFrame(self._jsparkSession.sql(sqlQuery), self._wrapped)\n",
      "  File \"/srv/hops/spark/python/lib/py4j-0.10.9-src.zip/py4j/java_gateway.py\", line 1304, in __call__\n",
      "    return_value = get_return_value(\n",
      "  File \"/srv/hops/spark/python/lib/pyspark.zip/pyspark/sql/utils.py\", line 117, in deco\n",
      "    raise converted from None\n",
      "pyspark.sql.utils.ParseException: \n",
      "mismatched input 'OUTER' expecting {<EOF>, ';'}(line 1, pos 46)\n",
      "\n",
      "== SQL ==\n",
      "SELECT id, ts, label, ts_2, f2, ts_3, f3 LEFT OUTER JOIN ( SELECT TOP 1 * FROM fg2 b WHERE b.id = a.id AND b.ts_2 <= a.ts ORDER BY b.ts_2 DESC )\n",
      "----------------------------------------------^^^\n",
      "\n",
      "\n"
     ]
    }
   ],
   "source": [
    "result = spark.sql(\n",
    "    \"SELECT id, ts, label, ts_2, f2, ts_3, f3 \"\n",
    "    \"LEFT OUTER JOIN ( \"\n",
    "        \"SELECT TOP 1 * \"\n",
    "        \"FROM fg2 b \"\n",
    "        \"WHERE b.id = a.id AND b.ts_2 <= a.ts \"\n",
    "        \"ORDER BY b.ts_2 DESC \"\n",
    "    \")\"\n",
    ")"
   ]
  },
  {
   "cell_type": "code",
   "execution_count": 28,
   "id": "5dbc03a5",
   "metadata": {},
   "outputs": [],
   "source": [
    "result = spark.sql(\"with x as (\"\n",
    "                       \"SELECT id, ts, label, ts_2, f2, ts_3, f3, RANK() OVER (PARTITION BY id, ts ORDER BY (ts_2, ts_3) DESC) AS rank \"\n",
    "                       \"FROM fg1 a \"\n",
    "                       \"join fg2 b \"\n",
    "                       \"on a.id = b.id_2 \"\n",
    "                       \"and a.ts >= b.ts_2 \"\n",
    "                       \"join fg3 c \"\n",
    "                       \"on a.id = c.id_3 \"\n",
    "                       \"and a.ts >= c.ts_3) \"\n",
    "                   \"select * from x where rank = 1\");"
   ]
  },
  {
   "cell_type": "code",
   "execution_count": 29,
   "id": "6d20898c",
   "metadata": {},
   "outputs": [
    {
     "name": "stdout",
     "output_type": "stream",
     "text": [
      "+---+---+-----+----+---+----+------+----+\n",
      "| id| ts|label|ts_2| f2|ts_3|    f3|rank|\n",
      "+---+---+-----+----+---+----+------+----+\n",
      "|  1|  4|   1z|   4| 1z|   1|f3-1-1|   1|\n",
      "|  1|  5|   1x|   5| 1x|   1|f3-1-1|   1|\n",
      "|  1|  7|   1y|   7| 1y|   6|f3-1-6|   1|\n",
      "|  2|  6|   2x|   6| 2x|   2|f3-2-2|   1|\n",
      "|  2|  8|   2y|   8| 2y|   8|f3-2-8|   1|\n",
      "+---+---+-----+----+---+----+------+----+"
     ]
    }
   ],
   "source": [
    "result.show(50)"
   ]
  },
  {
   "cell_type": "code",
   "execution_count": null,
   "id": "5fc54ec2",
   "metadata": {},
   "outputs": [],
   "source": [
    "result.explain(True)"
   ]
  },
  {
   "cell_type": "code",
   "execution_count": null,
   "id": "c8687dbd",
   "metadata": {},
   "outputs": [],
   "source": [
    "result2 = spark.sql(\"with \"\n",
    "                   \"x1 (\"\n",
    "                       \"select * from (\"\n",
    "                           \"SELECT id, ts, label, ts_2, f2, RANK() OVER (PARTITION BY id, ts ORDER BY ts_2 DESC) AS rank \"\n",
    "                           \"FROM fg1 a \"\n",
    "                           \"join fg2 b \"\n",
    "                           \"on a.id = b.id_2 \"\n",
    "                           \"and a.ts >= b.ts_2) \"\n",
    "                       \"where rank = 1), \"\n",
    "                   \"x2 (\"\n",
    "                       \"select * from (\"\n",
    "                           \"SELECT id, ts, label, ts_3, f3, RANK() OVER (PARTITION BY id, ts ORDER BY ts_3 DESC) AS rank \"\n",
    "                           \"FROM fg1 a \"\n",
    "                           \"join fg3 b \"\n",
    "                           \"on a.id = b.id_3 \"\n",
    "                           \"and a.ts >= b.ts_3) \"\n",
    "                       \"where rank = 1) \"\n",
    "                   \"select * from x1 \"\n",
    "                   \"join x2 \"\n",
    "                   \"on x1.id = x2.id \"\n",
    "                   \"and x1.ts = x2.ts\");"
   ]
  },
  {
   "cell_type": "code",
   "execution_count": null,
   "id": "8b864a70",
   "metadata": {},
   "outputs": [],
   "source": [
    "result2.show(50)"
   ]
  },
  {
   "cell_type": "code",
   "execution_count": null,
   "id": "e3b45912",
   "metadata": {},
   "outputs": [],
   "source": [
    "result2.explain(True)"
   ]
  },
  {
   "cell_type": "markdown",
   "id": "bedf7c36",
   "metadata": {},
   "source": [
    "## Real Data"
   ]
  },
  {
   "cell_type": "code",
   "execution_count": null,
   "id": "a0d59cf1",
   "metadata": {},
   "outputs": [],
   "source": [
    "from pyspark.sql.functions import unix_timestamp, from_unixtime, col\n",
    "from hops import hdfs as hdfs"
   ]
  },
  {
   "cell_type": "code",
   "execution_count": null,
   "id": "6d5ee724",
   "metadata": {},
   "outputs": [],
   "source": [
    "fg01_schema = StructType([\n",
    "  StructField(\"id\", IntegerType(), True),\n",
    "  StructField(\"ts\", IntegerType(), True),\n",
    "  StructField(\"label\", StringType(), True)    \n",
    "])\n",
    "\n",
    "fg01=spark.read.csv(\"hdfs:///Projects/\" + hdfs.project_name() + \"/Jupyter/PIT-joins/example-data/5-10-2-out.csv\", header=True, schema=fg01_schema)\n",
    "#fg01=fg01.sort(col(\"id\"),col(\"ts\")).withColumn(\"ts\", from_unixtime(\"ts\").cast(\"timestamp\"))\n",
    "fg01=fg01.sort(col(\"id\"),col(\"ts\"))\n",
    "fg01.show()"
   ]
  },
  {
   "cell_type": "code",
   "execution_count": null,
   "id": "643e3461",
   "metadata": {},
   "outputs": [],
   "source": [
    "fg02_schema = StructType([\n",
    "  StructField(\"id\", IntegerType(), True),\n",
    "  StructField(\"ts\", IntegerType(), True),\n",
    "  StructField(\"f2\", StringType(), True)    \n",
    "])\n",
    "\n",
    "fg02=spark.read.csv(\"hdfs:///Projects/\" + hdfs.project_name() + \"/Jupyter/PIT-joins/example-data/5-10-3-out.csv\", header=True, schema=fg02_schema)\n",
    "#fg02=fg02.select([col(\"id\").alias(\"id_2\"), col(\"ts\").alias(\"ts_2\"), col(\"f2\")]).withColumn(\"ts_2\", from_unixtime(\"ts_2\").cast(\"timestamp\"))\n",
    "fg02=fg02.select([col(\"id\").alias(\"id_2\"), col(\"ts\").alias(\"ts_2\"), col(\"f2\")])\n",
    "fg02.show()"
   ]
  },
  {
   "cell_type": "code",
   "execution_count": null,
   "id": "5d911208",
   "metadata": {},
   "outputs": [],
   "source": [
    "fg03_schema = StructType([\n",
    "  StructField(\"id\", IntegerType(), True),\n",
    "  StructField(\"ts\", IntegerType(), True),\n",
    "  StructField(\"f3\", StringType(), True)    \n",
    "])\n",
    "\n",
    "fg03=spark.read.csv(\"hdfs:///Projects/\" + hdfs.project_name() + \"/Jupyter/PIT-joins/example-data/5-10-3-out.csv\", header=True, schema=fg03_schema)\n",
    "#fg03=fg03.select([col(\"id\").alias(\"id_3\"), col(\"ts\").alias(\"ts_3\"), col(\"f3\")]).withColumn(\"ts_3\", from_unixtime(\"ts_3\").cast(\"timestamp\"))\n",
    "fg03=fg03.select([col(\"id\").alias(\"id_3\"), col(\"ts\").alias(\"ts_3\"), col(\"f3\")])\n",
    "fg03.show()"
   ]
  },
  {
   "cell_type": "code",
   "execution_count": null,
   "id": "abccb8d4",
   "metadata": {},
   "outputs": [],
   "source": [
    "fg01.registerTempTable(\"fg01\")\n",
    "fg02.registerTempTable(\"fg02\")\n",
    "fg03.registerTempTable(\"fg03\")"
   ]
  },
  {
   "cell_type": "code",
   "execution_count": null,
   "id": "a440d700",
   "metadata": {},
   "outputs": [],
   "source": [
    "result = spark.sql(\"with x as (\"\n",
    "                       \"SELECT id, ts, label, ts_2, f2, ts_3, f3, RANK() OVER (PARTITION BY id, ts ORDER BY (ts_2, ts_3) DESC) AS rank \"\n",
    "                       \"FROM fg01 a \"\n",
    "                       \"join fg02 b \"\n",
    "                       \"on a.id = b.id_2 \"\n",
    "                       \"and a.ts >= b.ts_2 \"\n",
    "                       \"join fg03 c \"\n",
    "                       \"on a.id = c.id_3 \"\n",
    "                       \"and a.ts >= c.ts_3) \"\n",
    "                   \"select * from x where rank = 1\");"
   ]
  },
  {
   "cell_type": "code",
   "execution_count": null,
   "id": "f4277feb",
   "metadata": {},
   "outputs": [],
   "source": [
    "result.sort(col(\"id\"),col(\"ts\")).show(50)"
   ]
  },
  {
   "cell_type": "code",
   "execution_count": null,
   "id": "661ebb46",
   "metadata": {},
   "outputs": [],
   "source": [
    "spark.sql(\n",
    "                       \"SELECT id, ts, label, ts_2, f2, ts_3, f3, RANK() OVER (PARTITION BY id, ts ORDER BY (ts_2, ts_3) DESC) AS rank \"\n",
    "                       \"FROM fg01 a \"\n",
    "                       \"join fg02 b \"\n",
    "                       \"on a.id = b.id_2 \"\n",
    "                       \"and a.ts >= b.ts_2 \"\n",
    "                       \"join fg03 c \"\n",
    "                       \"on a.id = c.id_3 \"\n",
    "                       \"and a.ts >= c.ts_3) \"\n",
    ").show(50)"
   ]
  },
  {
   "cell_type": "code",
   "execution_count": null,
   "id": "37ac38ff",
   "metadata": {},
   "outputs": [],
   "source": [
    "result.explain(True)"
   ]
  },
  {
   "cell_type": "code",
   "execution_count": null,
   "id": "3cb7cf54",
   "metadata": {},
   "outputs": [],
   "source": [
    "result2 = spark.sql(\"with \"\n",
    "                   \"x1 as (\"\n",
    "                       \"select * from (\"\n",
    "                           \"SELECT id, ts, label, ts_2, f2, RANK() OVER (PARTITION BY id, ts ORDER BY ts_2 DESC) AS rank \"\n",
    "                           \"FROM fg01 a \"\n",
    "                           \"join fg02 b \"\n",
    "                           \"on a.id = b.id_2 \"\n",
    "                           \"and a.ts >= b.ts_2) \"\n",
    "                       \"where rank = 1), \"\n",
    "                   \"x2 as (\"\n",
    "                       \"select * from (\"\n",
    "                           \"SELECT id, ts, label, ts_3, f3, RANK() OVER (PARTITION BY id, ts ORDER BY ts_3 DESC) AS rank \"\n",
    "                           \"FROM fg01 a \"\n",
    "                           \"join fg03 b \"\n",
    "                           \"on a.id = b.id_3 \"\n",
    "                           \"and a.ts >= b.ts_3) \"\n",
    "                       \"where rank = 1) \"\n",
    "                   \"select x1.id, x1.ts, x1.label, x1.f2, x2.f3 from x1 \"\n",
    "                   \"join x2 \"\n",
    "                   \"on x1.id = x2.id \"\n",
    "                   \"and x1.ts = x2.ts\");"
   ]
  },
  {
   "cell_type": "code",
   "execution_count": null,
   "id": "11bcf179",
   "metadata": {},
   "outputs": [],
   "source": [
    "result2.sort(col(\"id\"),col(\"ts\")).show(50)"
   ]
  },
  {
   "cell_type": "code",
   "execution_count": null,
   "id": "909e9a69",
   "metadata": {},
   "outputs": [],
   "source": [
    "result2.explain(True)"
   ]
  },
  {
   "cell_type": "markdown",
   "id": "1048e09a",
   "metadata": {},
   "source": [
    "## 1 mio rows"
   ]
  },
  {
   "cell_type": "code",
   "execution_count": 1,
   "id": "5cd86b1f",
   "metadata": {},
   "outputs": [
    {
     "name": "stdout",
     "output_type": "stream",
     "text": [
      "Starting Spark application\n"
     ]
    },
    {
     "data": {
      "text/html": [
       "<table>\n",
       "<tr><th>ID</th><th>Application ID</th><th>Kind</th><th>State</th><th>Spark UI</th><th>Driver log</th></tr><tr><td>7</td><td>application_1642582607798_0006</td><td>pyspark</td><td>idle</td><td><a target=\"_blank\" href=\"/hopsworks-api/yarnui/https://hopsworks0.logicalclocks.com:8089/proxy/application_1642582607798_0006/\">Link</a></td><td><a target=\"_blank\" href=\"/hopsworks-api/yarnui/https://hopsworks0.logicalclocks.com:8044/node/containerlogs/container_e03_1642582607798_0006_01_000001/demo_fs_meb10000__meb10000\">Link</a></td></tr></table>"
      ],
      "text/plain": [
       "<IPython.core.display.HTML object>"
      ]
     },
     "metadata": {},
     "output_type": "display_data"
    },
    {
     "name": "stdout",
     "output_type": "stream",
     "text": [
      "SparkSession available as 'spark'.\n"
     ]
    },
    {
     "name": "stderr",
     "output_type": "stream",
     "text": [
      "An error was encountered:\n",
      "name 'StructType' is not defined\n",
      "Traceback (most recent call last):\n",
      "NameError: name 'StructType' is not defined\n",
      "\n"
     ]
    }
   ],
   "source": [
    "fg01_schema = StructType([\n",
    "  StructField(\"id\", IntegerType(), True),\n",
    "  StructField(\"ts\", IntegerType(), True),\n",
    "  StructField(\"label\", StringType(), True)    \n",
    "])\n",
    "\n",
    "fg01=spark.read.csv(\"hdfs:///Projects/\" + hdfs.project_name() + \"/Jupyter/PIT-joins/example-data/100000-20-1-out.csv\", header=True, schema=fg01_schema)\n",
    "fg01=fg01.sort(col(\"id\"),col(\"ts\")).withColumn(\"ts\", from_unixtime(\"ts\").cast(\"timestamp\"))\n",
    "fg01.show()"
   ]
  },
  {
   "cell_type": "code",
   "execution_count": null,
   "id": "a0312c0e",
   "metadata": {},
   "outputs": [],
   "source": [
    "fg02_schema = StructType([\n",
    "  StructField(\"id\", IntegerType(), True),\n",
    "  StructField(\"ts\", IntegerType(), True),\n",
    "  StructField(\"f2\", StringType(), True)    \n",
    "])\n",
    "\n",
    "fg02=spark.read.csv(\"hdfs:///Projects/\" + hdfs.project_name() + \"/Jupyter/PIT-joins/example-data/100000-20-2-out.csv\", header=True, schema=fg02_schema)\n",
    "fg02=fg02.select([col(\"id\").alias(\"id_2\"), col(\"ts\").alias(\"ts_2\"), col(\"f2\")]).withColumn(\"ts_2\", from_unixtime(\"ts_2\").cast(\"timestamp\"))\n",
    "fg02.show()"
   ]
  },
  {
   "cell_type": "code",
   "execution_count": null,
   "id": "4ebf78ae",
   "metadata": {},
   "outputs": [],
   "source": [
    "fg03_schema = StructType([\n",
    "  StructField(\"id\", IntegerType(), True),\n",
    "  StructField(\"ts\", IntegerType(), True),\n",
    "  StructField(\"f3\", StringType(), True)    \n",
    "])\n",
    "\n",
    "fg03=spark.read.csv(\"hdfs:///Projects/\" + hdfs.project_name() + \"/Jupyter/PIT-joins/example-data/100000-20-2-out.csv\", header=True, schema=fg03_schema)\n",
    "fg03=fg03.select([col(\"id\").alias(\"id_3\"), col(\"ts\").alias(\"ts_3\"), col(\"f3\")]).withColumn(\"ts_3\", from_unixtime(\"ts_3\").cast(\"timestamp\"))\n",
    "fg03.show()"
   ]
  },
  {
   "cell_type": "code",
   "execution_count": null,
   "id": "d3881374",
   "metadata": {},
   "outputs": [],
   "source": [
    "fg01.registerTempTable(\"fg01\")\n",
    "fg02.registerTempTable(\"fg02\")\n",
    "fg03.registerTempTable(\"fg03\")"
   ]
  },
  {
   "cell_type": "code",
   "execution_count": null,
   "id": "930e50de",
   "metadata": {},
   "outputs": [],
   "source": [
    "result = spark.sql(\"with x as (\"\n",
    "                       \"SELECT id, ts, label, ts_2, f2, ts_3, f3, ROW_NUMBER() OVER (PARTITION BY id, ts ORDER BY (ts_2, ts_3) DESC) AS rank \"\n",
    "                       \"FROM fg01 a \"\n",
    "                       \"join fg02 b \"\n",
    "                       \"on a.id = b.id_2 \"\n",
    "                       \"and a.ts >= b.ts_2 \"\n",
    "                       \"join fg03 c \"\n",
    "                       \"on a.id = c.id_3 \"\n",
    "                       \"and a.ts >= c.ts_3) \"\n",
    "                   \"select * from x where rank = 1\");"
   ]
  },
  {
   "cell_type": "code",
   "execution_count": null,
   "id": "351b6118",
   "metadata": {},
   "outputs": [],
   "source": [
    "result.show(10)"
   ]
  },
  {
   "cell_type": "code",
   "execution_count": null,
   "id": "68fe5dbf",
   "metadata": {},
   "outputs": [],
   "source": [
    "result.explain(True)"
   ]
  },
  {
   "cell_type": "code",
   "execution_count": null,
   "id": "49f83aa4",
   "metadata": {},
   "outputs": [],
   "source": [
    "result2 = spark.sql(\"with \"\n",
    "                   \"x1 as (\"\n",
    "                       \"select * from (\"\n",
    "                           \"SELECT id, ts, label, ts_2, f2, RANK() OVER (PARTITION BY id, ts ORDER BY ts_2 DESC) AS rank \"\n",
    "                           \"FROM fg01 a \"\n",
    "                           \"join fg02 b \"\n",
    "                           \"on a.id = b.id_2 \"\n",
    "                           \"and a.ts >= b.ts_2) \"\n",
    "                       \"where rank = 1), \"\n",
    "                   \"x2 as (\"\n",
    "                       \"select * from (\"\n",
    "                           \"SELECT id, ts, label, ts_3, f3, RANK() OVER (PARTITION BY id, ts ORDER BY ts_3 DESC) AS rank \"\n",
    "                           \"FROM fg01 a \"\n",
    "                           \"join fg03 b \"\n",
    "                           \"on a.id = b.id_3 \"\n",
    "                           \"and a.ts >= b.ts_3) \"\n",
    "                       \"where rank = 1) \"\n",
    "                   \"select c.id, c.ts, c.label, c.ts_2, c.f2, d.ts_3, d.f3, d.rank from x1 c \"\n",
    "                   \"join x2 d \"\n",
    "                   \"on c.id = d.id \"\n",
    "                   \"and c.ts = d.ts\");"
   ]
  },
  {
   "cell_type": "code",
   "execution_count": null,
   "id": "08507a77",
   "metadata": {},
   "outputs": [],
   "source": [
    "result2.explain(True)"
   ]
  },
  {
   "cell_type": "code",
   "execution_count": null,
   "id": "53ace480",
   "metadata": {},
   "outputs": [],
   "source": [
    "result.write.format(\"parquet\").save(\"hdfs:///Projects/demo_fs_meb10000/Resources/option1\", mode=\"overwrite\")"
   ]
  },
  {
   "cell_type": "code",
   "execution_count": null,
   "id": "c8fa9ffd",
   "metadata": {},
   "outputs": [],
   "source": [
    "result2.write.format(\"parquet\").save(\"hdfs:///Projects/demo_fs_meb10000/Resources/option2\", mode=\"overwrite\")"
   ]
  },
  {
   "cell_type": "markdown",
   "id": "c7d56450",
   "metadata": {},
   "source": [
    "# Real Feature Group PIT Join"
   ]
  },
  {
   "cell_type": "code",
   "execution_count": null,
   "id": "aafdcf5e",
   "metadata": {},
   "outputs": [],
   "source": [
    "from hops import hdfs\n",
    "import hsfs\n",
    "conn = hsfs.connection()\n",
    "fs = conn.get_feature_store()"
   ]
  },
  {
   "cell_type": "code",
   "execution_count": null,
   "id": "8fb60a97",
   "metadata": {},
   "outputs": [],
   "source": [
    "fg01_schema = StructType([\n",
    "  StructField(\"id\", IntegerType(), True),\n",
    "  StructField(\"ts\", IntegerType(), True),\n",
    "  StructField(\"label\", StringType(), True)    \n",
    "])\n",
    "\n",
    "fg01=spark.read.csv(\"hdfs:///Projects/\" + hdfs.project_name() + \"/Jupyter/PIT-joins/example-data/5-10-2-out.csv\", header=True, schema=fg01_schema)\n",
    "#fg01=fg01.sort(col(\"id\"),col(\"ts\")).withColumn(\"ts\", from_unixtime(\"ts\").cast(\"timestamp\"))\n",
    "fg01=fg01.sort(col(\"id\"),col(\"ts\")).withColumn(\"ts\", col(\"ts\").cast(LongType())).withColumn(\"id2\", col(\"id\") + 10000)"
   ]
  },
  {
   "cell_type": "code",
   "execution_count": null,
   "id": "0c1d1053",
   "metadata": {},
   "outputs": [],
   "source": [
    "fg02_schema = StructType([\n",
    "  StructField(\"id\", IntegerType(), True),\n",
    "  StructField(\"ts\", IntegerType(), True),\n",
    "  StructField(\"f2\", StringType(), True)    \n",
    "])\n",
    "\n",
    "fg02=spark.read.csv(\"hdfs:///Projects/\" + hdfs.project_name() + \"/Jupyter/PIT-joins/example-data/5-10-3-out.csv\", header=True, schema=fg02_schema)\n",
    "#fg02=fg02.select([col(\"id\").alias(\"id_2\"), col(\"ts\").alias(\"ts_2\"), col(\"f2\")]).withColumn(\"ts_2\", from_unixtime(\"ts_2\").cast(\"timestamp\"))\n",
    "fg02=fg02.select([col(\"id\"), col(\"ts\"), col(\"f2\")]).withColumn(\"ts2\", col(\"ts\").cast(LongType())).select([col(\"id\"), col(\"ts2\"), col(\"f2\")])"
   ]
  },
  {
   "cell_type": "code",
   "execution_count": null,
   "id": "73b8f146",
   "metadata": {},
   "outputs": [],
   "source": [
    "fg02.printSchema()"
   ]
  },
  {
   "cell_type": "code",
   "execution_count": null,
   "id": "21d142bc",
   "metadata": {},
   "outputs": [],
   "source": [
    "fg03_schema = StructType([\n",
    "  StructField(\"id\", IntegerType(), True),\n",
    "  StructField(\"ts\", IntegerType(), True),\n",
    "  StructField(\"f3\", StringType(), True)    \n",
    "])\n",
    "\n",
    "fg03=spark.read.csv(\"hdfs:///Projects/\" + hdfs.project_name() + \"/Jupyter/PIT-joins/example-data/5-10-3-out.csv\", header=True, schema=fg03_schema)\n",
    "#fg03=fg03.select([col(\"id\").alias(\"id_3\"), col(\"ts\").alias(\"ts_3\"), col(\"f3\")]).withColumn(\"ts_3\", from_unixtime(\"ts_3\").cast(\"timestamp\"))\n",
    "fg03=fg03.select([col(\"id\"), col(\"ts\"), col(\"f3\")]).withColumn(\"id2\", col(\"id\") + 10000).withColumn(\"ts\", col(\"ts\").cast(LongType()))"
   ]
  },
  {
   "cell_type": "code",
   "execution_count": null,
   "id": "a217fdfc",
   "metadata": {},
   "outputs": [],
   "source": [
    "fg1 = fs.create_feature_group(\"fg1\", statistics_config=False, online_enabled=True, primary_key=[\"id\"], event_time=\"ts\")\n",
    "\n",
    "fg1.save(fg01)"
   ]
  },
  {
   "cell_type": "code",
   "execution_count": null,
   "id": "eaf14a20",
   "metadata": {},
   "outputs": [],
   "source": [
    "fg = fs.get_feature_group(\"players_features\")"
   ]
  },
  {
   "cell_type": "code",
   "execution_count": null,
   "id": "cb190d8c",
   "metadata": {},
   "outputs": [],
   "source": [
    "query = fg1.select_all().join(fg.select_all(), left_on=[\"id\"], right_on=[\"team_id\"])"
   ]
  },
  {
   "cell_type": "code",
   "execution_count": null,
   "id": "f4261a4b",
   "metadata": {},
   "outputs": [],
   "source": [
    "print(query.to_string())"
   ]
  },
  {
   "cell_type": "code",
   "execution_count": null,
   "id": "1582f33d",
   "metadata": {},
   "outputs": [],
   "source": [
    "fg2 = fs.create_feature_group(\"fg2\", statistics_config=False, online_enabled=True, primary_key=[\"id\"], event_time=\"ts2\")\n",
    "\n",
    "fg2.save(fg02)"
   ]
  },
  {
   "cell_type": "code",
   "execution_count": null,
   "id": "19a549de",
   "metadata": {},
   "outputs": [],
   "source": [
    "fg3 = fs.create_feature_group(\"fg3\", statistics_config=False, online_enabled=True, primary_key=[\"id\", \"id2\"], event_time=\"ts\")\n",
    "\n",
    "fg3.save(fg03)"
   ]
  },
  {
   "cell_type": "code",
   "execution_count": null,
   "id": "5e0325b4",
   "metadata": {},
   "outputs": [],
   "source": [
    "fg1 = fs.get_feature_group(\"fg1\")\n",
    "fg2 = fs.get_feature_group(\"fg2\")\n",
    "fg3 = fs.get_feature_group(\"fg3\")"
   ]
  },
  {
   "cell_type": "code",
   "execution_count": null,
   "id": "37aa9e37",
   "metadata": {},
   "outputs": [],
   "source": [
    "query = fg1.select_all().join(fg2.select_all(), on=\"id\").join(fg3.select_all(), left_on=[\"id\", \"id2\"], right_on=[\"id\", \"id2\"])"
   ]
  },
  {
   "cell_type": "code",
   "execution_count": null,
   "id": "34ad6585",
   "metadata": {},
   "outputs": [],
   "source": [
    "print(query.to_string())"
   ]
  },
  {
   "cell_type": "code",
   "execution_count": null,
   "id": "b110b394",
   "metadata": {},
   "outputs": [],
   "source": [
    "print(query.to_string(online=True))"
   ]
  },
  {
   "cell_type": "code",
   "execution_count": null,
   "id": "e8bcf04f",
   "metadata": {},
   "outputs": [],
   "source": [
    "query.read(online=True).sort(col(\"id\"),col(\"ts\")).show(50)"
   ]
  },
  {
   "cell_type": "code",
   "execution_count": null,
   "id": "27ac27b3",
   "metadata": {},
   "outputs": [],
   "source": [
    "query.read().sort(col(\"id\"),col(\"ts\")).show(50)"
   ]
  },
  {
   "cell_type": "code",
   "execution_count": null,
   "id": "7b9b677a",
   "metadata": {},
   "outputs": [],
   "source": [
    "query = fg1.select_all().join(fg2.select_all(), on=\"id\")"
   ]
  },
  {
   "cell_type": "code",
   "execution_count": null,
   "id": "2b35eb04",
   "metadata": {},
   "outputs": [],
   "source": [
    "print(query.to_string())"
   ]
  },
  {
   "cell_type": "code",
   "execution_count": null,
   "id": "8c578c9b",
   "metadata": {},
   "outputs": [],
   "source": [
    "print(query.to_string(online=True))"
   ]
  },
  {
   "cell_type": "code",
   "execution_count": null,
   "id": "ebe33df3",
   "metadata": {},
   "outputs": [],
   "source": [
    "query.read(online=True).sort(col(\"id\"),col(\"ts\")).show(50)"
   ]
  },
  {
   "cell_type": "code",
   "execution_count": null,
   "id": "6860663b",
   "metadata": {},
   "outputs": [],
   "source": [
    "query.read().sort(col(\"id\"),col(\"ts\")).show(50)"
   ]
  },
  {
   "cell_type": "code",
   "execution_count": null,
   "id": "f31fc889",
   "metadata": {},
   "outputs": [],
   "source": [
    "fg1_nonhudi = fs.create_feature_group(\"fg1_nonhudi\", statistics_config=False, online_enabled=True, primary_key=[\"id\"], event_time=\"ts\", time_travel_format=None)\n",
    "\n",
    "fg1_nonhudi.save(fg01)"
   ]
  },
  {
   "cell_type": "code",
   "execution_count": null,
   "id": "ccf01f2c",
   "metadata": {},
   "outputs": [],
   "source": [
    "fg2_nonhudi = fs.create_feature_group(\"fg2_nonhudi\", statistics_config=False, online_enabled=True, primary_key=[\"id\"], event_time=\"ts2\", time_travel_format=None)\n",
    "\n",
    "fg2_nonhudi.save(fg02)"
   ]
  },
  {
   "cell_type": "code",
   "execution_count": null,
   "id": "5e0c3fdc",
   "metadata": {},
   "outputs": [],
   "source": [
    "fg3_nonhudi = fs.create_feature_group(\"fg3_nonhudi\", statistics_config=False, online_enabled=True, primary_key=[\"id\", \"id2\"], event_time=\"ts\", time_travel_format=None)\n",
    "\n",
    "fg3_nonhudi.save(fg03)"
   ]
  },
  {
   "cell_type": "code",
   "execution_count": null,
   "id": "1e666835",
   "metadata": {},
   "outputs": [],
   "source": [
    "fg1_nonhudi = fs.get_feature_group(\"fg1_nonhudi\")\n",
    "fg2_nonhudi = fs.get_feature_group(\"fg2_nonhudi\")\n",
    "fg3_nonhudi = fs.get_feature_group(\"fg3_nonhudi\")"
   ]
  },
  {
   "cell_type": "code",
   "execution_count": null,
   "id": "f24eacfe",
   "metadata": {},
   "outputs": [],
   "source": [
    "query = fg1_nonhudi.select_all().join(fg2_nonhudi.select_all(), on=\"id\").join(fg3_nonhudi.select_all(), left_on=[\"id\", \"id2\"], right_on=[\"id\", \"id2\"])"
   ]
  },
  {
   "cell_type": "code",
   "execution_count": null,
   "id": "c3a91270",
   "metadata": {},
   "outputs": [],
   "source": [
    "print(query.to_string())"
   ]
  },
  {
   "cell_type": "code",
   "execution_count": null,
   "id": "d07f1502",
   "metadata": {},
   "outputs": [],
   "source": [
    "print(query.to_string(online=True))"
   ]
  },
  {
   "cell_type": "code",
   "execution_count": null,
   "id": "20822bef",
   "metadata": {},
   "outputs": [],
   "source": [
    "query.read().sort(col(\"id\"),col(\"ts\")).show(50)"
   ]
  },
  {
   "cell_type": "code",
   "execution_count": null,
   "id": "1a53dc59",
   "metadata": {},
   "outputs": [],
   "source": [
    "query.read(online=True).sort(col(\"id\"),col(\"ts\")).show(50)"
   ]
  },
  {
   "cell_type": "code",
   "execution_count": null,
   "id": "ad934fdd",
   "metadata": {},
   "outputs": [],
   "source": [
    "query = fg1.select_all().join(fg2_nonhudi.select_all(), on=\"id\").join(fg3_nonhudi.select_all(), left_on=[\"id\", \"id2\"], right_on=[\"id\", \"id2\"])"
   ]
  },
  {
   "cell_type": "code",
   "execution_count": null,
   "id": "6d570ec3",
   "metadata": {},
   "outputs": [],
   "source": [
    "print(query.to_string())"
   ]
  },
  {
   "cell_type": "code",
   "execution_count": null,
   "id": "27902655",
   "metadata": {},
   "outputs": [],
   "source": [
    "query.read().sort(col(\"id\"),col(\"ts\")).show(50)"
   ]
  },
  {
   "cell_type": "code",
   "execution_count": null,
   "id": "1ebb18c6",
   "metadata": {},
   "outputs": [],
   "source": [
    "query.read(online=True).sort(col(\"id\"),col(\"ts\")).show(50)"
   ]
  },
  {
   "cell_type": "code",
   "execution_count": null,
   "id": "cd9af343",
   "metadata": {},
   "outputs": [],
   "source": [
    "ondmd = fs.get_on_demand_feature_group(\"season_features_on_demand\")\n",
    "teams = fs.get_feature_group(\"teams_features\")"
   ]
  },
  {
   "cell_type": "code",
   "execution_count": null,
   "id": "a40a05ad",
   "metadata": {},
   "outputs": [],
   "source": [
    "query = fg1.select_all().join(ondmd.select_all(), left_on=[\"id\"], right_on=[\"team_id\"])"
   ]
  },
  {
   "cell_type": "code",
   "execution_count": null,
   "id": "a2c91dbc",
   "metadata": {},
   "outputs": [],
   "source": [
    "print(query.to_string())"
   ]
  },
  {
   "cell_type": "code",
   "execution_count": null,
   "id": "c6682ceb",
   "metadata": {},
   "outputs": [],
   "source": [
    "query.read().sort(col(\"id\"),col(\"ts\")).show(50)"
   ]
  },
  {
   "cell_type": "code",
   "execution_count": null,
   "id": "66efddb3",
   "metadata": {},
   "outputs": [],
   "source": [
    "sc = fs.get_storage_connector(\"demo_fs_meb10000_meb10000_onlinefeaturestore\")"
   ]
  },
  {
   "cell_type": "code",
   "execution_count": null,
   "id": "b0c5ab6b",
   "metadata": {},
   "outputs": [],
   "source": [
    "fg3_ondmd = fs.create_on_demand_feature_group(\"fg3_ondmd\", sc, statistics_config=False, event_time=\"ts\", query=\"select * from fg3_1\")\n",
    "\n",
    "fg3_ondmd.save()"
   ]
  },
  {
   "cell_type": "code",
   "execution_count": null,
   "id": "1ba241d8",
   "metadata": {},
   "outputs": [],
   "source": [
    "fg3_ondmd.show(50)"
   ]
  },
  {
   "cell_type": "code",
   "execution_count": null,
   "id": "58560b66",
   "metadata": {},
   "outputs": [],
   "source": [
    "fg3_ondmd = fs.get_on_demand_feature_group(\"fg3_ondmd\")"
   ]
  },
  {
   "cell_type": "code",
   "execution_count": null,
   "id": "46d659d3",
   "metadata": {},
   "outputs": [],
   "source": [
    "query = fg1.select_all().join(fg2_nonhudi.select_all(), on=\"id\").join(fg3_ondmd.select_all(), left_on=[\"id\", \"id2\"], right_on=[\"id\", \"id2\"])"
   ]
  },
  {
   "cell_type": "code",
   "execution_count": null,
   "id": "96e22b7f",
   "metadata": {},
   "outputs": [],
   "source": [
    "print(query.to_string())"
   ]
  },
  {
   "cell_type": "code",
   "execution_count": null,
   "id": "dc388123",
   "metadata": {},
   "outputs": [],
   "source": [
    "query.read().sort(col(\"id\"),col(\"ts\")).show(50)"
   ]
  },
  {
   "cell_type": "code",
   "execution_count": null,
   "id": "98a84f07",
   "metadata": {},
   "outputs": [],
   "source": [
    "query.to_string(online=True)"
   ]
  },
  {
   "cell_type": "code",
   "execution_count": null,
   "id": "3c39aa27",
   "metadata": {},
   "outputs": [],
   "source": [
    "query.read(online=True).sort(col(\"id\"),col(\"ts\")).show(50)"
   ]
  },
  {
   "cell_type": "markdown",
   "id": "37676b3d",
   "metadata": {},
   "source": [
    "## PIT with filters"
   ]
  },
  {
   "cell_type": "code",
   "execution_count": null,
   "id": "0adf91a9",
   "metadata": {},
   "outputs": [],
   "source": [
    "fg1 = fs.get_feature_group(\"fg1\")\n",
    "fg2 = fs.get_feature_group(\"fg2\")\n",
    "fg3 = fs.get_feature_group(\"fg3\")"
   ]
  },
  {
   "cell_type": "code",
   "execution_count": null,
   "id": "76cd701b",
   "metadata": {},
   "outputs": [],
   "source": [
    "query = fg1.select_all().filter(fg1[\"id\"] == 1).join(fg2.select_all().filter(fg2[\"id\"] == 1), on=\"id\").join(fg3.select_all(), left_on=[\"id\", \"id2\"], right_on=[\"id\", \"id2\"])"
   ]
  },
  {
   "cell_type": "code",
   "execution_count": null,
   "id": "7cf1aa16",
   "metadata": {},
   "outputs": [],
   "source": [
    "print(query.to_string())"
   ]
  },
  {
   "cell_type": "code",
   "execution_count": null,
   "id": "37135bb9",
   "metadata": {},
   "outputs": [],
   "source": [
    "query.show(50)"
   ]
  },
  {
   "cell_type": "markdown",
   "id": "8f38f33d",
   "metadata": {},
   "source": [
    "## Features with default values"
   ]
  },
  {
   "cell_type": "code",
   "execution_count": null,
   "id": "d253dfe8",
   "metadata": {},
   "outputs": [],
   "source": [
    "from hsfs.feature import Feature\n",
    "from pyspark.sql.functions import lit"
   ]
  },
  {
   "cell_type": "code",
   "execution_count": null,
   "id": "f9c56b53",
   "metadata": {},
   "outputs": [],
   "source": [
    "fg1_default = fs.create_feature_group(\"fg1_default\", statistics_config=False, online_enabled=True, primary_key=[\"id\"], event_time=\"ts\")\n",
    "\n",
    "fg1_default.save(fg01.select([\"id\", \"label\", \"ts\"]))"
   ]
  },
  {
   "cell_type": "code",
   "execution_count": null,
   "id": "d7ce910b",
   "metadata": {},
   "outputs": [],
   "source": [
    "fg1_default_nonhudi = fs.create_feature_group(\"fg1_default_nonhudi\", statistics_config=False, online_enabled=True, primary_key=[\"id\"], event_time=\"ts\", time_travel_format=None)\n",
    "\n",
    "fg1_default_nonhudi.save(fg01.select([\"id\", \"label\", \"ts\"]))"
   ]
  },
  {
   "cell_type": "code",
   "execution_count": null,
   "id": "7d4f9dcc",
   "metadata": {},
   "outputs": [],
   "source": [
    "fg1_default.append_features([Feature(\"id2\", type=\"int\", default_value=\"10\")])"
   ]
  },
  {
   "cell_type": "code",
   "execution_count": null,
   "id": "325ba2ad",
   "metadata": {},
   "outputs": [],
   "source": [
    "fg1_default_nonhudi.append_features([Feature(\"id2\", type=\"int\", default_value=\"10\")])"
   ]
  },
  {
   "cell_type": "code",
   "execution_count": null,
   "id": "ccd9ff8f",
   "metadata": {},
   "outputs": [],
   "source": [
    "fg1_default = fs.get_feature_group(\"fg1_default\")\n",
    "fg1_default_nonhudi = fs.get_feature_group(\"fg1_default_nonhudi\")"
   ]
  },
  {
   "cell_type": "code",
   "execution_count": null,
   "id": "ad3122bd",
   "metadata": {},
   "outputs": [],
   "source": [
    "fg1_default.insert(fg01, storage=\"offline\")"
   ]
  },
  {
   "cell_type": "code",
   "execution_count": null,
   "id": "18ed1c40",
   "metadata": {},
   "outputs": [],
   "source": [
    "fg1_default.select_all().show(50)"
   ]
  },
  {
   "cell_type": "code",
   "execution_count": null,
   "id": "202eee61",
   "metadata": {},
   "outputs": [],
   "source": [
    "fg1_default.select_all().to_string()"
   ]
  },
  {
   "cell_type": "code",
   "execution_count": null,
   "id": "083f3d17",
   "metadata": {},
   "outputs": [],
   "source": [
    "query = fg1_default.select_all().join(fg2.select_all(), on=\"id\").join(fg3.select_all(), left_on=[\"id\", \"id2\"], right_on=[\"id\", \"id2\"])"
   ]
  },
  {
   "cell_type": "code",
   "execution_count": null,
   "id": "73145573",
   "metadata": {},
   "outputs": [],
   "source": [
    "print(query.to_string())"
   ]
  },
  {
   "cell_type": "code",
   "execution_count": null,
   "id": "4d99a794",
   "metadata": {},
   "outputs": [],
   "source": [
    "query.read().show(50)"
   ]
  },
  {
   "cell_type": "code",
   "execution_count": null,
   "id": "89e1046e",
   "metadata": {},
   "outputs": [],
   "source": [
    "sc = fs.get_storage_connector(\"demo_fs_meb10000_Training_Datasets\")"
   ]
  },
  {
   "cell_type": "code",
   "execution_count": null,
   "id": "33e2d094",
   "metadata": {},
   "outputs": [],
   "source": [
    "td = fs.create_training_dataset(\"time_travel\", statistics_config=False, data_format=\"csv\", storage_connector=sc)"
   ]
  },
  {
   "cell_type": "code",
   "execution_count": null,
   "id": "4b760b42",
   "metadata": {},
   "outputs": [],
   "source": [
    "td.save(query)"
   ]
  },
  {
   "cell_type": "code",
   "execution_count": null,
   "id": "409c7865",
   "metadata": {},
   "outputs": [],
   "source": [
    "td = fs.get_training_dataset(\"time_travel\")"
   ]
  },
  {
   "cell_type": "code",
   "execution_count": null,
   "id": "c27e37cd",
   "metadata": {},
   "outputs": [],
   "source": [
    "td.query"
   ]
  },
  {
   "cell_type": "code",
   "execution_count": null,
   "id": "39145be0",
   "metadata": {},
   "outputs": [],
   "source": [
    "print(td.get_query(False))"
   ]
  },
  {
   "cell_type": "code",
   "execution_count": null,
   "id": "aaaa9231",
   "metadata": {},
   "outputs": [],
   "source": [
    "query = fg1_default.select_all().join(fg2.select_all(), on=\"id\").join(fg3.select_all(), left_on=[\"id\", \"id2\"], right_on=[\"id\", \"id2\"], prefix=\"right_\")"
   ]
  },
  {
   "cell_type": "code",
   "execution_count": null,
   "id": "f5756a61",
   "metadata": {},
   "outputs": [],
   "source": [
    "print(query.to_string())"
   ]
  },
  {
   "cell_type": "code",
   "execution_count": null,
   "id": "232d8eb5",
   "metadata": {},
   "outputs": [],
   "source": [
    "td = fs.create_training_dataset(\"time_travel_prefix\", statistics_config=False, data_format=\"csv\", storage_connector=sc)"
   ]
  },
  {
   "cell_type": "code",
   "execution_count": null,
   "id": "571627a9",
   "metadata": {},
   "outputs": [],
   "source": [
    "td.save(query)"
   ]
  },
  {
   "cell_type": "code",
   "execution_count": null,
   "id": "36f5527a",
   "metadata": {},
   "outputs": [],
   "source": [
    "query.read().show(50)"
   ]
  },
  {
   "cell_type": "code",
   "execution_count": null,
   "id": "afc5b549",
   "metadata": {},
   "outputs": [],
   "source": [
    "print(td.get_query(False))"
   ]
  },
  {
   "cell_type": "code",
   "execution_count": null,
   "id": "bf18080a",
   "metadata": {},
   "outputs": [],
   "source": [
    "td.query"
   ]
  },
  {
   "cell_type": "code",
   "execution_count": null,
   "id": "633f1853",
   "metadata": {},
   "outputs": [],
   "source": [
    "print(query.as_of(\"20210706150910\").to_string())"
   ]
  },
  {
   "cell_type": "code",
   "execution_count": null,
   "id": "b0ad4c61",
   "metadata": {},
   "outputs": [],
   "source": [
    "fg1_default.commit_details()"
   ]
  },
  {
   "cell_type": "code",
   "execution_count": null,
   "id": "4e89d988",
   "metadata": {},
   "outputs": [],
   "source": [
    "td = fs.create_training_dataset(\"time_travel_pit\", statistics_config=False, data_format=\"csv\", storage_connector=sc)"
   ]
  },
  {
   "cell_type": "code",
   "execution_count": null,
   "id": "69d0a032",
   "metadata": {},
   "outputs": [],
   "source": [
    "td.save(query.as_of(\"20210706150910\"))"
   ]
  },
  {
   "cell_type": "code",
   "execution_count": null,
   "id": "788ec2bd",
   "metadata": {},
   "outputs": [],
   "source": [
    "fg = fs.get_feature_group(\"games_features_hudi_tour\")"
   ]
  },
  {
   "cell_type": "code",
   "execution_count": null,
   "id": "f8a4d5b1",
   "metadata": {},
   "outputs": [],
   "source": [
    "fg.read().show(30)"
   ]
  },
  {
   "cell_type": "code",
   "execution_count": null,
   "id": "da89304d",
   "metadata": {},
   "outputs": [],
   "source": []
  },
  {
   "cell_type": "code",
   "execution_count": null,
   "id": "6a42784c",
   "metadata": {},
   "outputs": [],
   "source": []
  }
 ],
 "metadata": {
  "interpreter": {
   "hash": "5d909cb89905cc4ef174c43c1327b5138e955666d355a4b7d401365a95a276c9"
  },
  "kernelspec": {
   "display_name": "PySpark",
   "language": "python",
   "name": "pysparkkernel"
  },
  "language_info": {
   "codemirror_mode": {
    "name": "python",
    "version": 3
   },
   "mimetype": "text/x-python",
   "name": "pyspark",
   "pygments_lexer": "python3"
  }
 },
 "nbformat": 4,
 "nbformat_minor": 5
}