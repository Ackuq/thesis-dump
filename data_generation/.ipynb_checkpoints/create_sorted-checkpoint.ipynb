{
 "cells": [
  {
   "cell_type": "code",
   "execution_count": 49,
   "id": "28266be8",
   "metadata": {},
   "outputs": [],
   "source": [
    "import hsfs\n",
    "import boto3\n",
    "from pyspark.sql import DataFrame"
   ]
  },
  {
   "cell_type": "code",
   "execution_count": 2,
   "id": "a76d905a",
   "metadata": {},
   "outputs": [
    {
     "name": "stdout",
     "output_type": "stream",
     "text": [
      "Connected. Call `.close()` to terminate connection gracefully."
     ]
    }
   ],
   "source": [
    "connection = hsfs.connection()\n",
    "fs = connection.get_feature_store()\n",
    "\n",
    "# Storage connector to s3\n",
    "sc = fs.get_storage_connector(\"experiment-s3\")\n"
   ]
  },
  {
   "cell_type": "code",
   "execution_count": 5,
   "id": "d16de20d",
   "metadata": {},
   "outputs": [],
   "source": [
    "sc.prepare_spark()"
   ]
  },
  {
   "cell_type": "code",
   "execution_count": 7,
   "id": "942cfa82",
   "metadata": {},
   "outputs": [],
   "source": [
    "s3_directory = \"s3a://\" + sc.bucket + \"/axel_experiments\""
   ]
  },
  {
   "cell_type": "code",
   "execution_count": 8,
   "id": "a37a4434",
   "metadata": {},
   "outputs": [],
   "source": [
    "def save(ids, max_ts, direction: str, left: DataFrame, right: DataFrame):\n",
    "    directory = s3_directory + \"/sorted-{}/{}-{}\".format(direction, ids, max_ts)\n",
    "    left.write.parquet(directory + \"/left.parquet\", mode=\"overwrite\")\n",
    "    # left.to_csv(directory + \"/debug_left.csv\")\n",
    "    right.write.parquet(directory + \"/right.parquet\", mode=\"overwrite\")\n",
    "    # right.to_csv(directory + \"/debug_right.csv\")"
   ]
  },
  {
   "cell_type": "code",
   "execution_count": null,
   "id": "87b4b981",
   "metadata": {},
   "outputs": [],
   "source": [
    "def load_data(experiment_directory: str):\n",
    "    left_raw = s3_directory + \"/raw/\""
   ]
  },
  {
   "cell_type": "code",
   "execution_count": 41,
   "id": "c8d624e5",
   "metadata": {},
   "outputs": [],
   "source": [
    "client = boto3.client(\n",
    "    \"s3\",\n",
    "    aws_access_key_id=sc._access_key,\n",
    "    aws_secret_access_key=sc._secret_key,\n",
    ")"
   ]
  },
  {
   "cell_type": "code",
   "execution_count": 51,
   "id": "ac369ec0",
   "metadata": {},
   "outputs": [],
   "source": [
    "folders_results = client.list_objects(Bucket=sc.bucket, Prefix=\"axel_experiments/raw/\", Delimiter='/')"
   ]
  },
  {
   "cell_type": "code",
   "execution_count": 53,
   "id": "d2f06c8b",
   "metadata": {},
   "outputs": [
    {
     "name": "stdout",
     "output_type": "stream",
     "text": [
      "['axel_experiments/raw/10000-1_year/', 'axel_experiments/raw/100000-1_year/', 'axel_experiments/raw/1000000-1_year/', 'axel_experiments/raw/10000000-1_year/']"
     ]
    }
   ],
   "source": [
    "experiment_ids = []\n",
    "\n",
    "for folder in folders_results.get(\"CommonPrefixes\"):\n",
    "    folder_name = folder.get(\"Prefix\")\n",
    "    experiment_ids.append(folder_name.split(\"/\")[2])\n",
    "experiment_ids"
   ]
  },
  {
   "cell_type": "code",
   "execution_count": null,
   "id": "650f3b67",
   "metadata": {},
   "outputs": [],
   "source": [
    "def handle_experiment(experiment_id: str):\n",
    "    "
   ]
  }
 ],
 "metadata": {
  "kernelspec": {
   "display_name": "PySpark",
   "language": "python",
   "name": "pysparkkernel"
  },
  "language_info": {
   "codemirror_mode": {
    "name": "python",
    "version": 3
   },
   "mimetype": "text/x-python",
   "name": "pyspark",
   "pygments_lexer": "python3"
  }
 },
 "nbformat": 4,
 "nbformat_minor": 5
}